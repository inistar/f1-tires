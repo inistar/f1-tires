{
 "cells": [
  {
   "cell_type": "code",
   "execution_count": 70,
   "metadata": {
    "collapsed": false
   },
   "outputs": [],
   "source": [
    "import pandas as pd\n",
    "import numpy as np\n",
    "import datetime\n",
    "import os\n",
    "from collections import defaultdict\n",
    "import scripts.f1_scripts  as f1\n",
    "\n",
    "\n",
    "class Track(object):\n",
    "    def __init__(self):\n",
    "        self.track = track\n",
    "        self.features = None\n",
    "\n",
    "    def fit(self, track, air_temp_min, air_temp_max, track_temp):\n",
    "        self.track = track\n",
    "        tracks = f1.load_tracks()\n",
    "        tracks['AIR_TEMP_MAX'] = air_temp_max\n",
    "        tracks['AIR_TEMP_MIN'] = air_temp_min\n",
    "        tracks['T_TEMP_MAX'] = track_temp\n",
    "        self.features = tracks[tracks['TRACK'] == self.track]\n",
    "    \n",
    "\n",
    "class DriverStrategy(object):\n",
    "    def __init__(self):\n",
    "        self.features = None\n",
    "\n",
    "    def fit(self, strategy):\n",
    "        \"\"\"Convert list of tuples into Series\"\"\"\n",
    "        tires = []\n",
    "        stint_laps = []\n",
    "        for tire, lap_count in strategy:\n",
    "            stint_count = 1\n",
    "            for lap in xrange(lap_count):\n",
    "                tires.append(tire)\n",
    "                stint_laps.append(stint_count)\n",
    "                stint_count += 1\n",
    "        laps = np.arange(1, len(tires) + 1, 1)\n",
    "        self.features = pd.DataFrame({'TIRE': tires, 'LAP': laps, 'STINT_LAP': stint_laps})\n",
    "\n",
    "\n",
    "\n",
    "\n",
    "class RaceSim(object):\n",
    "    def __init__(self, estimator, strategy, track, air_temp_min, air_temp_max, track_temp):\n",
    "        self.estimator = estimator\n",
    "        self.strategy = strategy\n",
    "#         self.params = estimator.params\n",
    "        self.track = track\n",
    "        self.air_temp_min = air_temp_min\n",
    "        self.air_temp_max = air_temp_max\n",
    "        self.track_temp = track_temp\n",
    "        self.estimator = estimator\n",
    "        self.features = None\n",
    "\n",
    "    def build_strategy(self):\n",
    "        driver = DriverStrategy()\n",
    "        driver.fit(self.strategy)\n",
    "        driver_features = driver.features\n",
    "        driver_features['TRACK'] = self.track\n",
    "        track = Track()\n",
    "        track.fit(self.track, self.air_temp_min, self.air_temp_max, self.track_temp)\n",
    "        track_features = track.features\n",
    "        self.features = pd.merge(driver_features, track_features, how='left', on='TRACK')\n",
    "        self.features.drop('TRACK', axis=1, inplace=True)\n",
    "        \n",
    "        "
   ]
  },
  {
   "cell_type": "code",
   "execution_count": 71,
   "metadata": {
    "collapsed": false
   },
   "outputs": [],
   "source": [
    "strat = [('soft', 3), ('hard', 2), ('medium', 1)]\n",
    "russia_2016 = RaceSim('model', strat, 'russia', 24.9, 30.5, 33.2)"
   ]
  },
  {
   "cell_type": "code",
   "execution_count": 72,
   "metadata": {
    "collapsed": false
   },
   "outputs": [],
   "source": [
    "russia_2016.build_strategy()"
   ]
  },
  {
   "cell_type": "code",
   "execution_count": null,
   "metadata": {
    "collapsed": true
   },
   "outputs": [],
   "source": []
  },
  {
   "cell_type": "code",
   "execution_count": null,
   "metadata": {
    "collapsed": true
   },
   "outputs": [],
   "source": []
  }
 ],
 "metadata": {
  "kernelspec": {
   "display_name": "Python 2",
   "language": "python",
   "name": "python2"
  }
 },
 "nbformat": 4,
 "nbformat_minor": 0
}
