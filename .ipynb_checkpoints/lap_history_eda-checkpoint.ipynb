{
 "cells": [
  {
   "cell_type": "code",
   "execution_count": null,
   "metadata": {
    "collapsed": false
   },
   "outputs": [],
   "source": [
    "ls data/2016_1_austrailia/"
   ]
  },
  {
   "cell_type": "code",
   "execution_count": 67,
   "metadata": {
    "collapsed": true
   },
   "outputs": [],
   "source": [
    "import pandas as pd\n",
    "import numpy as np\n",
    "import datetime"
   ]
  },
  {
   "cell_type": "code",
   "execution_count": 79,
   "metadata": {
    "collapsed": false
   },
   "outputs": [
    {
     "name": "stderr",
     "output_type": "stream",
     "text": [
      "/Users/milesmonaghan/anaconda/lib/python2.7/site-packages/matplotlib/font_manager.py:273: UserWarning: Matplotlib is building the font cache using fc-list. This may take a moment.\n",
      "  warnings.warn('Matplotlib is building the font cache using fc-list. This may take a moment.')\n"
     ]
    }
   ],
   "source": [
    "import matplotlib.pyplot as plt\n",
    "%matplotlib inline"
   ]
  },
  {
   "cell_type": "code",
   "execution_count": null,
   "metadata": {
    "collapsed": true
   },
   "outputs": [],
   "source": [
    "driver_list = pd.read_csv('data/2016_1_austrailia/history_test.csv', header=None)"
   ]
  },
  {
   "cell_type": "code",
   "execution_count": 68,
   "metadata": {
    "collapsed": false
   },
   "outputs": [],
   "source": [
    "df = pd.read_csv('data/2016_1_austrailia/history_test.csv', header=None)\n",
    "df.columns = ['NO', 'GAP', 'TIME']\n",
    "df['LAP'] = 1"
   ]
  },
  {
   "cell_type": "code",
   "execution_count": 69,
   "metadata": {
    "collapsed": false
   },
   "outputs": [],
   "source": [
    "def assign_lap(df):\n",
    "    cols = df.columns\n",
    "    drivers = df['NO'].unique()\n",
    "    data = df.values\n",
    "    for driver in drivers:\n",
    "        data[data[:,0] == driver, 3] = data[data[:,0] == driver, 3].cumsum()\n",
    "    return pd.DataFrame(data=data, columns=cols)"
   ]
  },
  {
   "cell_type": "code",
   "execution_count": 70,
   "metadata": {
    "collapsed": false
   },
   "outputs": [],
   "source": [
    "df = assign_lap(df)"
   ]
  },
  {
   "cell_type": "code",
   "execution_count": 71,
   "metadata": {
    "collapsed": false
   },
   "outputs": [],
   "source": [
    "# df\n",
    "df.sort_values(by=['NO', 'LAP'], inplace=True)"
   ]
  },
  {
   "cell_type": "code",
   "execution_count": 72,
   "metadata": {
    "collapsed": false
   },
   "outputs": [
    {
     "name": "stdout",
     "output_type": "stream",
     "text": [
      "<class 'pandas.core.frame.DataFrame'>\n",
      "Int64Index: 1016 entries, 8 to 1014\n",
      "Data columns (total 4 columns):\n",
      "NO      1016 non-null object\n",
      "GAP     960 non-null object\n",
      "TIME    1016 non-null object\n",
      "LAP     1016 non-null object\n",
      "dtypes: object(4)\n",
      "memory usage: 39.7+ KB\n",
      "None\n",
      "   NO      GAP      TIME LAP\n",
      "8   3   6.860   1:43.776   1\n",
      "29  3   9.466   1:34.270   2\n",
      "50  3  11.249   1:33.950   3\n",
      "71  3  13.149   1:33.914   4\n",
      "91  3  13.891   1:33.015   5\n"
     ]
    }
   ],
   "source": [
    "print df.info()\n",
    "print df.head()"
   ]
  },
  {
   "cell_type": "code",
   "execution_count": 73,
   "metadata": {
    "collapsed": false
   },
   "outputs": [],
   "source": [
    "# df = pd.DataFrame({'Time':['1:10,10', '1:16,32', '3:03,04']})\n",
    "# df['time'] = df.Time.apply(lambda x: datetime.datetime.strptime(x,'%M:%S,%f'))\n",
    "# df['timedelta'] = df.time - datetime.datetime.strptime('00:00,0','%M:%S,%f')\n",
    "# df['secs'] = df['timedelta'].apply(lambda x: x / np.timedelta64(1, 's'))\n",
    "# print df\n",
    "df['TIME'] = df['TIME'].apply(lambda x: x.strip())\n",
    "df['TIME'] = df['TIME'].apply(lambda x: datetime.datetime.strptime(x,'%M:%S.%f'))\n",
    "df['timedelta'] = df.TIME - datetime.datetime.strptime('00:00.0','%M:%S.%f')\n",
    "df['secs'] = df['timedelta'].apply(lambda x: x / np.timedelta64(1, 's'))\n"
   ]
  },
  {
   "cell_type": "code",
   "execution_count": 75,
   "metadata": {
    "collapsed": true
   },
   "outputs": [
    {
     "data": {
      "text/plain": [
       "8        103.776\n",
       "29        94.270\n",
       "50        93.950\n",
       "71        93.914\n",
       "91        93.015\n",
       "111       92.583\n",
       "132       92.743\n",
       "152       92.992\n",
       "173       93.119\n",
       "193       92.855\n",
       "214       92.708\n",
       "237      110.524\n",
       "260       96.994\n",
       "278       93.552\n",
       "299       92.303\n",
       "317       92.520\n",
       "338      106.970\n",
       "357      190.570\n",
       "375     1198.834\n",
       "393       92.401\n",
       "411       91.470\n",
       "428       91.445\n",
       "445       91.278\n",
       "462       91.453\n",
       "479       91.517\n",
       "496       91.845\n",
       "513       91.954\n",
       "530       91.894\n",
       "547       92.044\n",
       "564       92.225\n",
       "          ...   \n",
       "525       95.097\n",
       "542       94.506\n",
       "559       94.602\n",
       "575       94.833\n",
       "592       94.280\n",
       "612      114.777\n",
       "629      101.297\n",
       "646       92.673\n",
       "663       92.972\n",
       "680       93.064\n",
       "697       93.682\n",
       "715       95.761\n",
       "731       93.994\n",
       "747       94.316\n",
       "763       95.147\n",
       "780       96.344\n",
       "797       96.021\n",
       "813       94.458\n",
       "829       95.023\n",
       "845       95.005\n",
       "862       96.832\n",
       "878       95.026\n",
       "895       98.154\n",
       "911       95.044\n",
       "927       95.305\n",
       "943       97.491\n",
       "959       97.817\n",
       "980      102.631\n",
       "997       98.969\n",
       "1014      97.329\n",
       "Name: secs, dtype: float64"
      ]
     },
     "execution_count": 75,
     "metadata": {},
     "output_type": "execute_result"
    }
   ],
   "source": [
    "df['secs']"
   ]
  },
  {
   "cell_type": "code",
   "execution_count": 76,
   "metadata": {
    "collapsed": false
   },
   "outputs": [
    {
     "data": {
      "text/html": [
       "<div>\n",
       "<table border=\"1\" class=\"dataframe\">\n",
       "  <thead>\n",
       "    <tr style=\"text-align: right;\">\n",
       "      <th></th>\n",
       "      <th>NO</th>\n",
       "      <th>GAP</th>\n",
       "      <th>TIME</th>\n",
       "      <th>LAP</th>\n",
       "      <th>timedelta</th>\n",
       "      <th>secs</th>\n",
       "    </tr>\n",
       "  </thead>\n",
       "  <tbody>\n",
       "    <tr>\n",
       "      <th>8</th>\n",
       "      <td>3</td>\n",
       "      <td>6.860</td>\n",
       "      <td>1900-01-01 00:01:43.776</td>\n",
       "      <td>1</td>\n",
       "      <td>00:01:43.776000</td>\n",
       "      <td>103.776</td>\n",
       "    </tr>\n",
       "    <tr>\n",
       "      <th>29</th>\n",
       "      <td>3</td>\n",
       "      <td>9.466</td>\n",
       "      <td>1900-01-01 00:01:34.270</td>\n",
       "      <td>2</td>\n",
       "      <td>00:01:34.270000</td>\n",
       "      <td>94.270</td>\n",
       "    </tr>\n",
       "    <tr>\n",
       "      <th>50</th>\n",
       "      <td>3</td>\n",
       "      <td>11.249</td>\n",
       "      <td>1900-01-01 00:01:33.950</td>\n",
       "      <td>3</td>\n",
       "      <td>00:01:33.950000</td>\n",
       "      <td>93.950</td>\n",
       "    </tr>\n",
       "    <tr>\n",
       "      <th>71</th>\n",
       "      <td>3</td>\n",
       "      <td>13.149</td>\n",
       "      <td>1900-01-01 00:01:33.914</td>\n",
       "      <td>4</td>\n",
       "      <td>00:01:33.914000</td>\n",
       "      <td>93.914</td>\n",
       "    </tr>\n",
       "    <tr>\n",
       "      <th>91</th>\n",
       "      <td>3</td>\n",
       "      <td>13.891</td>\n",
       "      <td>1900-01-01 00:01:33.015</td>\n",
       "      <td>5</td>\n",
       "      <td>00:01:33.015000</td>\n",
       "      <td>93.015</td>\n",
       "    </tr>\n",
       "  </tbody>\n",
       "</table>\n",
       "</div>"
      ],
      "text/plain": [
       "   NO      GAP                    TIME LAP       timedelta     secs\n",
       "8   3   6.860  1900-01-01 00:01:43.776   1 00:01:43.776000  103.776\n",
       "29  3   9.466  1900-01-01 00:01:34.270   2 00:01:34.270000   94.270\n",
       "50  3  11.249  1900-01-01 00:01:33.950   3 00:01:33.950000   93.950\n",
       "71  3  13.149  1900-01-01 00:01:33.914   4 00:01:33.914000   93.914\n",
       "91  3  13.891  1900-01-01 00:01:33.015   5 00:01:33.015000   93.015"
      ]
     },
     "execution_count": 76,
     "metadata": {},
     "output_type": "execute_result"
    }
   ],
   "source": [
    "df.head()"
   ]
  },
  {
   "cell_type": "code",
   "execution_count": 77,
   "metadata": {
    "collapsed": true
   },
   "outputs": [],
   "source": [
    "ric = df[['LAP', 'secs']][df['NO'] == 3]"
   ]
  },
  {
   "cell_type": "code",
   "execution_count": 81,
   "metadata": {
    "collapsed": false
   },
   "outputs": [
    {
     "data": {
      "text/plain": [
       "[<matplotlib.lines.Line2D at 0x109141590>]"
      ]
     },
     "execution_count": 81,
     "metadata": {},
     "output_type": "execute_result"
    },
    {
     "data": {
      "image/png": "[encoded data removed]",
      "text/plain": [
       "<matplotlib.figure.Figure at 0x106acfdd0>"
      ]
     },
     "metadata": {},
     "output_type": "display_data"
    }
   ],
   "source": [
    "plt.plot(ric['LAP'], ric['secs'])"
   ]
  },
  {
   "cell_type": "code",
   "execution_count": 118,
   "metadata": {
    "collapsed": false
   },
   "outputs": [],
   "source": [
    "tires = pd.read_csv('data/2016_1_austrailia/2016_1_tires.csv')"
   ]
  },
  {
   "cell_type": "code",
   "execution_count": 119,
   "metadata": {
    "collapsed": false
   },
   "outputs": [],
   "source": [
    "tires = tires.values"
   ]
  },
  {
   "cell_type": "code",
   "execution_count": 147,
   "metadata": {
    "collapsed": false,
    "scrolled": true
   },
   "outputs": [],
   "source": [
    "def get_strategies(arr):\n",
    "    all_strategies = []\n",
    "    for row in arr:\n",
    "        driver = row[0]\n",
    "        strategy = []\n",
    "        for item in row[1:]:\n",
    "            try:\n",
    "                tire, laps = item.split()\n",
    "                laps = int(laps.replace('(', '').replace(')', ''))\n",
    "                stint = []\n",
    "                for i in xrange(laps):\n",
    "                    stint.append(tire)\n",
    "                strategy.extend(stint)\n",
    "            except:\n",
    "                pass\n",
    "        all_strategies.append([driver, strategy])\n",
    "    return all_strategies"
   ]
  },
  {
   "cell_type": "code",
   "execution_count": 148,
   "metadata": {
    "collapsed": true
   },
   "outputs": [],
   "source": [
    "tire_strat = get_strategies(tires)"
   ]
  },
  {
   "cell_type": "code",
   "execution_count": 150,
   "metadata": {
    "collapsed": false
   },
   "outputs": [
    {
     "data": {
      "text/plain": [
       "'Nico Rosberg'"
      ]
     },
     "execution_count": 150,
     "metadata": {},
     "output_type": "execute_result"
    }
   ],
   "source": [
    "tire_strat[0][0]"
   ]
  },
  {
   "cell_type": "code",
   "execution_count": null,
   "metadata": {
    "collapsed": true
   },
   "outputs": [],
   "source": []
  }
 ],
 "metadata": {
  "kernelspec": {
   "display_name": "Python 2",
   "language": "python",
   "name": "python2"
  },
  "language_info": {
   "codemirror_mode": {
    "name": "ipython",
    "version": 2
   },
   "file_extension": ".py",
   "mimetype": "text/x-python",
   "name": "python",
   "nbconvert_exporter": "python",
   "pygments_lexer": "ipython2",
   "version": "2.7.11"
  }
 },
 "nbformat": 4,
 "nbformat_minor": 0
}
