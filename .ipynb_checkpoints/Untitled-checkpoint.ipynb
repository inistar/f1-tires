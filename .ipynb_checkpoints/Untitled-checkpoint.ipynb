{
 "cells": [
  {
   "cell_type": "code",
   "execution_count": 26,
   "metadata": {
    "collapsed": false
   },
   "outputs": [],
   "source": [
    "import pandas as pd\n",
    "import numpy as np\n",
    "import datetime\n",
    "import os\n",
    "from scripts.f1_scripts import (assign_lap, \n",
    "                        get_tires, \n",
    "                        get_sector_times,\n",
    "                        convert_time\n",
    "                               )\n",
    "\n",
    "import statsmodels.api as sms\n",
    "from sklearn.linear_model import LinearRegression\n",
    "from sklearn.cross_validation import KFold\n",
    "from sklearn.cross_validation import train_test_split\n",
    "from sklearn.cross_validation import cross_val_score"
   ]
  },
  {
   "cell_type": "code",
   "execution_count": 13,
   "metadata": {
    "collapsed": false
   },
   "outputs": [
    {
     "name": "stderr",
     "output_type": "stream",
     "text": [
      "/Users/milesmonaghan/anaconda/lib/python2.7/site-packages/matplotlib/font_manager.py:273: UserWarning: Matplotlib is building the font cache using fc-list. This may take a moment.\n",
      "  warnings.warn('Matplotlib is building the font cache using fc-list. This may take a moment.')\n"
     ]
    }
   ],
   "source": [
    "import matplotlib.pyplot as plt\n",
    "import seaborn as sn\n",
    "%matplotlib inline\n",
    "\n",
    "def assign_color(tire):\n",
    "    colors = {'Ultra': 'm', 'Super': 'r', 'Soft': 'y', 'Medium': 'w', 'Hard': 'k', 'Intermediate': 'g'}\n",
    "    return colors[tire]\n",
    "\n",
    "def assign_ordinal(tire):\n",
    "    vals = {'Ultra': 1, 'Super': 2, 'Soft': 3, 'Medium': 4, 'Hard': 5, 'Intermediate': 5}\n",
    "    return vals[tire]"
   ]
  },
  {
   "cell_type": "code",
   "execution_count": 2,
   "metadata": {
    "collapsed": true
   },
   "outputs": [],
   "source": [
    "# Load driver list as GLOBAL variable\n",
    "DRIVER_LIST = pd.read_csv('data/drivers.csv')"
   ]
  },
  {
   "cell_type": "code",
   "execution_count": 3,
   "metadata": {
    "collapsed": true
   },
   "outputs": [],
   "source": [
    "def create_race_features(filename):\n",
    "    year, race_num, track = filename.split('_')\n",
    "    # Load lap times for all drivers\n",
    "    lap_data = pd.read_csv('data/lap_history/{filename}_lap_history.csv'.format(filename=filename), header=None)\n",
    "    lap_times = assign_lap(lap_data)\n",
    "    lap_times['TIME'] = convert_time(lap_times['TIME'])\n",
    "    lap_times.sort_values(by=['NO', 'LAP'], inplace=True)\n",
    "\n",
    "    # Load Tire strategy data\n",
    "    tire_data = pd.read_csv('data/tire_strategy/{filename}.csv'.format(filename=filename))\n",
    "    tire_strat = get_tires(tire_data)\n",
    "\n",
    "    # Join Driver, Name, No. to tire data and sort by No.\n",
    "    tire_strat = pd.merge(DRIVER_LIST, tire_strat, on='NAME')\n",
    "    tire_strat.drop(['NAME', 'DRIVER'], axis=1, inplace=True)\n",
    "\n",
    "    # Append tire data to lap data\n",
    "    mask = tire_strat.iloc[:,1:].notnull().values\n",
    "    lap_times['TIRE'] = tire_strat[tire_strat.columns[1:]].values[mask].flatten()\n",
    "    lap_times['TRACK'] = track\n",
    "    lap_times['YEAR'] = year\n",
    "    lap_times['RACE'] = race_num\n",
    "\n",
    "    return lap_times\n"
   ]
  },
  {
   "cell_type": "code",
   "execution_count": 4,
   "metadata": {
    "collapsed": false
   },
   "outputs": [],
   "source": [
    "# Create a list of the available races to date that we can use for training\n",
    "races = os.listdir('data/fia')\n",
    "races = races[1:]\n",
    "# Remove bahrain 2015 until data is fixed\n",
    "races.pop(13)\n",
    "races;"
   ]
  },
  {
   "cell_type": "code",
   "execution_count": 5,
   "metadata": {
    "collapsed": false
   },
   "outputs": [
    {
     "name": "stdout",
     "output_type": "stream",
     "text": [
      "2015_10_hungary complete.\n",
      "2015_11_belgium complete.\n",
      "2015_12_italy complete.\n",
      "2015_13_singapore complete.\n",
      "2015_14_japan complete.\n",
      "2015_15_russia complete.\n",
      "2015_16_usa complete.\n",
      "2015_17_mexico complete.\n",
      "2015_18_brazil complete.\n",
      "2015_19_abudhabi complete.\n",
      "2015_1_australia complete.\n",
      "2015_2_malaysia complete.\n",
      "2015_3_china complete.\n",
      "2015_5_spain complete.\n",
      "2015_6_monaco complete.\n",
      "2015_7_canada complete.\n",
      "2015_8_austria complete.\n",
      "2015_9_britain complete.\n",
      "2016_1_australia complete.\n",
      "2016_2_bahrain complete.\n",
      "2016_3_china complete.\n"
     ]
    }
   ],
   "source": [
    "# Create DataFrame of all laps for all drivers in all races\n",
    "list_of_times = []\n",
    "for race in races:\n",
    "    lap_times = create_race_features(race)\n",
    "    list_of_times.append(lap_times)\n",
    "    print '{} complete.'.format(race)\n",
    "all_lap_times = pd.concat(list_of_times)\n",
    "all_lap_times['YEAR'] = all_lap_times['YEAR'].astype(int)\n",
    "\n"
   ]
  },
  {
   "cell_type": "markdown",
   "metadata": {},
   "source": [
    "### Commented out cells used to debug loading the data"
   ]
  },
  {
   "cell_type": "code",
   "execution_count": null,
   "metadata": {
    "collapsed": false,
    "scrolled": true
   },
   "outputs": [],
   "source": [
    "# # Load driver list for particular season\n",
    "# driver_list = pd.read_csv('data/drivers.csv')\n",
    "\n",
    "# # Load lap times for all drivers\n",
    "# filename = '2016_3_china'\n",
    "# lap_data = pd.read_csv('data/lap_history/{filename}_lap_history.csv'.format(filename=filename), header=None)\n",
    "# lap_times = assign_lap(lap_data)\n",
    "# lap_times['TIME'] = convert_time(lap_times['TIME'])\n",
    "# lap_times.sort_values(by=['NO', 'LAP'], inplace=True)\n",
    "# lap_times.shape"
   ]
  },
  {
   "cell_type": "code",
   "execution_count": null,
   "metadata": {
    "collapsed": false
   },
   "outputs": [],
   "source": [
    "# # Load Tire strategy data\n",
    "# tire_data = pd.read_csv('data/tire_strategy/{filename}.csv'.format(filename=filename))\n",
    "# tire_strat = get_tires(tire_data)\n",
    "# tire_strat['NAME'].unique;"
   ]
  },
  {
   "cell_type": "code",
   "execution_count": null,
   "metadata": {
    "collapsed": false
   },
   "outputs": [],
   "source": [
    "# # Join Driver, Name, No. to tire data and sort by No.\n",
    "# tire_strat = pd.merge(driver_list, tire_strat, on='NAME')\n",
    "# tire_strat.drop(['NAME', 'DRIVER'], axis=1, inplace=True)\n",
    "# tire_strat;"
   ]
  },
  {
   "cell_type": "code",
   "execution_count": null,
   "metadata": {
    "collapsed": false
   },
   "outputs": [],
   "source": [
    "# # Append tire data to lap data\n",
    "# mask = tire_strat.iloc[:,1:].notnull().values\n",
    "# # lap_times['TIRE'] = \n",
    "# tire_strat[tire_strat.columns[1:]].values[mask].flatten().shape\n",
    "# # lap_times['TRACK'] = 'Australia'\n",
    "# # lap_times['YEAR'] = 2016\n",
    "# # lap_times['RACE'] = 1\n",
    "# # lap_times"
   ]
  },
  {
   "cell_type": "code",
   "execution_count": null,
   "metadata": {
    "collapsed": false,
    "scrolled": true
   },
   "outputs": [],
   "source": [
    "# for num in lap_times['NO'].unique():\n",
    "#     print num\n",
    "#     print lap_times[lap_times['NO'] == num].shape"
   ]
  },
  {
   "cell_type": "code",
   "execution_count": null,
   "metadata": {
    "collapsed": false,
    "scrolled": true
   },
   "outputs": [],
   "source": [
    "# for num in lap_times['NO'].unique():\n",
    "#     print num\n",
    "#     print 'Laps: ',tire_strat.ix[tire_strat['NO'] == num].notnull().values.sum() - 1"
   ]
  },
  {
   "cell_type": "markdown",
   "metadata": {},
   "source": [
    "### Add track features to lap features data frame"
   ]
  },
  {
   "cell_type": "code",
   "execution_count": 6,
   "metadata": {
    "collapsed": false
   },
   "outputs": [
    {
     "data": {
      "text/html": [
       "<div>\n",
       "<table border=\"1\" class=\"dataframe\">\n",
       "  <thead>\n",
       "    <tr style=\"text-align: right;\">\n",
       "      <th></th>\n",
       "      <th>TRACK</th>\n",
       "      <th>YEAR</th>\n",
       "      <th>LENGTH</th>\n",
       "      <th>DOWNFORCE</th>\n",
       "      <th>LATERAL</th>\n",
       "      <th>ASPHALT_ABR</th>\n",
       "      <th>ASPHALT_GRP</th>\n",
       "      <th>TIRE_STRESS</th>\n",
       "      <th>AIR_TEMP_MAX</th>\n",
       "      <th>AIR_TEMP_MIN</th>\n",
       "      <th>T_TEMP_MAX</th>\n",
       "      <th>T_TEMP_MIN</th>\n",
       "    </tr>\n",
       "  </thead>\n",
       "  <tbody>\n",
       "    <tr>\n",
       "      <th>0</th>\n",
       "      <td>australia</td>\n",
       "      <td>2016</td>\n",
       "      <td>5.30</td>\n",
       "      <td>4</td>\n",
       "      <td>1</td>\n",
       "      <td>3</td>\n",
       "      <td>1</td>\n",
       "      <td>1</td>\n",
       "      <td>24.7</td>\n",
       "      <td>22.2</td>\n",
       "      <td>38.4</td>\n",
       "      <td>26.8</td>\n",
       "    </tr>\n",
       "    <tr>\n",
       "      <th>1</th>\n",
       "      <td>bahrain</td>\n",
       "      <td>2016</td>\n",
       "      <td>5.41</td>\n",
       "      <td>3</td>\n",
       "      <td>3</td>\n",
       "      <td>5</td>\n",
       "      <td>4</td>\n",
       "      <td>3</td>\n",
       "      <td>22.6</td>\n",
       "      <td>21.2</td>\n",
       "      <td>29.6</td>\n",
       "      <td>25.9</td>\n",
       "    </tr>\n",
       "    <tr>\n",
       "      <th>2</th>\n",
       "      <td>china</td>\n",
       "      <td>2016</td>\n",
       "      <td>5.45</td>\n",
       "      <td>3</td>\n",
       "      <td>4</td>\n",
       "      <td>3</td>\n",
       "      <td>3</td>\n",
       "      <td>4</td>\n",
       "      <td>21.9</td>\n",
       "      <td>20.3</td>\n",
       "      <td>37.3</td>\n",
       "      <td>45.3</td>\n",
       "    </tr>\n",
       "    <tr>\n",
       "      <th>3</th>\n",
       "      <td>australia</td>\n",
       "      <td>2015</td>\n",
       "      <td>5.30</td>\n",
       "      <td>4</td>\n",
       "      <td>1</td>\n",
       "      <td>3</td>\n",
       "      <td>1</td>\n",
       "      <td>1</td>\n",
       "      <td>21.0</td>\n",
       "      <td>17.0</td>\n",
       "      <td>38.0</td>\n",
       "      <td>29.0</td>\n",
       "    </tr>\n",
       "    <tr>\n",
       "      <th>4</th>\n",
       "      <td>malaysia</td>\n",
       "      <td>2015</td>\n",
       "      <td>5.54</td>\n",
       "      <td>3</td>\n",
       "      <td>4</td>\n",
       "      <td>3</td>\n",
       "      <td>3</td>\n",
       "      <td>4</td>\n",
       "      <td>35.4</td>\n",
       "      <td>32.7</td>\n",
       "      <td>61.4</td>\n",
       "      <td>53.0</td>\n",
       "    </tr>\n",
       "  </tbody>\n",
       "</table>\n",
       "</div>"
      ],
      "text/plain": [
       "       TRACK  YEAR  LENGTH  DOWNFORCE  LATERAL  ASPHALT_ABR  ASPHALT_GRP  \\\n",
       "0  australia  2016    5.30          4        1            3            1   \n",
       "1    bahrain  2016    5.41          3        3            5            4   \n",
       "2      china  2016    5.45          3        4            3            3   \n",
       "3  australia  2015    5.30          4        1            3            1   \n",
       "4   malaysia  2015    5.54          3        4            3            3   \n",
       "\n",
       "   TIRE_STRESS  AIR_TEMP_MAX  AIR_TEMP_MIN  T_TEMP_MAX  T_TEMP_MIN  \n",
       "0            1          24.7          22.2        38.4        26.8  \n",
       "1            3          22.6          21.2        29.6        25.9  \n",
       "2            4          21.9          20.3        37.3        45.3  \n",
       "3            1          21.0          17.0        38.0        29.0  \n",
       "4            4          35.4          32.7        61.4        53.0  "
      ]
     },
     "execution_count": 6,
     "metadata": {},
     "output_type": "execute_result"
    }
   ],
   "source": [
    "# Load Track data\n",
    "tracks = pd.read_csv('data/track_profiles.csv')\n",
    "tracks.drop('LAPS', axis=1, inplace=True)\n",
    "tracks['TRACK'] = tracks['TRACK'].apply(lambda x: x.lower())\n",
    "tracks.head()"
   ]
  },
  {
   "cell_type": "code",
   "execution_count": 7,
   "metadata": {
    "collapsed": false
   },
   "outputs": [
    {
     "name": "stdout",
     "output_type": "stream",
     "text": [
      "<class 'pandas.core.frame.DataFrame'>\n",
      "Int64Index: 22078 entries, 6 to 1206\n",
      "Data columns (total 8 columns):\n",
      "NO       22078 non-null object\n",
      "GAP      22078 non-null object\n",
      "TIME     22078 non-null float64\n",
      "LAP      22078 non-null object\n",
      "TIRE     22078 non-null object\n",
      "TRACK    22078 non-null object\n",
      "YEAR     22078 non-null int64\n",
      "RACE     22078 non-null object\n",
      "dtypes: float64(1), int64(1), object(6)\n",
      "memory usage: 1.5+ MB\n"
     ]
    }
   ],
   "source": [
    "all_lap_times.info()"
   ]
  },
  {
   "cell_type": "code",
   "execution_count": 8,
   "metadata": {
    "collapsed": false
   },
   "outputs": [
    {
     "name": "stdout",
     "output_type": "stream",
     "text": [
      "<class 'pandas.core.frame.DataFrame'>\n",
      "Int64Index: 22 entries, 0 to 21\n",
      "Data columns (total 12 columns):\n",
      "TRACK           22 non-null object\n",
      "YEAR            22 non-null int64\n",
      "LENGTH          22 non-null float64\n",
      "DOWNFORCE       22 non-null int64\n",
      "LATERAL         22 non-null int64\n",
      "ASPHALT_ABR     22 non-null int64\n",
      "ASPHALT_GRP     22 non-null int64\n",
      "TIRE_STRESS     22 non-null int64\n",
      "AIR_TEMP_MAX    22 non-null float64\n",
      "AIR_TEMP_MIN    22 non-null float64\n",
      "T_TEMP_MAX      22 non-null float64\n",
      "T_TEMP_MIN      22 non-null float64\n",
      "dtypes: float64(5), int64(6), object(1)\n",
      "memory usage: 2.2+ KB\n"
     ]
    }
   ],
   "source": [
    "tracks.info()"
   ]
  },
  {
   "cell_type": "code",
   "execution_count": 18,
   "metadata": {
    "collapsed": false
   },
   "outputs": [
    {
     "data": {
      "text/html": [
       "<div>\n",
       "<table border=\"1\" class=\"dataframe\">\n",
       "  <thead>\n",
       "    <tr style=\"text-align: right;\">\n",
       "      <th></th>\n",
       "      <th>NO</th>\n",
       "      <th>TIRE</th>\n",
       "      <th>TRACK</th>\n",
       "      <th>YEAR</th>\n",
       "      <th>COUNT</th>\n",
       "      <th>TIME_AVG</th>\n",
       "    </tr>\n",
       "  </thead>\n",
       "  <tbody>\n",
       "    <tr>\n",
       "      <th>0</th>\n",
       "      <td>3</td>\n",
       "      <td>Hard</td>\n",
       "      <td>britain</td>\n",
       "      <td>2015</td>\n",
       "      <td>10</td>\n",
       "      <td>108.704100</td>\n",
       "    </tr>\n",
       "    <tr>\n",
       "      <th>1</th>\n",
       "      <td>3</td>\n",
       "      <td>Hard</td>\n",
       "      <td>japan</td>\n",
       "      <td>2015</td>\n",
       "      <td>51</td>\n",
       "      <td>101.457765</td>\n",
       "    </tr>\n",
       "    <tr>\n",
       "      <th>2</th>\n",
       "      <td>3</td>\n",
       "      <td>Hard</td>\n",
       "      <td>malaysia</td>\n",
       "      <td>2015</td>\n",
       "      <td>37</td>\n",
       "      <td>108.020270</td>\n",
       "    </tr>\n",
       "    <tr>\n",
       "      <th>3</th>\n",
       "      <td>3</td>\n",
       "      <td>Hard</td>\n",
       "      <td>spain</td>\n",
       "      <td>2015</td>\n",
       "      <td>23</td>\n",
       "      <td>92.960391</td>\n",
       "    </tr>\n",
       "    <tr>\n",
       "      <th>4</th>\n",
       "      <td>3</td>\n",
       "      <td>Intermediate</td>\n",
       "      <td>usa</td>\n",
       "      <td>2015</td>\n",
       "      <td>19</td>\n",
       "      <td>119.811789</td>\n",
       "    </tr>\n",
       "  </tbody>\n",
       "</table>\n",
       "</div>"
      ],
      "text/plain": [
       "   NO          TIRE     TRACK  YEAR  COUNT    TIME_AVG\n",
       "0   3          Hard   britain  2015     10  108.704100\n",
       "1   3          Hard     japan  2015     51  101.457765\n",
       "2   3          Hard  malaysia  2015     37  108.020270\n",
       "3   3          Hard     spain  2015     23   92.960391\n",
       "4   3  Intermediate       usa  2015     19  119.811789"
      ]
     },
     "execution_count": 18,
     "metadata": {},
     "output_type": "execute_result"
    }
   ],
   "source": [
    "grouped = all_lap_times.drop(['GAP', 'LAP', 'RACE'], axis=1).groupby(['NO', 'TIRE', 'TRACK', 'YEAR'], as_index=False)\n",
    "avg_laps = pd.merge(grouped.count(), grouped.mean(), how='left', on=['NO', 'TIRE', 'TRACK', 'YEAR'])\n",
    "avg_laps.columns = ['NO', 'TIRE', 'TRACK', 'YEAR', 'COUNT', 'TIME_AVG']\n",
    "avg_laps.head()"
   ]
  },
  {
   "cell_type": "code",
   "execution_count": 45,
   "metadata": {
    "collapsed": false
   },
   "outputs": [
    {
     "data": {
      "text/html": [
       "<div>\n",
       "<table border=\"1\" class=\"dataframe\">\n",
       "  <thead>\n",
       "    <tr style=\"text-align: right;\">\n",
       "      <th></th>\n",
       "      <th>NO</th>\n",
       "      <th>TIRE</th>\n",
       "      <th>TRACK</th>\n",
       "      <th>YEAR</th>\n",
       "      <th>COUNT</th>\n",
       "      <th>TIME_AVG</th>\n",
       "      <th>LENGTH</th>\n",
       "      <th>DOWNFORCE</th>\n",
       "      <th>LATERAL</th>\n",
       "      <th>ASPHALT_ABR</th>\n",
       "      <th>ASPHALT_GRP</th>\n",
       "      <th>TIRE_STRESS</th>\n",
       "      <th>AIR_TEMP_MAX</th>\n",
       "      <th>AIR_TEMP_MIN</th>\n",
       "      <th>T_TEMP_MAX</th>\n",
       "      <th>T_TEMP_MIN</th>\n",
       "      <th>TIRE_VAL</th>\n",
       "    </tr>\n",
       "  </thead>\n",
       "  <tbody>\n",
       "    <tr>\n",
       "      <th>0</th>\n",
       "      <td>3</td>\n",
       "      <td>Hard</td>\n",
       "      <td>britain</td>\n",
       "      <td>2015</td>\n",
       "      <td>10</td>\n",
       "      <td>108.704100</td>\n",
       "      <td>5.89</td>\n",
       "      <td>4</td>\n",
       "      <td>5</td>\n",
       "      <td>3</td>\n",
       "      <td>4</td>\n",
       "      <td>5</td>\n",
       "      <td>20.6</td>\n",
       "      <td>17.3</td>\n",
       "      <td>38.9</td>\n",
       "      <td>23.9</td>\n",
       "      <td>5</td>\n",
       "    </tr>\n",
       "    <tr>\n",
       "      <th>1</th>\n",
       "      <td>3</td>\n",
       "      <td>Hard</td>\n",
       "      <td>japan</td>\n",
       "      <td>2015</td>\n",
       "      <td>51</td>\n",
       "      <td>101.457765</td>\n",
       "      <td>5.80</td>\n",
       "      <td>3</td>\n",
       "      <td>5</td>\n",
       "      <td>3</td>\n",
       "      <td>4</td>\n",
       "      <td>5</td>\n",
       "      <td>28.6</td>\n",
       "      <td>27.2</td>\n",
       "      <td>42.4</td>\n",
       "      <td>35.3</td>\n",
       "      <td>5</td>\n",
       "    </tr>\n",
       "    <tr>\n",
       "      <th>2</th>\n",
       "      <td>3</td>\n",
       "      <td>Hard</td>\n",
       "      <td>malaysia</td>\n",
       "      <td>2015</td>\n",
       "      <td>37</td>\n",
       "      <td>108.020270</td>\n",
       "      <td>5.54</td>\n",
       "      <td>3</td>\n",
       "      <td>4</td>\n",
       "      <td>3</td>\n",
       "      <td>3</td>\n",
       "      <td>4</td>\n",
       "      <td>35.4</td>\n",
       "      <td>32.7</td>\n",
       "      <td>61.4</td>\n",
       "      <td>53.0</td>\n",
       "      <td>5</td>\n",
       "    </tr>\n",
       "    <tr>\n",
       "      <th>3</th>\n",
       "      <td>3</td>\n",
       "      <td>Hard</td>\n",
       "      <td>spain</td>\n",
       "      <td>2015</td>\n",
       "      <td>23</td>\n",
       "      <td>92.960391</td>\n",
       "      <td>4.65</td>\n",
       "      <td>4</td>\n",
       "      <td>4</td>\n",
       "      <td>4</td>\n",
       "      <td>4</td>\n",
       "      <td>4</td>\n",
       "      <td>28.3</td>\n",
       "      <td>25.3</td>\n",
       "      <td>51.9</td>\n",
       "      <td>45.6</td>\n",
       "      <td>5</td>\n",
       "    </tr>\n",
       "    <tr>\n",
       "      <th>4</th>\n",
       "      <td>3</td>\n",
       "      <td>Intermediate</td>\n",
       "      <td>usa</td>\n",
       "      <td>2015</td>\n",
       "      <td>19</td>\n",
       "      <td>119.811789</td>\n",
       "      <td>5.51</td>\n",
       "      <td>3</td>\n",
       "      <td>4</td>\n",
       "      <td>3</td>\n",
       "      <td>2</td>\n",
       "      <td>3</td>\n",
       "      <td>17.8</td>\n",
       "      <td>17.2</td>\n",
       "      <td>19.4</td>\n",
       "      <td>17.8</td>\n",
       "      <td>5</td>\n",
       "    </tr>\n",
       "  </tbody>\n",
       "</table>\n",
       "</div>"
      ],
      "text/plain": [
       "   NO          TIRE     TRACK  YEAR  COUNT    TIME_AVG  LENGTH  DOWNFORCE  \\\n",
       "0   3          Hard   britain  2015     10  108.704100    5.89          4   \n",
       "1   3          Hard     japan  2015     51  101.457765    5.80          3   \n",
       "2   3          Hard  malaysia  2015     37  108.020270    5.54          3   \n",
       "3   3          Hard     spain  2015     23   92.960391    4.65          4   \n",
       "4   3  Intermediate       usa  2015     19  119.811789    5.51          3   \n",
       "\n",
       "   LATERAL  ASPHALT_ABR  ASPHALT_GRP  TIRE_STRESS  AIR_TEMP_MAX  AIR_TEMP_MIN  \\\n",
       "0        5            3            4            5          20.6          17.3   \n",
       "1        5            3            4            5          28.6          27.2   \n",
       "2        4            3            3            4          35.4          32.7   \n",
       "3        4            4            4            4          28.3          25.3   \n",
       "4        4            3            2            3          17.8          17.2   \n",
       "\n",
       "   T_TEMP_MAX  T_TEMP_MIN  TIRE_VAL  \n",
       "0        38.9        23.9         5  \n",
       "1        42.4        35.3         5  \n",
       "2        61.4        53.0         5  \n",
       "3        51.9        45.6         5  \n",
       "4        19.4        17.8         5  "
      ]
     },
     "execution_count": 45,
     "metadata": {},
     "output_type": "execute_result"
    }
   ],
   "source": [
    "lap_features = pd.merge(avg_laps, tracks, how='left', on=['TRACK', 'YEAR'])\n",
    "lap_features['TIRE_VAL'] = lap_features['TIRE'].apply(assign_ordinal)\n",
    "lap_features.head()"
   ]
  },
  {
   "cell_type": "code",
   "execution_count": 46,
   "metadata": {
    "collapsed": false
   },
   "outputs": [
    {
     "name": "stdout",
     "output_type": "stream",
     "text": [
      "<class 'pandas.core.frame.DataFrame'>\n",
      "Int64Index: 830 entries, 0 to 829\n",
      "Data columns (total 12 columns):\n",
      "COUNT           830 non-null int64\n",
      "TIME_AVG        830 non-null float64\n",
      "LENGTH          830 non-null float64\n",
      "DOWNFORCE       830 non-null int64\n",
      "LATERAL         830 non-null int64\n",
      "ASPHALT_ABR     830 non-null int64\n",
      "ASPHALT_GRP     830 non-null int64\n",
      "TIRE_STRESS     830 non-null int64\n",
      "AIR_TEMP_MAX    830 non-null float64\n",
      "AIR_TEMP_MIN    830 non-null float64\n",
      "T_TEMP_MAX      830 non-null float64\n",
      "TIRE_VAL        830 non-null int64\n",
      "dtypes: float64(5), int64(7)\n",
      "memory usage: 84.3 KB\n"
     ]
    }
   ],
   "source": [
    "regression_features = lap_features.drop(['NO', 'TIRE', 'TRACK', 'YEAR', 'T_TEMP_MIN'], axis=1)\n",
    "regression_features.info()"
   ]
  },
  {
   "cell_type": "code",
   "execution_count": 47,
   "metadata": {
    "collapsed": false
   },
   "outputs": [],
   "source": [
    "y = regression_features.pop('TIME_AVG')\n",
    "y;"
   ]
  },
  {
   "cell_type": "code",
   "execution_count": 48,
   "metadata": {
    "collapsed": false
   },
   "outputs": [],
   "source": [
    "X = regression_features\n",
    "X;"
   ]
  },
  {
   "cell_type": "code",
   "execution_count": 49,
   "metadata": {
    "collapsed": true
   },
   "outputs": [],
   "source": [
    "X_train, X_test, y_train, y_test = train_test_split(X, y)"
   ]
  },
  {
   "cell_type": "code",
   "execution_count": 50,
   "metadata": {
    "collapsed": true
   },
   "outputs": [],
   "source": [
    "model = sms.OLS(y_train, X_train).fit()\n",
    "summary = model.summary()"
   ]
  },
  {
   "cell_type": "code",
   "execution_count": 51,
   "metadata": {
    "collapsed": false
   },
   "outputs": [
    {
     "data": {
      "text/html": [
       "<table class=\"simpletable\">\n",
       "<caption>OLS Regression Results</caption>\n",
       "<tr>\n",
       "  <th>Dep. Variable:</th>        <td>TIME_AVG</td>     <th>  R-squared:         </th> <td>   0.979</td>\n",
       "</tr>\n",
       "<tr>\n",
       "  <th>Model:</th>                   <td>OLS</td>       <th>  Adj. R-squared:    </th> <td>   0.978</td>\n",
       "</tr>\n",
       "<tr>\n",
       "  <th>Method:</th>             <td>Least Squares</td>  <th>  F-statistic:       </th> <td>   2565.</td>\n",
       "</tr>\n",
       "<tr>\n",
       "  <th>Date:</th>             <td>Mon, 25 Apr 2016</td> <th>  Prob (F-statistic):</th>  <td>  0.00</td> \n",
       "</tr>\n",
       "<tr>\n",
       "  <th>Time:</th>                 <td>09:49:54</td>     <th>  Log-Likelihood:    </th> <td> -2582.3</td>\n",
       "</tr>\n",
       "<tr>\n",
       "  <th>No. Observations:</th>      <td>   622</td>      <th>  AIC:               </th> <td>   5187.</td>\n",
       "</tr>\n",
       "<tr>\n",
       "  <th>Df Residuals:</th>          <td>   611</td>      <th>  BIC:               </th> <td>   5235.</td>\n",
       "</tr>\n",
       "<tr>\n",
       "  <th>Df Model:</th>              <td>    11</td>      <th>                     </th>     <td> </td>   \n",
       "</tr>\n",
       "<tr>\n",
       "  <th>Covariance Type:</th>      <td>nonrobust</td>    <th>                     </th>     <td> </td>   \n",
       "</tr>\n",
       "</table>\n",
       "<table class=\"simpletable\">\n",
       "<tr>\n",
       "        <td></td>          <th>coef</th>     <th>std err</th>      <th>t</th>      <th>P>|t|</th> <th>[95.0% Conf. Int.]</th> \n",
       "</tr>\n",
       "<tr>\n",
       "  <th>COUNT</th>        <td>   -0.3510</td> <td>    0.046</td> <td>   -7.663</td> <td> 0.000</td> <td>   -0.441    -0.261</td>\n",
       "</tr>\n",
       "<tr>\n",
       "  <th>LENGTH</th>       <td>   17.8175</td> <td>    0.741</td> <td>   24.050</td> <td> 0.000</td> <td>   16.363    19.272</td>\n",
       "</tr>\n",
       "<tr>\n",
       "  <th>DOWNFORCE</th>    <td>    4.8299</td> <td>    0.768</td> <td>    6.290</td> <td> 0.000</td> <td>    3.322     6.338</td>\n",
       "</tr>\n",
       "<tr>\n",
       "  <th>LATERAL</th>      <td>    5.4716</td> <td>    1.347</td> <td>    4.062</td> <td> 0.000</td> <td>    2.826     8.117</td>\n",
       "</tr>\n",
       "<tr>\n",
       "  <th>ASPHALT_ABR</th>  <td>    3.9741</td> <td>    1.032</td> <td>    3.851</td> <td> 0.000</td> <td>    1.948     6.001</td>\n",
       "</tr>\n",
       "<tr>\n",
       "  <th>ASPHALT_GRP</th>  <td>   -6.3488</td> <td>    1.297</td> <td>   -4.894</td> <td> 0.000</td> <td>   -8.896    -3.801</td>\n",
       "</tr>\n",
       "<tr>\n",
       "  <th>TIRE_STRESS</th>  <td>   -7.4980</td> <td>    0.968</td> <td>   -7.745</td> <td> 0.000</td> <td>   -9.399    -5.597</td>\n",
       "</tr>\n",
       "<tr>\n",
       "  <th>AIR_TEMP_MAX</th> <td>   -6.0211</td> <td>    1.154</td> <td>   -5.217</td> <td> 0.000</td> <td>   -8.288    -3.755</td>\n",
       "</tr>\n",
       "<tr>\n",
       "  <th>AIR_TEMP_MIN</th> <td>    6.0040</td> <td>    1.062</td> <td>    5.652</td> <td> 0.000</td> <td>    3.918     8.090</td>\n",
       "</tr>\n",
       "<tr>\n",
       "  <th>T_TEMP_MAX</th>   <td>    0.5274</td> <td>    0.147</td> <td>    3.583</td> <td> 0.000</td> <td>    0.238     0.817</td>\n",
       "</tr>\n",
       "<tr>\n",
       "  <th>TIRE_VAL</th>     <td>    2.2346</td> <td>    0.848</td> <td>    2.635</td> <td> 0.009</td> <td>    0.569     3.900</td>\n",
       "</tr>\n",
       "</table>\n",
       "<table class=\"simpletable\">\n",
       "<tr>\n",
       "  <th>Omnibus:</th>       <td>680.540</td> <th>  Durbin-Watson:     </th> <td>   1.987</td> \n",
       "</tr>\n",
       "<tr>\n",
       "  <th>Prob(Omnibus):</th> <td> 0.000</td>  <th>  Jarque-Bera (JB):  </th> <td>51534.273</td>\n",
       "</tr>\n",
       "<tr>\n",
       "  <th>Skew:</th>          <td> 5.037</td>  <th>  Prob(JB):          </th> <td>    0.00</td> \n",
       "</tr>\n",
       "<tr>\n",
       "  <th>Kurtosis:</th>      <td>46.439</td>  <th>  Cond. No.          </th> <td>    208.</td> \n",
       "</tr>\n",
       "</table>"
      ],
      "text/plain": [
       "<class 'statsmodels.iolib.summary.Summary'>\n",
       "\"\"\"\n",
       "                            OLS Regression Results                            \n",
       "==============================================================================\n",
       "Dep. Variable:               TIME_AVG   R-squared:                       0.979\n",
       "Model:                            OLS   Adj. R-squared:                  0.978\n",
       "Method:                 Least Squares   F-statistic:                     2565.\n",
       "Date:                Mon, 25 Apr 2016   Prob (F-statistic):               0.00\n",
       "Time:                        09:49:54   Log-Likelihood:                -2582.3\n",
       "No. Observations:                 622   AIC:                             5187.\n",
       "Df Residuals:                     611   BIC:                             5235.\n",
       "Df Model:                          11                                         \n",
       "Covariance Type:            nonrobust                                         \n",
       "================================================================================\n",
       "                   coef    std err          t      P>|t|      [95.0% Conf. Int.]\n",
       "--------------------------------------------------------------------------------\n",
       "COUNT           -0.3510      0.046     -7.663      0.000        -0.441    -0.261\n",
       "LENGTH          17.8175      0.741     24.050      0.000        16.363    19.272\n",
       "DOWNFORCE        4.8299      0.768      6.290      0.000         3.322     6.338\n",
       "LATERAL          5.4716      1.347      4.062      0.000         2.826     8.117\n",
       "ASPHALT_ABR      3.9741      1.032      3.851      0.000         1.948     6.001\n",
       "ASPHALT_GRP     -6.3488      1.297     -4.894      0.000        -8.896    -3.801\n",
       "TIRE_STRESS     -7.4980      0.968     -7.745      0.000        -9.399    -5.597\n",
       "AIR_TEMP_MAX    -6.0211      1.154     -5.217      0.000        -8.288    -3.755\n",
       "AIR_TEMP_MIN     6.0040      1.062      5.652      0.000         3.918     8.090\n",
       "T_TEMP_MAX       0.5274      0.147      3.583      0.000         0.238     0.817\n",
       "TIRE_VAL         2.2346      0.848      2.635      0.009         0.569     3.900\n",
       "==============================================================================\n",
       "Omnibus:                      680.540   Durbin-Watson:                   1.987\n",
       "Prob(Omnibus):                  0.000   Jarque-Bera (JB):            51534.273\n",
       "Skew:                           5.037   Prob(JB):                         0.00\n",
       "Kurtosis:                      46.439   Cond. No.                         208.\n",
       "==============================================================================\n",
       "\n",
       "Warnings:\n",
       "[1] Standard Errors assume that the covariance matrix of the errors is correctly specified.\n",
       "\"\"\""
      ]
     },
     "execution_count": 51,
     "metadata": {},
     "output_type": "execute_result"
    }
   ],
   "source": [
    "summary"
   ]
  },
  {
   "cell_type": "code",
   "execution_count": 53,
   "metadata": {
    "collapsed": false
   },
   "outputs": [],
   "source": [
    "y_predict = model.predict(X_test)"
   ]
  },
  {
   "cell_type": "code",
   "execution_count": 55,
   "metadata": {
    "collapsed": false
   },
   "outputs": [],
   "source": [
    "# model.score(y_predict, y_test)"
   ]
  },
  {
   "cell_type": "markdown",
   "metadata": {},
   "source": [
    "## Plot Tire Stints"
   ]
  },
  {
   "cell_type": "code",
   "execution_count": null,
   "metadata": {
    "collapsed": false
   },
   "outputs": [],
   "source": [
    "avg_laps['TIRE_VAL'] = avg_laps['TIRE'].apply(assign_ordinal)\n",
    "avg_laps.head()"
   ]
  },
  {
   "cell_type": "code",
   "execution_count": null,
   "metadata": {
    "collapsed": false
   },
   "outputs": [],
   "source": [
    "sn.pairplot(avg_laps[['COUNT', 'TIME', 'TIRE_VAL']])"
   ]
  },
  {
   "cell_type": "code",
   "execution_count": null,
   "metadata": {
    "collapsed": false
   },
   "outputs": [],
   "source": [
    "plt.scatter(avg_laps['COUNT'], avg_laps['TIME'], c=avg_laps['TIRE'].apply(assign_color), alpha=.5)\n",
    "plt.xlim([0, 50])\n",
    "plt.ylim([50,200])"
   ]
  },
  {
   "cell_type": "markdown",
   "metadata": {},
   "source": [
    "## TEST CODE BELOW"
   ]
  },
  {
   "cell_type": "code",
   "execution_count": null,
   "metadata": {
    "collapsed": false
   },
   "outputs": [],
   "source": [
    "pwd"
   ]
  },
  {
   "cell_type": "code",
   "execution_count": null,
   "metadata": {
    "collapsed": true
   },
   "outputs": [],
   "source": []
  }
 ],
 "metadata": {
  "kernelspec": {
   "display_name": "Python 2",
   "language": "python",
   "name": "python2"
  },
  "language_info": {
   "codemirror_mode": {
    "name": "ipython",
    "version": 2
   },
   "file_extension": ".py",
   "mimetype": "text/x-python",
   "name": "python",
   "nbconvert_exporter": "python",
   "pygments_lexer": "ipython2",
   "version": "2.7.11"
  }
 },
 "nbformat": 4,
 "nbformat_minor": 0
}
