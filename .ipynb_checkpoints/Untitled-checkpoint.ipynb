{
 "cells": [
  {
   "cell_type": "code",
   "execution_count": 1,
   "metadata": {
    "collapsed": false
   },
   "outputs": [],
   "source": [
    "import pandas as pd\n",
    "import numpy as np\n",
    "import datetime\n",
    "import os\n",
    "from scripts.f1_scripts import (assign_lap, \n",
    "                        get_tires, \n",
    "                        get_sector_times,\n",
    "                        convert_time\n",
    "                               )"
   ]
  },
  {
   "cell_type": "code",
   "execution_count": 2,
   "metadata": {
    "collapsed": true
   },
   "outputs": [],
   "source": [
    "# Load driver list as GLOBAL variable\n",
    "DRIVER_LIST = pd.read_csv('data/drivers.csv')"
   ]
  },
  {
   "cell_type": "code",
   "execution_count": 3,
   "metadata": {
    "collapsed": true
   },
   "outputs": [],
   "source": [
    "def create_race_features(filename):\n",
    "    year, race_num, track = filename.split('_')\n",
    "    # Load lap times for all drivers\n",
    "    lap_data = pd.read_csv('data/lap_history/{filename}_lap_history.csv'.format(filename=filename), header=None)\n",
    "    lap_times = assign_lap(lap_data)\n",
    "    lap_times['TIME'] = convert_time(lap_times['TIME'])\n",
    "    lap_times.sort_values(by=['NO', 'LAP'], inplace=True)\n",
    "\n",
    "    # Load Tire strategy data\n",
    "    tire_data = pd.read_csv('data/tire_strategy/{filename}.csv'.format(filename=filename))\n",
    "    tire_strat = get_tires(tire_data)\n",
    "\n",
    "    # Join Driver, Name, No. to tire data and sort by No.\n",
    "    tire_strat = pd.merge(DRIVER_LIST, tire_strat, on='NAME')\n",
    "    tire_strat.drop(['NAME', 'DRIVER'], axis=1, inplace=True)\n",
    "\n",
    "    # Append tire data to lap data\n",
    "    mask = tire_strat.iloc[:,1:].notnull().values\n",
    "    lap_times['TIRE'] = tire_strat[tire_strat.columns[1:]].values[mask].flatten()\n",
    "    lap_times['TRACK'] = track\n",
    "    lap_times['YEAR'] = year\n",
    "    lap_times['RACE'] = race_num\n",
    "\n",
    "    return lap_times\n"
   ]
  },
  {
   "cell_type": "code",
   "execution_count": 4,
   "metadata": {
    "collapsed": false
   },
   "outputs": [],
   "source": [
    "# Create a list of the available races to date that we can use for training\n",
    "races = os.listdir('data/fia')\n",
    "races = races[1:]\n",
    "# Remove bahrain 2015 until data is fixed\n",
    "races.pop(13)\n",
    "races;"
   ]
  },
  {
   "cell_type": "code",
   "execution_count": 5,
   "metadata": {
    "collapsed": false
   },
   "outputs": [
    {
     "name": "stdout",
     "output_type": "stream",
     "text": [
      "2015_10_hungary complete.\n",
      "2015_11_belgium complete.\n",
      "2015_12_italy complete.\n",
      "2015_13_singapore complete.\n",
      "2015_14_japan complete.\n",
      "2015_15_russia complete.\n",
      "2015_16_usa complete.\n",
      "2015_17_mexico complete.\n",
      "2015_18_brazil complete.\n",
      "2015_19_abudhabi complete.\n",
      "2015_1_australia complete.\n",
      "2015_2_malaysia complete.\n",
      "2015_3_china complete.\n",
      "2015_5_spain complete.\n",
      "2015_6_monaco complete.\n",
      "2015_7_canada complete.\n",
      "2015_8_austria complete.\n",
      "2015_9_britain complete.\n",
      "2016_1_australia complete.\n",
      "2016_2_bahrain complete.\n",
      "2016_3_china complete.\n"
     ]
    }
   ],
   "source": [
    "# Create DataFrame of all laps for all drivers in all races\n",
    "list_of_times = []\n",
    "for race in races:\n",
    "    lap_times = create_race_features(race)\n",
    "    list_of_times.append(lap_times)\n",
    "    print '{} complete.'.format(race)\n",
    "all_lap_times = pd.concat(list_of_times)\n"
   ]
  },
  {
   "cell_type": "markdown",
   "metadata": {},
   "source": [
    "### Commented out cells used to debug loading the data"
   ]
  },
  {
   "cell_type": "code",
   "execution_count": 6,
   "metadata": {
    "collapsed": false,
    "scrolled": true
   },
   "outputs": [],
   "source": [
    "# # Load driver list for particular season\n",
    "# driver_list = pd.read_csv('data/drivers.csv')\n",
    "\n",
    "# # Load lap times for all drivers\n",
    "# filename = '2016_3_china'\n",
    "# lap_data = pd.read_csv('data/lap_history/{filename}_lap_history.csv'.format(filename=filename), header=None)\n",
    "# lap_times = assign_lap(lap_data)\n",
    "# lap_times['TIME'] = convert_time(lap_times['TIME'])\n",
    "# lap_times.sort_values(by=['NO', 'LAP'], inplace=True)\n",
    "# lap_times.shape"
   ]
  },
  {
   "cell_type": "code",
   "execution_count": 7,
   "metadata": {
    "collapsed": false
   },
   "outputs": [],
   "source": [
    "# # Load Tire strategy data\n",
    "# tire_data = pd.read_csv('data/tire_strategy/{filename}.csv'.format(filename=filename))\n",
    "# tire_strat = get_tires(tire_data)\n",
    "# tire_strat['NAME'].unique;"
   ]
  },
  {
   "cell_type": "code",
   "execution_count": 8,
   "metadata": {
    "collapsed": false
   },
   "outputs": [],
   "source": [
    "# # Join Driver, Name, No. to tire data and sort by No.\n",
    "# tire_strat = pd.merge(driver_list, tire_strat, on='NAME')\n",
    "# tire_strat.drop(['NAME', 'DRIVER'], axis=1, inplace=True)\n",
    "# tire_strat;"
   ]
  },
  {
   "cell_type": "code",
   "execution_count": 9,
   "metadata": {
    "collapsed": false
   },
   "outputs": [],
   "source": [
    "# # Append tire data to lap data\n",
    "# mask = tire_strat.iloc[:,1:].notnull().values\n",
    "# # lap_times['TIRE'] = \n",
    "# tire_strat[tire_strat.columns[1:]].values[mask].flatten().shape\n",
    "# # lap_times['TRACK'] = 'Australia'\n",
    "# # lap_times['YEAR'] = 2016\n",
    "# # lap_times['RACE'] = 1\n",
    "# # lap_times"
   ]
  },
  {
   "cell_type": "code",
   "execution_count": 10,
   "metadata": {
    "collapsed": false,
    "scrolled": true
   },
   "outputs": [],
   "source": [
    "# for num in lap_times['NO'].unique():\n",
    "#     print num\n",
    "#     print lap_times[lap_times['NO'] == num].shape"
   ]
  },
  {
   "cell_type": "code",
   "execution_count": 11,
   "metadata": {
    "collapsed": false,
    "scrolled": true
   },
   "outputs": [],
   "source": [
    "# for num in lap_times['NO'].unique():\n",
    "#     print num\n",
    "#     print 'Laps: ',tire_strat.ix[tire_strat['NO'] == num].notnull().values.sum() - 1"
   ]
  },
  {
   "cell_type": "markdown",
   "metadata": {},
   "source": [
    "### Add track features to lap features data frame"
   ]
  },
  {
   "cell_type": "code",
   "execution_count": 12,
   "metadata": {
    "collapsed": false
   },
   "outputs": [
    {
     "data": {
      "text/html": [
       "<div>\n",
       "<table border=\"1\" class=\"dataframe\">\n",
       "  <thead>\n",
       "    <tr style=\"text-align: right;\">\n",
       "      <th></th>\n",
       "      <th>TRACK</th>\n",
       "      <th>YEAR</th>\n",
       "      <th>LENGTH</th>\n",
       "      <th>DOWNFORCE</th>\n",
       "      <th>LATERAL</th>\n",
       "      <th>ASPHALT_ABR</th>\n",
       "      <th>ASPHALT_GRP</th>\n",
       "      <th>TIRE_STRESS</th>\n",
       "      <th>AIR_TEMP_MAX</th>\n",
       "      <th>AIR_TEMP_MIN</th>\n",
       "      <th>T_TEMP_MAX</th>\n",
       "      <th>T_TEMP_MIN</th>\n",
       "    </tr>\n",
       "  </thead>\n",
       "  <tbody>\n",
       "    <tr>\n",
       "      <th>0</th>\n",
       "      <td>Australia</td>\n",
       "      <td>2016</td>\n",
       "      <td>5.30</td>\n",
       "      <td>4</td>\n",
       "      <td>1</td>\n",
       "      <td>3</td>\n",
       "      <td>1</td>\n",
       "      <td>1</td>\n",
       "      <td>24.7</td>\n",
       "      <td>22.2</td>\n",
       "      <td>38.4</td>\n",
       "      <td>26.8</td>\n",
       "    </tr>\n",
       "    <tr>\n",
       "      <th>1</th>\n",
       "      <td>Bahrain</td>\n",
       "      <td>2016</td>\n",
       "      <td>5.41</td>\n",
       "      <td>3</td>\n",
       "      <td>3</td>\n",
       "      <td>5</td>\n",
       "      <td>4</td>\n",
       "      <td>3</td>\n",
       "      <td>22.6</td>\n",
       "      <td>21.2</td>\n",
       "      <td>29.6</td>\n",
       "      <td>25.9</td>\n",
       "    </tr>\n",
       "    <tr>\n",
       "      <th>2</th>\n",
       "      <td>China</td>\n",
       "      <td>2016</td>\n",
       "      <td>5.45</td>\n",
       "      <td>3</td>\n",
       "      <td>4</td>\n",
       "      <td>3</td>\n",
       "      <td>3</td>\n",
       "      <td>4</td>\n",
       "      <td>21.9</td>\n",
       "      <td>20.3</td>\n",
       "      <td>37.3</td>\n",
       "      <td>45.3</td>\n",
       "    </tr>\n",
       "    <tr>\n",
       "      <th>3</th>\n",
       "      <td>Australia</td>\n",
       "      <td>2015</td>\n",
       "      <td>5.30</td>\n",
       "      <td>4</td>\n",
       "      <td>1</td>\n",
       "      <td>3</td>\n",
       "      <td>1</td>\n",
       "      <td>1</td>\n",
       "      <td>21.0</td>\n",
       "      <td>17.0</td>\n",
       "      <td>38.0</td>\n",
       "      <td>29.0</td>\n",
       "    </tr>\n",
       "    <tr>\n",
       "      <th>4</th>\n",
       "      <td>Malaysia</td>\n",
       "      <td>2015</td>\n",
       "      <td>5.54</td>\n",
       "      <td>3</td>\n",
       "      <td>4</td>\n",
       "      <td>3</td>\n",
       "      <td>3</td>\n",
       "      <td>4</td>\n",
       "      <td>35.4</td>\n",
       "      <td>32.7</td>\n",
       "      <td>61.4</td>\n",
       "      <td>53.0</td>\n",
       "    </tr>\n",
       "  </tbody>\n",
       "</table>\n",
       "</div>"
      ],
      "text/plain": [
       "       TRACK  YEAR  LENGTH  DOWNFORCE  LATERAL  ASPHALT_ABR  ASPHALT_GRP  \\\n",
       "0  Australia  2016    5.30          4        1            3            1   \n",
       "1    Bahrain  2016    5.41          3        3            5            4   \n",
       "2      China  2016    5.45          3        4            3            3   \n",
       "3  Australia  2015    5.30          4        1            3            1   \n",
       "4   Malaysia  2015    5.54          3        4            3            3   \n",
       "\n",
       "   TIRE_STRESS  AIR_TEMP_MAX  AIR_TEMP_MIN  T_TEMP_MAX  T_TEMP_MIN  \n",
       "0            1          24.7          22.2        38.4        26.8  \n",
       "1            3          22.6          21.2        29.6        25.9  \n",
       "2            4          21.9          20.3        37.3        45.3  \n",
       "3            1          21.0          17.0        38.0        29.0  \n",
       "4            4          35.4          32.7        61.4        53.0  "
      ]
     },
     "execution_count": 12,
     "metadata": {},
     "output_type": "execute_result"
    }
   ],
   "source": [
    "# Load Track data\n",
    "tracks = pd.read_csv('data/track_profiles.csv')\n",
    "tracks.drop('LAPS', axis=1, inplace=True)\n",
    "tracks.head()"
   ]
  },
  {
   "cell_type": "code",
   "execution_count": 13,
   "metadata": {
    "collapsed": false
   },
   "outputs": [
    {
     "name": "stdout",
     "output_type": "stream",
     "text": [
      "<class 'pandas.core.frame.DataFrame'>\n",
      "Int64Index: 22078 entries, 6 to 1206\n",
      "Data columns (total 8 columns):\n",
      "NO       22078 non-null object\n",
      "GAP      22078 non-null object\n",
      "TIME     22078 non-null float64\n",
      "LAP      22078 non-null object\n",
      "TIRE     22078 non-null object\n",
      "TRACK    22078 non-null object\n",
      "YEAR     22078 non-null object\n",
      "RACE     22078 non-null object\n",
      "dtypes: float64(1), object(7)\n",
      "memory usage: 1.5+ MB\n"
     ]
    }
   ],
   "source": [
    "all_lap_times.info()"
   ]
  },
  {
   "cell_type": "code",
   "execution_count": 14,
   "metadata": {
    "collapsed": false
   },
   "outputs": [
    {
     "name": "stdout",
     "output_type": "stream",
     "text": [
      "<class 'pandas.core.frame.DataFrame'>\n",
      "Int64Index: 22 entries, 0 to 21\n",
      "Data columns (total 12 columns):\n",
      "TRACK           22 non-null object\n",
      "YEAR            22 non-null int64\n",
      "LENGTH          22 non-null float64\n",
      "DOWNFORCE       22 non-null int64\n",
      "LATERAL         22 non-null int64\n",
      "ASPHALT_ABR     22 non-null int64\n",
      "ASPHALT_GRP     22 non-null int64\n",
      "TIRE_STRESS     22 non-null int64\n",
      "AIR_TEMP_MAX    22 non-null float64\n",
      "AIR_TEMP_MIN    22 non-null float64\n",
      "T_TEMP_MAX      22 non-null float64\n",
      "T_TEMP_MIN      22 non-null float64\n",
      "dtypes: float64(5), int64(6), object(1)\n",
      "memory usage: 2.2+ KB\n"
     ]
    }
   ],
   "source": [
    "tracks.info()"
   ]
  },
  {
   "cell_type": "code",
   "execution_count": 15,
   "metadata": {
    "collapsed": false
   },
   "outputs": [],
   "source": [
    "lap_features = pd.merge(lap_times, tracks, how='left', on=['TRACK', 'YEAR'])"
   ]
  },
  {
   "cell_type": "code",
   "execution_count": 16,
   "metadata": {
    "collapsed": false
   },
   "outputs": [
    {
     "data": {
      "text/html": [
       "<div>\n",
       "<table border=\"1\" class=\"dataframe\">\n",
       "  <thead>\n",
       "    <tr style=\"text-align: right;\">\n",
       "      <th></th>\n",
       "      <th>NO</th>\n",
       "      <th>GAP</th>\n",
       "      <th>TIME</th>\n",
       "      <th>LAP</th>\n",
       "      <th>TIRE</th>\n",
       "      <th>TRACK</th>\n",
       "      <th>YEAR</th>\n",
       "      <th>RACE</th>\n",
       "      <th>LENGTH</th>\n",
       "      <th>DOWNFORCE</th>\n",
       "      <th>LATERAL</th>\n",
       "      <th>ASPHALT_ABR</th>\n",
       "      <th>ASPHALT_GRP</th>\n",
       "      <th>TIRE_STRESS</th>\n",
       "      <th>AIR_TEMP_MAX</th>\n",
       "      <th>AIR_TEMP_MIN</th>\n",
       "      <th>T_TEMP_MAX</th>\n",
       "      <th>T_TEMP_MIN</th>\n",
       "    </tr>\n",
       "  </thead>\n",
       "  <tbody>\n",
       "    <tr>\n",
       "      <th>0</th>\n",
       "      <td>3</td>\n",
       "      <td>0</td>\n",
       "      <td>103.315</td>\n",
       "      <td>1</td>\n",
       "      <td>Super</td>\n",
       "      <td>china</td>\n",
       "      <td>2016</td>\n",
       "      <td>3</td>\n",
       "      <td>NaN</td>\n",
       "      <td>NaN</td>\n",
       "      <td>NaN</td>\n",
       "      <td>NaN</td>\n",
       "      <td>NaN</td>\n",
       "      <td>NaN</td>\n",
       "      <td>NaN</td>\n",
       "      <td>NaN</td>\n",
       "      <td>NaN</td>\n",
       "      <td>NaN</td>\n",
       "    </tr>\n",
       "    <tr>\n",
       "      <th>1</th>\n",
       "      <td>3</td>\n",
       "      <td>0</td>\n",
       "      <td>102.309</td>\n",
       "      <td>2</td>\n",
       "      <td>Super</td>\n",
       "      <td>china</td>\n",
       "      <td>2016</td>\n",
       "      <td>3</td>\n",
       "      <td>NaN</td>\n",
       "      <td>NaN</td>\n",
       "      <td>NaN</td>\n",
       "      <td>NaN</td>\n",
       "      <td>NaN</td>\n",
       "      <td>NaN</td>\n",
       "      <td>NaN</td>\n",
       "      <td>NaN</td>\n",
       "      <td>NaN</td>\n",
       "      <td>NaN</td>\n",
       "    </tr>\n",
       "    <tr>\n",
       "      <th>2</th>\n",
       "      <td>3</td>\n",
       "      <td>PIT</td>\n",
       "      <td>116.349</td>\n",
       "      <td>3</td>\n",
       "      <td>Super</td>\n",
       "      <td>china</td>\n",
       "      <td>2016</td>\n",
       "      <td>3</td>\n",
       "      <td>NaN</td>\n",
       "      <td>NaN</td>\n",
       "      <td>NaN</td>\n",
       "      <td>NaN</td>\n",
       "      <td>NaN</td>\n",
       "      <td>NaN</td>\n",
       "      <td>NaN</td>\n",
       "      <td>NaN</td>\n",
       "      <td>NaN</td>\n",
       "      <td>NaN</td>\n",
       "    </tr>\n",
       "    <tr>\n",
       "      <th>3</th>\n",
       "      <td>3</td>\n",
       "      <td>42.564</td>\n",
       "      <td>139.944</td>\n",
       "      <td>4</td>\n",
       "      <td>Soft</td>\n",
       "      <td>china</td>\n",
       "      <td>2016</td>\n",
       "      <td>3</td>\n",
       "      <td>NaN</td>\n",
       "      <td>NaN</td>\n",
       "      <td>NaN</td>\n",
       "      <td>NaN</td>\n",
       "      <td>NaN</td>\n",
       "      <td>NaN</td>\n",
       "      <td>NaN</td>\n",
       "      <td>NaN</td>\n",
       "      <td>NaN</td>\n",
       "      <td>NaN</td>\n",
       "    </tr>\n",
       "    <tr>\n",
       "      <th>4</th>\n",
       "      <td>3</td>\n",
       "      <td>33.430</td>\n",
       "      <td>135.444</td>\n",
       "      <td>5</td>\n",
       "      <td>Soft</td>\n",
       "      <td>china</td>\n",
       "      <td>2016</td>\n",
       "      <td>3</td>\n",
       "      <td>NaN</td>\n",
       "      <td>NaN</td>\n",
       "      <td>NaN</td>\n",
       "      <td>NaN</td>\n",
       "      <td>NaN</td>\n",
       "      <td>NaN</td>\n",
       "      <td>NaN</td>\n",
       "      <td>NaN</td>\n",
       "      <td>NaN</td>\n",
       "      <td>NaN</td>\n",
       "    </tr>\n",
       "  </tbody>\n",
       "</table>\n",
       "</div>"
      ],
      "text/plain": [
       "  NO      GAP     TIME LAP   TIRE  TRACK  YEAR RACE  LENGTH  DOWNFORCE  \\\n",
       "0  3        0  103.315   1  Super  china  2016    3     NaN        NaN   \n",
       "1  3        0  102.309   2  Super  china  2016    3     NaN        NaN   \n",
       "2  3    PIT    116.349   3  Super  china  2016    3     NaN        NaN   \n",
       "3  3  42.564   139.944   4   Soft  china  2016    3     NaN        NaN   \n",
       "4  3  33.430   135.444   5   Soft  china  2016    3     NaN        NaN   \n",
       "\n",
       "   LATERAL  ASPHALT_ABR  ASPHALT_GRP  TIRE_STRESS  AIR_TEMP_MAX  AIR_TEMP_MIN  \\\n",
       "0      NaN          NaN          NaN          NaN           NaN           NaN   \n",
       "1      NaN          NaN          NaN          NaN           NaN           NaN   \n",
       "2      NaN          NaN          NaN          NaN           NaN           NaN   \n",
       "3      NaN          NaN          NaN          NaN           NaN           NaN   \n",
       "4      NaN          NaN          NaN          NaN           NaN           NaN   \n",
       "\n",
       "   T_TEMP_MAX  T_TEMP_MIN  \n",
       "0         NaN         NaN  \n",
       "1         NaN         NaN  \n",
       "2         NaN         NaN  \n",
       "3         NaN         NaN  \n",
       "4         NaN         NaN  "
      ]
     },
     "execution_count": 16,
     "metadata": {},
     "output_type": "execute_result"
    }
   ],
   "source": [
    "lap_features.head()"
   ]
  },
  {
   "cell_type": "code",
   "execution_count": 17,
   "metadata": {
    "collapsed": false
   },
   "outputs": [
    {
     "data": {
      "text/html": [
       "<div>\n",
       "<table border=\"1\" class=\"dataframe\">\n",
       "  <thead>\n",
       "    <tr style=\"text-align: right;\">\n",
       "      <th></th>\n",
       "      <th>NO</th>\n",
       "      <th>GAP</th>\n",
       "      <th>TIME</th>\n",
       "      <th>LAP</th>\n",
       "      <th>TIRE</th>\n",
       "      <th>TRACK</th>\n",
       "      <th>YEAR</th>\n",
       "      <th>RACE</th>\n",
       "    </tr>\n",
       "  </thead>\n",
       "  <tbody>\n",
       "    <tr>\n",
       "      <th>0</th>\n",
       "      <td>3</td>\n",
       "      <td>0</td>\n",
       "      <td>103.315</td>\n",
       "      <td>1</td>\n",
       "      <td>Super</td>\n",
       "      <td>china</td>\n",
       "      <td>2016</td>\n",
       "      <td>3</td>\n",
       "    </tr>\n",
       "    <tr>\n",
       "      <th>22</th>\n",
       "      <td>3</td>\n",
       "      <td>0</td>\n",
       "      <td>102.309</td>\n",
       "      <td>2</td>\n",
       "      <td>Super</td>\n",
       "      <td>china</td>\n",
       "      <td>2016</td>\n",
       "      <td>3</td>\n",
       "    </tr>\n",
       "    <tr>\n",
       "      <th>57</th>\n",
       "      <td>3</td>\n",
       "      <td>PIT</td>\n",
       "      <td>116.349</td>\n",
       "      <td>3</td>\n",
       "      <td>Super</td>\n",
       "      <td>china</td>\n",
       "      <td>2016</td>\n",
       "      <td>3</td>\n",
       "    </tr>\n",
       "    <tr>\n",
       "      <th>83</th>\n",
       "      <td>3</td>\n",
       "      <td>42.564</td>\n",
       "      <td>139.944</td>\n",
       "      <td>4</td>\n",
       "      <td>Soft</td>\n",
       "      <td>china</td>\n",
       "      <td>2016</td>\n",
       "      <td>3</td>\n",
       "    </tr>\n",
       "    <tr>\n",
       "      <th>104</th>\n",
       "      <td>3</td>\n",
       "      <td>33.430</td>\n",
       "      <td>135.444</td>\n",
       "      <td>5</td>\n",
       "      <td>Soft</td>\n",
       "      <td>china</td>\n",
       "      <td>2016</td>\n",
       "      <td>3</td>\n",
       "    </tr>\n",
       "  </tbody>\n",
       "</table>\n",
       "</div>"
      ],
      "text/plain": [
       "    NO      GAP     TIME LAP   TIRE  TRACK  YEAR RACE\n",
       "0    3        0  103.315   1  Super  china  2016    3\n",
       "22   3        0  102.309   2  Super  china  2016    3\n",
       "57   3    PIT    116.349   3  Super  china  2016    3\n",
       "83   3  42.564   139.944   4   Soft  china  2016    3\n",
       "104  3  33.430   135.444   5   Soft  china  2016    3"
      ]
     },
     "execution_count": 17,
     "metadata": {},
     "output_type": "execute_result"
    }
   ],
   "source": [
    "lap_times.head()"
   ]
  },
  {
   "cell_type": "code",
   "execution_count": 18,
   "metadata": {
    "collapsed": false
   },
   "outputs": [
    {
     "data": {
      "text/html": [
       "<div>\n",
       "<table border=\"1\" class=\"dataframe\">\n",
       "  <thead>\n",
       "    <tr style=\"text-align: right;\">\n",
       "      <th></th>\n",
       "      <th>NO</th>\n",
       "      <th>TIRE</th>\n",
       "      <th>TRACK</th>\n",
       "      <th>YEAR</th>\n",
       "      <th>COUNT</th>\n",
       "      <th>TIME</th>\n",
       "    </tr>\n",
       "  </thead>\n",
       "  <tbody>\n",
       "    <tr>\n",
       "      <th>0</th>\n",
       "      <td>3</td>\n",
       "      <td>Hard</td>\n",
       "      <td>britain</td>\n",
       "      <td>2015</td>\n",
       "      <td>10</td>\n",
       "      <td>108.704100</td>\n",
       "    </tr>\n",
       "    <tr>\n",
       "      <th>1</th>\n",
       "      <td>3</td>\n",
       "      <td>Hard</td>\n",
       "      <td>japan</td>\n",
       "      <td>2015</td>\n",
       "      <td>51</td>\n",
       "      <td>101.457765</td>\n",
       "    </tr>\n",
       "    <tr>\n",
       "      <th>2</th>\n",
       "      <td>3</td>\n",
       "      <td>Hard</td>\n",
       "      <td>malaysia</td>\n",
       "      <td>2015</td>\n",
       "      <td>37</td>\n",
       "      <td>108.020270</td>\n",
       "    </tr>\n",
       "    <tr>\n",
       "      <th>3</th>\n",
       "      <td>3</td>\n",
       "      <td>Hard</td>\n",
       "      <td>spain</td>\n",
       "      <td>2015</td>\n",
       "      <td>23</td>\n",
       "      <td>92.960391</td>\n",
       "    </tr>\n",
       "    <tr>\n",
       "      <th>4</th>\n",
       "      <td>3</td>\n",
       "      <td>Intermediate</td>\n",
       "      <td>usa</td>\n",
       "      <td>2015</td>\n",
       "      <td>19</td>\n",
       "      <td>119.811789</td>\n",
       "    </tr>\n",
       "  </tbody>\n",
       "</table>\n",
       "</div>"
      ],
      "text/plain": [
       "   NO          TIRE     TRACK  YEAR  COUNT        TIME\n",
       "0   3          Hard   britain  2015     10  108.704100\n",
       "1   3          Hard     japan  2015     51  101.457765\n",
       "2   3          Hard  malaysia  2015     37  108.020270\n",
       "3   3          Hard     spain  2015     23   92.960391\n",
       "4   3  Intermediate       usa  2015     19  119.811789"
      ]
     },
     "execution_count": 18,
     "metadata": {},
     "output_type": "execute_result"
    }
   ],
   "source": [
    "grouped = all_lap_times.drop(['GAP', 'LAP', 'RACE'], axis=1).groupby(['NO', 'TIRE', 'TRACK', 'YEAR'], as_index=False)\n",
    "avg_laps = pd.merge(grouped.count(), grouped.mean(), how='left', on=['NO', 'TIRE', 'TRACK', 'YEAR'])\n",
    "avg_laps.columns = ['NO', 'TIRE', 'TRACK', 'YEAR', 'COUNT', 'TIME']\n",
    "avg_laps.head()"
   ]
  },
  {
   "cell_type": "code",
   "execution_count": 19,
   "metadata": {
    "collapsed": false
   },
   "outputs": [
    {
     "name": "stderr",
     "output_type": "stream",
     "text": [
      "/Users/milesmonaghan/anaconda/lib/python2.7/site-packages/matplotlib/font_manager.py:273: UserWarning: Matplotlib is building the font cache using fc-list. This may take a moment.\n",
      "  warnings.warn('Matplotlib is building the font cache using fc-list. This may take a moment.')\n"
     ]
    }
   ],
   "source": [
    "import matplotlib.pyplot as plt\n",
    "import seaborn as sn\n",
    "%matplotlib inline\n",
    "\n",
    "def assign_color(tire):\n",
    "    colors = {'Ultra': 'm', 'Super': 'r', 'Soft': 'y', 'Medium': 'w', 'Hard': 'k', 'Intermediate': 'g'}\n",
    "    return colors[tire]\n",
    "\n",
    "def assign_ordinal(tire):\n",
    "    vals = {'Ultra': 1, 'Super': 2, 'Soft': 3, 'Medium': 4, 'Hard': 5, 'Intermediate': 5}\n",
    "    return vals[tire]"
   ]
  },
  {
   "cell_type": "code",
   "execution_count": 20,
   "metadata": {
    "collapsed": false
   },
   "outputs": [
    {
     "data": {
      "text/html": [
       "<div>\n",
       "<table border=\"1\" class=\"dataframe\">\n",
       "  <thead>\n",
       "    <tr style=\"text-align: right;\">\n",
       "      <th></th>\n",
       "      <th>NO</th>\n",
       "      <th>TIRE</th>\n",
       "      <th>TRACK</th>\n",
       "      <th>YEAR</th>\n",
       "      <th>COUNT</th>\n",
       "      <th>TIME</th>\n",
       "      <th>TIRE_VAL</th>\n",
       "    </tr>\n",
       "  </thead>\n",
       "  <tbody>\n",
       "    <tr>\n",
       "      <th>0</th>\n",
       "      <td>3</td>\n",
       "      <td>Hard</td>\n",
       "      <td>britain</td>\n",
       "      <td>2015</td>\n",
       "      <td>10</td>\n",
       "      <td>108.704100</td>\n",
       "      <td>5</td>\n",
       "    </tr>\n",
       "    <tr>\n",
       "      <th>1</th>\n",
       "      <td>3</td>\n",
       "      <td>Hard</td>\n",
       "      <td>japan</td>\n",
       "      <td>2015</td>\n",
       "      <td>51</td>\n",
       "      <td>101.457765</td>\n",
       "      <td>5</td>\n",
       "    </tr>\n",
       "    <tr>\n",
       "      <th>2</th>\n",
       "      <td>3</td>\n",
       "      <td>Hard</td>\n",
       "      <td>malaysia</td>\n",
       "      <td>2015</td>\n",
       "      <td>37</td>\n",
       "      <td>108.020270</td>\n",
       "      <td>5</td>\n",
       "    </tr>\n",
       "    <tr>\n",
       "      <th>3</th>\n",
       "      <td>3</td>\n",
       "      <td>Hard</td>\n",
       "      <td>spain</td>\n",
       "      <td>2015</td>\n",
       "      <td>23</td>\n",
       "      <td>92.960391</td>\n",
       "      <td>5</td>\n",
       "    </tr>\n",
       "    <tr>\n",
       "      <th>4</th>\n",
       "      <td>3</td>\n",
       "      <td>Intermediate</td>\n",
       "      <td>usa</td>\n",
       "      <td>2015</td>\n",
       "      <td>19</td>\n",
       "      <td>119.811789</td>\n",
       "      <td>5</td>\n",
       "    </tr>\n",
       "  </tbody>\n",
       "</table>\n",
       "</div>"
      ],
      "text/plain": [
       "   NO          TIRE     TRACK  YEAR  COUNT        TIME  TIRE_VAL\n",
       "0   3          Hard   britain  2015     10  108.704100         5\n",
       "1   3          Hard     japan  2015     51  101.457765         5\n",
       "2   3          Hard  malaysia  2015     37  108.020270         5\n",
       "3   3          Hard     spain  2015     23   92.960391         5\n",
       "4   3  Intermediate       usa  2015     19  119.811789         5"
      ]
     },
     "execution_count": 20,
     "metadata": {},
     "output_type": "execute_result"
    }
   ],
   "source": [
    "avg_laps['TIRE_VAL'] = avg_laps['TIRE'].apply(assign_ordinal)\n",
    "avg_laps.head()"
   ]
  },
  {
   "cell_type": "code",
   "execution_count": 21,
   "metadata": {
    "collapsed": false
   },
   "outputs": [
    {
     "data": {
      "text/plain": [
       "<seaborn.axisgrid.PairGrid at 0x105349c90>"
      ]
     },
     "execution_count": 21,
     "metadata": {},
     "output_type": "execute_result"
    },
    {
     "data": {
      "image/png": "[encoded data removed]",
      "text/plain": [
       "<matplotlib.figure.Figure at 0x105349cd0>"
      ]
     },
     "metadata": {},
     "output_type": "display_data"
    }
   ],
   "source": [
    "sn.pairplot(avg_laps[['COUNT', 'TIME', 'TIRE_VAL']])"
   ]
  },
  {
   "cell_type": "code",
   "execution_count": 24,
   "metadata": {
    "collapsed": false
   },
   "outputs": [
    {
     "data": {
      "text/plain": [
       "(50, 200)"
      ]
     },
     "execution_count": 24,
     "metadata": {},
     "output_type": "execute_result"
    },
    {
     "data": {
      "image/png": "[encoded data removed]",
      "text/plain": [
       "<matplotlib.figure.Figure at 0x1114bfc50>"
      ]
     },
     "metadata": {},
     "output_type": "display_data"
    }
   ],
   "source": [
    "plt.scatter(avg_laps['COUNT'], avg_laps['TIME'], c=avg_laps['TIRE'].apply(assign_color), alpha=.3)\n",
    "plt.xlim([0, 50])\n",
    "plt.ylim([50,200])"
   ]
  },
  {
   "cell_type": "markdown",
   "metadata": {},
   "source": [
    "## TEST CODE BELOW"
   ]
  },
  {
   "cell_type": "code",
   "execution_count": null,
   "metadata": {
    "collapsed": false
   },
   "outputs": [],
   "source": [
    "pwd"
   ]
  },
  {
   "cell_type": "code",
   "execution_count": null,
   "metadata": {
    "collapsed": true
   },
   "outputs": [],
   "source": []
  }
 ],
 "metadata": {
  "kernelspec": {
   "display_name": "Python 2",
   "language": "python",
   "name": "python2"
  }
 },
 "nbformat": 4,
 "nbformat_minor": 0
}
