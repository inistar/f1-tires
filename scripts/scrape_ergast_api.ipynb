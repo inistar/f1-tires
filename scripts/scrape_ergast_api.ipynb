{
 "cells": [
  {
   "cell_type": "code",
   "execution_count": 3,
   "metadata": {
    "collapsed": false
   },
   "outputs": [],
   "source": [
    "import numpy as np\n",
    "import pandas as pd\n",
    "import os\n",
    "\n",
    "import requests, pymongo, json, time\n",
    "from datetime import datetime\n",
    "from dateutil.relativedelta import relativedelta\n",
    "from bs4 import BeautifulSoup\n"
   ]
  },
  {
   "cell_type": "code",
   "execution_count": 61,
   "metadata": {
    "collapsed": true
   },
   "outputs": [],
   "source": [
    "querey = requests.get('http://ergast.com/api/f1/2011/5/drivers/alonso/laps/35.json')"
   ]
  },
  {
   "cell_type": "code",
   "execution_count": 62,
   "metadata": {
    "collapsed": false
   },
   "outputs": [],
   "source": [
    "raw = json.loads(querey.text)"
   ]
  },
  {
   "cell_type": "code",
   "execution_count": 71,
   "metadata": {
    "collapsed": false
   },
   "outputs": [
    {
     "data": {
      "text/plain": [
       "u'35'"
      ]
     },
     "execution_count": 71,
     "metadata": {},
     "output_type": "execute_result"
    }
   ],
   "source": [
    "raw['MRData']['RaceTable']['Races'][0]['Laps'][0]['number']"
   ]
  },
  {
   "cell_type": "code",
   "execution_count": 79,
   "metadata": {
    "collapsed": true
   },
   "outputs": [],
   "source": [
    "querey2 = requests.get('http://ergast.com/api/f1/2015/3/pitstops.json')"
   ]
  },
  {
   "cell_type": "code",
   "execution_count": 80,
   "metadata": {
    "collapsed": true
   },
   "outputs": [],
   "source": [
    "raw2 = json.loads(querey2.text)"
   ]
  },
  {
   "cell_type": "code",
   "execution_count": 84,
   "metadata": {
    "collapsed": false,
    "scrolled": false
   },
   "outputs": [
    {
     "data": {
      "text/plain": [
       "[{u'driverId': u'nasr',\n",
       "  u'duration': u'23.409',\n",
       "  u'lap': u'10',\n",
       "  u'stop': u'1',\n",
       "  u'time': u'14:21:26'},\n",
       " {u'driverId': u'maldonado',\n",
       "  u'duration': u'22.470',\n",
       "  u'lap': u'11',\n",
       "  u'stop': u'1',\n",
       "  u'time': u'14:23:09'},\n",
       " {u'driverId': u'perez',\n",
       "  u'duration': u'22.829',\n",
       "  u'lap': u'11',\n",
       "  u'stop': u'1',\n",
       "  u'time': u'14:23:19'},\n",
       " {u'driverId': u'grosjean',\n",
       "  u'duration': u'23.421',\n",
       "  u'lap': u'12',\n",
       "  u'stop': u'1',\n",
       "  u'time': u'14:24:52'},\n",
       " {u'driverId': u'max_verstappen',\n",
       "  u'duration': u'24.256',\n",
       "  u'lap': u'12',\n",
       "  u'stop': u'1',\n",
       "  u'time': u'14:24:59'},\n",
       " {u'driverId': u'alonso',\n",
       "  u'duration': u'23.238',\n",
       "  u'lap': u'12',\n",
       "  u'stop': u'1',\n",
       "  u'time': u'14:25:14'},\n",
       " {u'driverId': u'vettel',\n",
       "  u'duration': u'22.488',\n",
       "  u'lap': u'13',\n",
       "  u'stop': u'1',\n",
       "  u'time': u'14:26:23'},\n",
       " {u'driverId': u'massa',\n",
       "  u'duration': u'23.145',\n",
       "  u'lap': u'13',\n",
       "  u'stop': u'1',\n",
       "  u'time': u'14:26:33'},\n",
       " {u'driverId': u'hamilton',\n",
       "  u'duration': u'22.645',\n",
       "  u'lap': u'14',\n",
       "  u'stop': u'1',\n",
       "  u'time': u'14:28:00'},\n",
       " {u'driverId': u'bottas',\n",
       "  u'duration': u'23.084',\n",
       "  u'lap': u'14',\n",
       "  u'stop': u'1',\n",
       "  u'time': u'14:28:20'},\n",
       " {u'driverId': u'ericsson',\n",
       "  u'duration': u'23.846',\n",
       "  u'lap': u'14',\n",
       "  u'stop': u'1',\n",
       "  u'time': u'14:28:36'},\n",
       " {u'driverId': u'ricciardo',\n",
       "  u'duration': u'22.635',\n",
       "  u'lap': u'14',\n",
       "  u'stop': u'1',\n",
       "  u'time': u'14:28:38'},\n",
       " {u'driverId': u'button',\n",
       "  u'duration': u'23.936',\n",
       "  u'lap': u'14',\n",
       "  u'stop': u'1',\n",
       "  u'time': u'14:28:51'},\n",
       " {u'driverId': u'rosberg',\n",
       "  u'duration': u'22.483',\n",
       "  u'lap': u'15',\n",
       "  u'stop': u'1',\n",
       "  u'time': u'14:29:48'},\n",
       " {u'driverId': u'raikkonen',\n",
       "  u'duration': u'22.818',\n",
       "  u'lap': u'15',\n",
       "  u'stop': u'1',\n",
       "  u'time': u'14:29:55'},\n",
       " {u'driverId': u'stevens',\n",
       "  u'duration': u'24.132',\n",
       "  u'lap': u'16',\n",
       "  u'stop': u'1',\n",
       "  u'time': u'14:32:55'},\n",
       " {u'driverId': u'merhi',\n",
       "  u'duration': u'25.938',\n",
       "  u'lap': u'17',\n",
       "  u'stop': u'1',\n",
       "  u'time': u'14:34:51'},\n",
       " {u'driverId': u'sainz',\n",
       "  u'duration': u'23.795',\n",
       "  u'lap': u'19',\n",
       "  u'stop': u'1',\n",
       "  u'time': u'14:37:55'},\n",
       " {u'driverId': u'perez',\n",
       "  u'duration': u'23.338',\n",
       "  u'lap': u'26',\n",
       "  u'stop': u'2',\n",
       "  u'time': u'14:50:03'},\n",
       " {u'driverId': u'vettel',\n",
       "  u'duration': u'22.444',\n",
       "  u'lap': u'30',\n",
       "  u'stop': u'2',\n",
       "  u'time': u'14:56:09'},\n",
       " {u'driverId': u'ericsson',\n",
       "  u'duration': u'24.589',\n",
       "  u'lap': u'30',\n",
       "  u'stop': u'2',\n",
       "  u'time': u'14:57:12'},\n",
       " {u'driverId': u'rosberg',\n",
       "  u'duration': u'22.829',\n",
       "  u'lap': u'31',\n",
       "  u'stop': u'2',\n",
       "  u'time': u'14:57:50'},\n",
       " {u'driverId': u'nasr',\n",
       "  u'duration': u'23.732',\n",
       "  u'lap': u'31',\n",
       "  u'stop': u'2',\n",
       "  u'time': u'14:58:53'},\n",
       " {u'driverId': u'grosjean',\n",
       "  u'duration': u'23.605',\n",
       "  u'lap': u'32',\n",
       "  u'stop': u'2',\n",
       "  u'time': u'15:00:30'},\n",
       " {u'driverId': u'max_verstappen',\n",
       "  u'duration': u'23.258',\n",
       "  u'lap': u'32',\n",
       "  u'stop': u'2',\n",
       "  u'time': u'15:00:35'},\n",
       " {u'driverId': u'button',\n",
       "  u'duration': u'23.273',\n",
       "  u'lap': u'32',\n",
       "  u'stop': u'2',\n",
       "  u'time': u'15:00:57'},\n",
       " {u'driverId': u'hamilton',\n",
       "  u'duration': u'22.235',\n",
       "  u'lap': u'33',\n",
       "  u'stop': u'2',\n",
       "  u'time': u'15:01:11'},\n",
       " {u'driverId': u'maldonado',\n",
       "  u'duration': u'22.899',\n",
       "  u'lap': u'33',\n",
       "  u'stop': u'2',\n",
       "  u'time': u'15:02:42'},\n",
       " {u'driverId': u'raikkonen',\n",
       "  u'duration': u'22.453',\n",
       "  u'lap': u'34',\n",
       "  u'stop': u'2',\n",
       "  u'time': u'15:03:09'},\n",
       " {u'driverId': u'massa',\n",
       "  u'duration': u'23.317',\n",
       "  u'lap': u'34',\n",
       "  u'stop': u'2',\n",
       "  u'time': u'15:03:37'}]"
      ]
     },
     "execution_count": 84,
     "metadata": {},
     "output_type": "execute_result"
    }
   ],
   "source": [
    "raw2['MRData']['RaceTable']['Races'][0]['PitStops']"
   ]
  },
  {
   "cell_type": "code",
   "execution_count": null,
   "metadata": {
    "collapsed": true
   },
   "outputs": [],
   "source": []
  }
 ],
 "metadata": {
  "kernelspec": {
   "display_name": "Python 2",
   "language": "python",
   "name": "python2"
  },
  "language_info": {
   "codemirror_mode": {
    "name": "ipython",
    "version": 2
   },
   "file_extension": ".py",
   "mimetype": "text/x-python",
   "name": "python",
   "nbconvert_exporter": "python",
   "pygments_lexer": "ipython2",
   "version": "2.7.11"
  }
 },
 "nbformat": 4,
 "nbformat_minor": 0
}
