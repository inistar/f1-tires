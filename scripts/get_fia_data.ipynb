{
 "cells": [
  {
   "cell_type": "code",
   "execution_count": 1,
   "metadata": {
    "collapsed": true
   },
   "outputs": [],
   "source": [
    "from bs4 import BeautifulSoup\n",
    "from urllib import urlopen\n",
    "\n"
   ]
  },
  {
   "cell_type": "code",
   "execution_count": 7,
   "metadata": {
    "collapsed": false
   },
   "outputs": [],
   "source": [
    "r = urlopen('http://www.fia.com/events/fia-formula-one-world-championship/season-2015/event-timing-information-1', \n",
    "                    'html.parser')\n",
    "soup = BeautifulSoup(r)\n",
    "\n"
   ]
  },
  {
   "cell_type": "code",
   "execution_count": 8,
   "metadata": {
    "collapsed": false
   },
   "outputs": [
    {
     "name": "stdout",
     "output_type": "stream",
     "text": [
      "<!DOCTYPE html>\n",
      "<!--[if lt IE 7]> <html class=\"no-js ie6 oldie\" lang=\"en-US\"> <![endif]-->\n",
      "<!--[if IE 7]>    <html class=\"no-js ie7 oldie\" lang=\"en-US\"> <![endif]-->\n",
      "<!--[if IE 8]>    <html class=\"no-js ie8 oldie\" lang=\"en-US\"> <![endif]-->\n",
      "<!--[if gt IE 8]><!-->\n",
      "<html class=\"no-js\" lang=\"en-US\">\n",
      " <!--<![endif]-->\n",
      " <head>\n",
      "  <title>\n",
      "   Access denied | www.fia.com used CloudFlare to restrict access\n",
      "  </title>\n",
      "  <meta charset=\"utf-8\"/>\n",
      "  <meta content=\"text/html; charset=utf-8\" http-equiv=\"Content-Type\"/>\n",
      "  <meta content=\"IE=Edge,chrome=1\" http-equiv=\"X-UA-Compatible\"/>\n",
      "  <meta content=\"noindex, nofollow\" name=\"robots\"/>\n",
      "  <meta content=\"width=device-width,initial-scale=1,maximum-scale=1\" name=\"viewport\"/>\n",
      "  <link href=\"/cdn-cgi/styles/cf.errors.css\" id=\"cf_styles-css\" media=\"screen,projection\" rel=\"stylesheet\" type=\"text/css\"/>\n",
      "  <!--[if lt IE 9]><link rel=\"stylesheet\" id='cf_styles-ie-css' href=\"/cdn-cgi/styles/cf.errors.ie.css\" type=\"text/css\" media=\"screen,projection\" /><![endif]-->\n",
      "  <style type=\"text/css\">\n",
      "   body{margin:0;padding:0}\n",
      "  </style>\n",
      "  <!--[if lte IE 9]><script type=\"text/javascript\" src=\"/cdn-cgi/scripts/jquery.min.js\"></script><![endif]-->\n",
      "  <!--[if gte IE 10]><!-->\n",
      "  <script src=\"/cdn-cgi/scripts/zepto.min.js\" type=\"text/javascript\">\n",
      "  </script>\n",
      "  <!--<![endif]-->\n",
      "  <script src=\"/cdn-cgi/scripts/cf.common.js\" type=\"text/javascript\">\n",
      "  </script>\n",
      " </head>\n",
      " <body>\n",
      "  <div id=\"cf-wrapper\">\n",
      "   <div class=\"cf-alert cf-alert-error cf-cookie-error\" data-translate=\"enable_cookies\" id=\"cookie-alert\">\n",
      "    Please enable cookies.\n",
      "   </div>\n",
      "   <div class=\"cf-error-details-wrapper\" id=\"cf-error-details\">\n",
      "    <div class=\"cf-wrapper cf-header cf-error-overview\">\n",
      "     <h1>\n",
      "      <span class=\"cf-error-type\" data-translate=\"error\">\n",
      "       Error\n",
      "      </span>\n",
      "      <span class=\"cf-error-code\">\n",
      "       1010\n",
      "      </span>\n",
      "      <small class=\"heading-ray-id\">\n",
      "       Ray ID: 2953a0b2ff2d283a • 2016-04-17 23:23:57 UTC\n",
      "      </small>\n",
      "     </h1>\n",
      "     <h2 class=\"cf-subheadline\" data-translate=\"error_desc\">\n",
      "      Access denied\n",
      "     </h2>\n",
      "    </div>\n",
      "    <!-- /.header -->\n",
      "    <section>\n",
      "    </section>\n",
      "    <!-- spacer -->\n",
      "    <div class=\"cf-section cf-wrapper\">\n",
      "     <div class=\"cf-columns two\">\n",
      "      <div class=\"cf-column\">\n",
      "       <h2 data-translate=\"what_happened\">\n",
      "        What happened?\n",
      "       </h2>\n",
      "       <p>\n",
      "        The owner of this website (www.fia.com) has banned your access based on your browser's signature (2953a0b2ff2d283a-ua48).\n",
      "       </p>\n",
      "      </div>\n",
      "     </div>\n",
      "    </div>\n",
      "    <!-- /.section -->\n",
      "    <div class=\"cf-error-footer cf-wrapper\">\n",
      "     <p>\n",
      "      <span class=\"cf-footer-item\">\n",
      "       CloudFlare Ray ID:\n",
      "       <strong>\n",
      "        2953a0b2ff2d283a\n",
      "       </strong>\n",
      "      </span>\n",
      "      <span class=\"cf-footer-separator\">\n",
      "       •\n",
      "      </span>\n",
      "      <span class=\"cf-footer-item\">\n",
      "       <span data-translate=\"your_ip\">\n",
      "        Your IP\n",
      "       </span>\n",
      "       : 50.174.5.236\n",
      "      </span>\n",
      "      <span class=\"cf-footer-separator\">\n",
      "       •\n",
      "      </span>\n",
      "      <span class=\"cf-footer-item\">\n",
      "       <span data-translate=\"performance_security_by\">\n",
      "        Performance &amp; security by\n",
      "       </span>\n",
      "       <a data-orig-proto=\"https\" data-orig-ref=\"www.cloudflare.com/5xx-error-landing?utm_source=error_footer\" id=\"brand_link\" target=\"_blank\">\n",
      "        CloudFlare\n",
      "       </a>\n",
      "      </span>\n",
      "     </p>\n",
      "    </div>\n",
      "    <!-- /.error-footer -->\n",
      "   </div>\n",
      "   <!-- /#cf-error-details -->\n",
      "  </div>\n",
      "  <!-- /#cf-wrapper -->\n",
      "  <script type=\"text/javascript\">\n",
      "   window._cf_translation = {};\n",
      "  </script>\n",
      " </body>\n",
      "</html>\n",
      "\n"
     ]
    }
   ],
   "source": [
    "print soup.prettify()\n"
   ]
  },
  {
   "cell_type": "code",
   "execution_count": 9,
   "metadata": {
    "collapsed": true
   },
   "outputs": [],
   "source": [
    "from lxml import html\n",
    "import requests"
   ]
  },
  {
   "cell_type": "code",
   "execution_count": 26,
   "metadata": {
    "collapsed": true
   },
   "outputs": [],
   "source": [
    "page = requests.get('http://www.fia.com/events/fia-formula-one-world-championship/season-2015/event-timing-information-1')\n",
    "tree = html.fromstring(page.content)\n"
   ]
  },
  {
   "cell_type": "code",
   "execution_count": 27,
   "metadata": {
    "collapsed": false
   },
   "outputs": [
    {
     "data": {
      "text/plain": [
       "[<Element div at 0x105d85890>,\n",
       " <Element div at 0x102c3d100>,\n",
       " <Element div at 0x102c3d158>,\n",
       " <Element div at 0x102c3d1b0>,\n",
       " <Element div at 0x102c3d208>,\n",
       " <Element div at 0x102c3d260>,\n",
       " <Element div at 0x102c3d2b8>,\n",
       " <Element div at 0x102c3d310>,\n",
       " <Element div at 0x102c3d368>,\n",
       " <Element div at 0x102c3d3c0>,\n",
       " <Element div at 0x102c3d418>,\n",
       " <Element div at 0x102c3d470>,\n",
       " <Element div at 0x102c3d4c8>,\n",
       " <Element div at 0x102c3d520>,\n",
       " <Element div at 0x102c3d578>,\n",
       " <Element div at 0x102c3d5d0>,\n",
       " <Element div at 0x102c3d628>,\n",
       " <Element div at 0x102c3d680>,\n",
       " <Element div at 0x102c3d6d8>,\n",
       " <Element div at 0x102c3d730>,\n",
       " <Element div at 0x102c3d788>,\n",
       " <Element div at 0x102c3d7e0>,\n",
       " <Element div at 0x102c3d838>,\n",
       " <Element div at 0x102c3d890>,\n",
       " <Element div at 0x102c3d8e8>,\n",
       " <Element div at 0x102c3d940>,\n",
       " <Element div at 0x102c3d998>,\n",
       " <Element div at 0x102c3d9f0>,\n",
       " <Element div at 0x102c3da48>,\n",
       " <Element div at 0x102c3daa0>,\n",
       " <Element div at 0x102c3daf8>,\n",
       " <Element div at 0x102c3db50>,\n",
       " <Element div at 0x102c3dba8>,\n",
       " <Element div at 0x102c3dc00>,\n",
       " <Element div at 0x102c3dc58>,\n",
       " <Element div at 0x102c3dcb0>,\n",
       " <Element div at 0x102c3dd08>,\n",
       " <Element div at 0x102c3dd60>,\n",
       " <Element div at 0x102c3ddb8>,\n",
       " <Element div at 0x102c3de10>,\n",
       " <Element div at 0x102c3de68>,\n",
       " <Element div at 0x102c3dec0>,\n",
       " <Element div at 0x102c3df18>,\n",
       " <Element div at 0x102c3df70>,\n",
       " <Element div at 0x102c3dfc8>,\n",
       " <Element div at 0x102c58050>,\n",
       " <Element div at 0x102c580a8>,\n",
       " <Element div at 0x102c58100>,\n",
       " <Element div at 0x102c58158>,\n",
       " <Element div at 0x102c581b0>,\n",
       " <Element div at 0x102c58208>,\n",
       " <Element div at 0x102c58260>,\n",
       " <Element div at 0x102c582b8>,\n",
       " <Element div at 0x102c58310>,\n",
       " <Element div at 0x102c58368>,\n",
       " <Element div at 0x102c583c0>,\n",
       " <Element div at 0x102c58418>,\n",
       " <Element div at 0x102c58470>,\n",
       " <Element div at 0x102c584c8>,\n",
       " <Element div at 0x102c58520>,\n",
       " <Element div at 0x102c58578>,\n",
       " <Element div at 0x102c585d0>,\n",
       " <Element div at 0x102c58628>,\n",
       " <Element div at 0x102c58680>,\n",
       " <Element div at 0x102c586d8>,\n",
       " <Element div at 0x102c58730>,\n",
       " <Element div at 0x102c58788>,\n",
       " <Element div at 0x102c587e0>,\n",
       " <Element div at 0x102c58838>,\n",
       " <Element div at 0x102c58890>,\n",
       " <Element div at 0x102c588e8>,\n",
       " <Element div at 0x102c58940>,\n",
       " <Element div at 0x102c58998>,\n",
       " <Element div at 0x102c589f0>,\n",
       " <Element div at 0x102c58a48>,\n",
       " <Element div at 0x102c58aa0>,\n",
       " <Element div at 0x102c58af8>,\n",
       " <Element div at 0x102c58b50>,\n",
       " <Element div at 0x102c58ba8>,\n",
       " <Element div at 0x102c58c00>,\n",
       " <Element div at 0x102c58c58>,\n",
       " <Element div at 0x102c58cb0>,\n",
       " <Element div at 0x102c58d08>,\n",
       " <Element div at 0x102c58d60>]"
      ]
     },
     "execution_count": 27,
     "metadata": {},
     "output_type": "execute_result"
    }
   ],
   "source": [
    "tree.xpath('//div')"
   ]
  },
  {
   "cell_type": "code",
   "execution_count": null,
   "metadata": {
    "collapsed": true
   },
   "outputs": [],
   "source": []
  }
 ],
 "metadata": {
  "kernelspec": {
   "display_name": "Python 2",
   "language": "python",
   "name": "python2"
  },
  "language_info": {
   "codemirror_mode": {
    "name": "ipython",
    "version": 2
   },
   "file_extension": ".py",
   "mimetype": "text/x-python",
   "name": "python",
   "nbconvert_exporter": "python",
   "pygments_lexer": "ipython2",
   "version": "2.7.11"
  }
 },
 "nbformat": 4,
 "nbformat_minor": 0
}
