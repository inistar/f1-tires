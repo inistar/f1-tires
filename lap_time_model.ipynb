{
 "cells": [
  {
   "cell_type": "markdown",
   "metadata": {},
   "source": [
    "# Create Lap Feature DataFrame and Model"
   ]
  },
  {
   "cell_type": "code",
   "execution_count": 1,
   "metadata": {
    "collapsed": false
   },
   "outputs": [
    {
     "name": "stderr",
     "output_type": "stream",
     "text": [
      "/Users/milesmonaghan/anaconda/lib/python2.7/site-packages/pandas/computation/__init__.py:19: UserWarning: The installed version of numexpr 2.4.4 is not supported in pandas and will be not be used\n",
      "\n",
      "  UserWarning)\n"
     ]
    }
   ],
   "source": [
    "import pandas as pd\n",
    "import numpy as np\n",
    "import datetime\n",
    "import os\n",
    "import scripts.f1_scripts  as f1\n",
    "\n",
    "import statsmodels.api as sms\n",
    "from sklearn.linear_model import LinearRegression\n",
    "from sklearn.cross_validation import train_test_split\n",
    "from sklearn.cross_validation import cross_val_score\n",
    "from sklearn.ensemble import RandomForestRegressor\n",
    "from sklearn.ensemble import AdaBoostRegressor"
   ]
  },
  {
   "cell_type": "code",
   "execution_count": 2,
   "metadata": {
    "collapsed": false
   },
   "outputs": [
    {
     "name": "stderr",
     "output_type": "stream",
     "text": [
      "/Users/milesmonaghan/anaconda/lib/python2.7/site-packages/matplotlib/font_manager.py:273: UserWarning: Matplotlib is building the font cache using fc-list. This may take a moment.\n",
      "  warnings.warn('Matplotlib is building the font cache using fc-list. This may take a moment.')\n"
     ]
    }
   ],
   "source": [
    "import matplotlib.pyplot as plt\n",
    "import seaborn as sn\n",
    "%matplotlib inline\n",
    "\n",
    "def assign_color(tire):\n",
    "    colors = {'Ultra': 'm', 'Super': 'r', 'Soft': 'y', 'Medium': 'w', 'Hard': 'k', 'Intermediate': 'g'}\n",
    "    return colors[tire]\n",
    "\n",
    "def assign_ordinal(tire):\n",
    "    vals = {'Ultra': 1, 'Super': 2, 'Soft': 3, 'Medium': 4, 'Hard': 5, 'Intermediate': 6}\n",
    "    return vals[tire]"
   ]
  },
  {
   "cell_type": "code",
   "execution_count": 3,
   "metadata": {
    "collapsed": true
   },
   "outputs": [],
   "source": [
    "# Load driver list as GLOBAL variable\n",
    "DRIVER_LIST = pd.read_csv('data/drivers.csv')"
   ]
  },
  {
   "cell_type": "code",
   "execution_count": 4,
   "metadata": {
    "collapsed": true
   },
   "outputs": [],
   "source": [
    "def create_race_features(filename):\n",
    "    year, race_num, track = filename.split('_')\n",
    "    # Load lap times for all drivers\n",
    "    lap_data = pd.read_csv('data/lap_history/{filename}_lap_history.csv'.format(filename=filename), header=None)\n",
    "    lap_times = f1.assign_lap(lap_data)\n",
    "    lap_times['TIME'] = f1.convert_time(lap_times['TIME'])\n",
    "    lap_times.sort_values(by=['NO', 'LAP'], inplace=True)\n",
    "    lap_times['LAP'] = lap_times['LAP'].astype(int)\n",
    "\n",
    "    # Load Tire strategy data\n",
    "    tire_data = pd.read_csv('data/tire_strategy/{filename}.csv'.format(filename=filename))\n",
    "    tire_strat = f1.get_tires(tire_data)\n",
    "\n",
    "    # Join Driver, Name, No. to tire data and sort by No.\n",
    "    tire_strat = pd.merge(DRIVER_LIST, tire_strat, on='NAME')\n",
    "    tire_strat.drop(['NAME', 'DRIVER'], axis=1, inplace=True)\n",
    "\n",
    "    # Append tire data to lap data\n",
    "    mask = tire_strat.iloc[:,1:].notnull().values\n",
    "    lap_times['TIRE'] = tire_strat[tire_strat.columns[1:]].values[mask].flatten()\n",
    "    lap_times['TRACK'] = track\n",
    "    lap_times['YEAR'] = year\n",
    "    lap_times['RACE'] = race_num\n",
    "    lap_times['GAP'] = lap_times['GAP'].apply(lambda x: x.strip())\n",
    "\n",
    "    return lap_times\n",
    "\n",
    "def assign_stint_lap(df):\n",
    "    df['STINT_LAP'] = 1\n",
    "    idx = df[df['GAP'] == 'PIT'].index\n",
    "    start = 0\n",
    "    for val in idx:\n",
    "        df['STINT_LAP'].ix[start:val] = df.ix[start:val]['STINT_LAP'].cumsum()\n",
    "        start = val + 1\n",
    "    end = df.index[-1]\n",
    "    df['STINT_LAP'].ix[start:end] = df.ix[start:end]['STINT_LAP'].cumsum()\n",
    "    return df"
   ]
  },
  {
   "cell_type": "code",
   "execution_count": 5,
   "metadata": {
    "collapsed": false
   },
   "outputs": [],
   "source": [
    "# Create a list of the available races to date that we can use for training\n",
    "races = os.listdir('data/fia')\n",
    "races = races[1:]\n",
    "races;"
   ]
  },
  {
   "cell_type": "code",
   "execution_count": 6,
   "metadata": {
    "collapsed": false
   },
   "outputs": [
    {
     "name": "stdout",
     "output_type": "stream",
     "text": [
      "2015_10_hungary complete.\n",
      "2015_11_belgium complete.\n",
      "2015_12_italy complete.\n",
      "2015_13_singapore complete.\n",
      "2015_14_japan complete.\n",
      "2015_15_russia complete.\n",
      "2015_16_usa complete.\n",
      "2015_17_mexico complete.\n",
      "2015_18_brazil complete.\n",
      "2015_19_abudhabi complete.\n",
      "2015_1_australia complete.\n",
      "2015_2_malaysia complete.\n",
      "2015_3_china complete.\n",
      "2015_4_bahrain complete.\n",
      "2015_5_spain complete.\n",
      "2015_6_monaco complete.\n",
      "2015_7_canada complete.\n",
      "2015_8_austria complete.\n",
      "2015_9_britain complete.\n",
      "2016_1_australia complete.\n",
      "2016_2_bahrain complete.\n",
      "2016_3_china complete.\n"
     ]
    }
   ],
   "source": [
    "# Create DataFrame of all laps for all drivers in all races\n",
    "list_of_times = []\n",
    "for race in races:\n",
    "    lap_times = create_race_features(race)\n",
    "    list_of_times.append(lap_times)\n",
    "    print '{} complete.'.format(race)\n",
    "all_lap_times = pd.concat(list_of_times)\n",
    "all_lap_times['YEAR'] = all_lap_times['YEAR'].astype(int)\n",
    "all_lap_times.reset_index(inplace=True, drop=True)\n",
    "\n"
   ]
  },
  {
   "cell_type": "code",
   "execution_count": 7,
   "metadata": {
    "collapsed": false
   },
   "outputs": [
    {
     "data": {
      "text/plain": [
       "(423, 8)"
      ]
     },
     "execution_count": 7,
     "metadata": {},
     "output_type": "execute_result"
    }
   ],
   "source": [
    "all_lap_times[all_lap_times['LAP'] == 1].shape"
   ]
  },
  {
   "cell_type": "code",
   "execution_count": 8,
   "metadata": {
    "collapsed": false
   },
   "outputs": [],
   "source": [
    "all_lap_times['SAFETY'] = all_lap_times.apply(lambda x: f1.assign_safety(x['TRACK'], x['YEAR'], x['LAP']), axis=1)\n"
   ]
  },
  {
   "cell_type": "code",
   "execution_count": 9,
   "metadata": {
    "collapsed": false
   },
   "outputs": [
    {
     "data": {
      "text/plain": [
       "(1362, 9)"
      ]
     },
     "execution_count": 9,
     "metadata": {},
     "output_type": "execute_result"
    }
   ],
   "source": [
    "all_lap_times[all_lap_times['SAFETY'] == True].shape"
   ]
  },
  {
   "cell_type": "markdown",
   "metadata": {},
   "source": [
    "## Add laps since tire change"
   ]
  },
  {
   "cell_type": "code",
   "execution_count": 10,
   "metadata": {
    "collapsed": false
   },
   "outputs": [
    {
     "data": {
      "text/html": [
       "<div>\n",
       "<table border=\"1\" class=\"dataframe\">\n",
       "  <thead>\n",
       "    <tr style=\"text-align: right;\">\n",
       "      <th></th>\n",
       "      <th>NO</th>\n",
       "      <th>GAP</th>\n",
       "      <th>TIME</th>\n",
       "      <th>LAP</th>\n",
       "      <th>TIRE</th>\n",
       "      <th>TRACK</th>\n",
       "      <th>YEAR</th>\n",
       "      <th>RACE</th>\n",
       "      <th>SAFETY</th>\n",
       "    </tr>\n",
       "  </thead>\n",
       "  <tbody>\n",
       "    <tr>\n",
       "      <th>0</th>\n",
       "      <td>3</td>\n",
       "      <td>6.325</td>\n",
       "      <td>99.193</td>\n",
       "      <td>1</td>\n",
       "      <td>Soft</td>\n",
       "      <td>hungary</td>\n",
       "      <td>2015</td>\n",
       "      <td>10</td>\n",
       "      <td>0</td>\n",
       "    </tr>\n",
       "    <tr>\n",
       "      <th>1</th>\n",
       "      <td>3</td>\n",
       "      <td>8.887</td>\n",
       "      <td>91.382</td>\n",
       "      <td>2</td>\n",
       "      <td>Soft</td>\n",
       "      <td>hungary</td>\n",
       "      <td>2015</td>\n",
       "      <td>10</td>\n",
       "      <td>0</td>\n",
       "    </tr>\n",
       "    <tr>\n",
       "      <th>2</th>\n",
       "      <td>3</td>\n",
       "      <td>10.556</td>\n",
       "      <td>90.333</td>\n",
       "      <td>3</td>\n",
       "      <td>Soft</td>\n",
       "      <td>hungary</td>\n",
       "      <td>2015</td>\n",
       "      <td>10</td>\n",
       "      <td>0</td>\n",
       "    </tr>\n",
       "    <tr>\n",
       "      <th>3</th>\n",
       "      <td>3</td>\n",
       "      <td>12.451</td>\n",
       "      <td>89.962</td>\n",
       "      <td>4</td>\n",
       "      <td>Soft</td>\n",
       "      <td>hungary</td>\n",
       "      <td>2015</td>\n",
       "      <td>10</td>\n",
       "      <td>0</td>\n",
       "    </tr>\n",
       "    <tr>\n",
       "      <th>4</th>\n",
       "      <td>3</td>\n",
       "      <td>13.664</td>\n",
       "      <td>89.525</td>\n",
       "      <td>5</td>\n",
       "      <td>Soft</td>\n",
       "      <td>hungary</td>\n",
       "      <td>2015</td>\n",
       "      <td>10</td>\n",
       "      <td>0</td>\n",
       "    </tr>\n",
       "  </tbody>\n",
       "</table>\n",
       "</div>"
      ],
      "text/plain": [
       "  NO     GAP    TIME  LAP  TIRE    TRACK  YEAR RACE  SAFETY\n",
       "0  3   6.325  99.193    1  Soft  hungary  2015   10       0\n",
       "1  3   8.887  91.382    2  Soft  hungary  2015   10       0\n",
       "2  3  10.556  90.333    3  Soft  hungary  2015   10       0\n",
       "3  3  12.451  89.962    4  Soft  hungary  2015   10       0\n",
       "4  3  13.664  89.525    5  Soft  hungary  2015   10       0"
      ]
     },
     "execution_count": 10,
     "metadata": {},
     "output_type": "execute_result"
    }
   ],
   "source": [
    "all_lap_times.head()"
   ]
  },
  {
   "cell_type": "code",
   "execution_count": 11,
   "metadata": {
    "collapsed": false
   },
   "outputs": [
    {
     "name": "stderr",
     "output_type": "stream",
     "text": [
      "/Users/milesmonaghan/anaconda/lib/python2.7/site-packages/pandas/core/indexing.py:128: SettingWithCopyWarning: \n",
      "A value is trying to be set on a copy of a slice from a DataFrame\n",
      "\n",
      "See the caveats in the documentation: http://pandas.pydata.org/pandas-docs/stable/indexing.html#indexing-view-versus-copy\n",
      "  self._setitem_with_indexer(indexer, value)\n"
     ]
    }
   ],
   "source": [
    "all_lap_times = assign_stint_lap(all_lap_times)\n",
    "\n",
    "        "
   ]
  },
  {
   "cell_type": "code",
   "execution_count": 12,
   "metadata": {
    "collapsed": false,
    "scrolled": true
   },
   "outputs": [
    {
     "data": {
      "text/html": [
       "<div>\n",
       "<table border=\"1\" class=\"dataframe\">\n",
       "  <thead>\n",
       "    <tr style=\"text-align: right;\">\n",
       "      <th></th>\n",
       "      <th>NO</th>\n",
       "      <th>GAP</th>\n",
       "      <th>TIME</th>\n",
       "      <th>LAP</th>\n",
       "      <th>TIRE</th>\n",
       "      <th>TRACK</th>\n",
       "      <th>YEAR</th>\n",
       "      <th>RACE</th>\n",
       "      <th>SAFETY</th>\n",
       "      <th>STINT_LAP</th>\n",
       "    </tr>\n",
       "  </thead>\n",
       "  <tbody>\n",
       "    <tr>\n",
       "      <th>0</th>\n",
       "      <td>3</td>\n",
       "      <td>6.325</td>\n",
       "      <td>99.193</td>\n",
       "      <td>1</td>\n",
       "      <td>Soft</td>\n",
       "      <td>hungary</td>\n",
       "      <td>2015</td>\n",
       "      <td>10</td>\n",
       "      <td>0</td>\n",
       "      <td>1</td>\n",
       "    </tr>\n",
       "    <tr>\n",
       "      <th>1</th>\n",
       "      <td>3</td>\n",
       "      <td>8.887</td>\n",
       "      <td>91.382</td>\n",
       "      <td>2</td>\n",
       "      <td>Soft</td>\n",
       "      <td>hungary</td>\n",
       "      <td>2015</td>\n",
       "      <td>10</td>\n",
       "      <td>0</td>\n",
       "      <td>2</td>\n",
       "    </tr>\n",
       "    <tr>\n",
       "      <th>2</th>\n",
       "      <td>3</td>\n",
       "      <td>10.556</td>\n",
       "      <td>90.333</td>\n",
       "      <td>3</td>\n",
       "      <td>Soft</td>\n",
       "      <td>hungary</td>\n",
       "      <td>2015</td>\n",
       "      <td>10</td>\n",
       "      <td>0</td>\n",
       "      <td>3</td>\n",
       "    </tr>\n",
       "    <tr>\n",
       "      <th>3</th>\n",
       "      <td>3</td>\n",
       "      <td>12.451</td>\n",
       "      <td>89.962</td>\n",
       "      <td>4</td>\n",
       "      <td>Soft</td>\n",
       "      <td>hungary</td>\n",
       "      <td>2015</td>\n",
       "      <td>10</td>\n",
       "      <td>0</td>\n",
       "      <td>4</td>\n",
       "    </tr>\n",
       "    <tr>\n",
       "      <th>4</th>\n",
       "      <td>3</td>\n",
       "      <td>13.664</td>\n",
       "      <td>89.525</td>\n",
       "      <td>5</td>\n",
       "      <td>Soft</td>\n",
       "      <td>hungary</td>\n",
       "      <td>2015</td>\n",
       "      <td>10</td>\n",
       "      <td>0</td>\n",
       "      <td>5</td>\n",
       "    </tr>\n",
       "    <tr>\n",
       "      <th>5</th>\n",
       "      <td>3</td>\n",
       "      <td>15.351</td>\n",
       "      <td>89.663</td>\n",
       "      <td>6</td>\n",
       "      <td>Soft</td>\n",
       "      <td>hungary</td>\n",
       "      <td>2015</td>\n",
       "      <td>10</td>\n",
       "      <td>0</td>\n",
       "      <td>6</td>\n",
       "    </tr>\n",
       "    <tr>\n",
       "      <th>6</th>\n",
       "      <td>3</td>\n",
       "      <td>16.816</td>\n",
       "      <td>89.597</td>\n",
       "      <td>7</td>\n",
       "      <td>Soft</td>\n",
       "      <td>hungary</td>\n",
       "      <td>2015</td>\n",
       "      <td>10</td>\n",
       "      <td>0</td>\n",
       "      <td>7</td>\n",
       "    </tr>\n",
       "    <tr>\n",
       "      <th>7</th>\n",
       "      <td>3</td>\n",
       "      <td>17.971</td>\n",
       "      <td>89.516</td>\n",
       "      <td>8</td>\n",
       "      <td>Soft</td>\n",
       "      <td>hungary</td>\n",
       "      <td>2015</td>\n",
       "      <td>10</td>\n",
       "      <td>0</td>\n",
       "      <td>8</td>\n",
       "    </tr>\n",
       "    <tr>\n",
       "      <th>8</th>\n",
       "      <td>3</td>\n",
       "      <td>19.129</td>\n",
       "      <td>89.429</td>\n",
       "      <td>9</td>\n",
       "      <td>Soft</td>\n",
       "      <td>hungary</td>\n",
       "      <td>2015</td>\n",
       "      <td>10</td>\n",
       "      <td>0</td>\n",
       "      <td>9</td>\n",
       "    </tr>\n",
       "    <tr>\n",
       "      <th>9</th>\n",
       "      <td>3</td>\n",
       "      <td>19.620</td>\n",
       "      <td>88.830</td>\n",
       "      <td>10</td>\n",
       "      <td>Soft</td>\n",
       "      <td>hungary</td>\n",
       "      <td>2015</td>\n",
       "      <td>10</td>\n",
       "      <td>0</td>\n",
       "      <td>10</td>\n",
       "    </tr>\n",
       "    <tr>\n",
       "      <th>10</th>\n",
       "      <td>3</td>\n",
       "      <td>20.338</td>\n",
       "      <td>88.888</td>\n",
       "      <td>11</td>\n",
       "      <td>Soft</td>\n",
       "      <td>hungary</td>\n",
       "      <td>2015</td>\n",
       "      <td>10</td>\n",
       "      <td>0</td>\n",
       "      <td>11</td>\n",
       "    </tr>\n",
       "    <tr>\n",
       "      <th>11</th>\n",
       "      <td>3</td>\n",
       "      <td>21.493</td>\n",
       "      <td>89.433</td>\n",
       "      <td>12</td>\n",
       "      <td>Soft</td>\n",
       "      <td>hungary</td>\n",
       "      <td>2015</td>\n",
       "      <td>10</td>\n",
       "      <td>0</td>\n",
       "      <td>12</td>\n",
       "    </tr>\n",
       "    <tr>\n",
       "      <th>12</th>\n",
       "      <td>3</td>\n",
       "      <td>21.719</td>\n",
       "      <td>88.409</td>\n",
       "      <td>13</td>\n",
       "      <td>Soft</td>\n",
       "      <td>hungary</td>\n",
       "      <td>2015</td>\n",
       "      <td>10</td>\n",
       "      <td>0</td>\n",
       "      <td>13</td>\n",
       "    </tr>\n",
       "    <tr>\n",
       "      <th>13</th>\n",
       "      <td>3</td>\n",
       "      <td>22.138</td>\n",
       "      <td>88.625</td>\n",
       "      <td>14</td>\n",
       "      <td>Soft</td>\n",
       "      <td>hungary</td>\n",
       "      <td>2015</td>\n",
       "      <td>10</td>\n",
       "      <td>0</td>\n",
       "      <td>14</td>\n",
       "    </tr>\n",
       "    <tr>\n",
       "      <th>14</th>\n",
       "      <td>3</td>\n",
       "      <td>22.784</td>\n",
       "      <td>88.717</td>\n",
       "      <td>15</td>\n",
       "      <td>Soft</td>\n",
       "      <td>hungary</td>\n",
       "      <td>2015</td>\n",
       "      <td>10</td>\n",
       "      <td>0</td>\n",
       "      <td>15</td>\n",
       "    </tr>\n",
       "    <tr>\n",
       "      <th>15</th>\n",
       "      <td>3</td>\n",
       "      <td>23.550</td>\n",
       "      <td>88.679</td>\n",
       "      <td>16</td>\n",
       "      <td>Soft</td>\n",
       "      <td>hungary</td>\n",
       "      <td>2015</td>\n",
       "      <td>10</td>\n",
       "      <td>0</td>\n",
       "      <td>16</td>\n",
       "    </tr>\n",
       "    <tr>\n",
       "      <th>16</th>\n",
       "      <td>3</td>\n",
       "      <td>24.292</td>\n",
       "      <td>88.926</td>\n",
       "      <td>17</td>\n",
       "      <td>Soft</td>\n",
       "      <td>hungary</td>\n",
       "      <td>2015</td>\n",
       "      <td>10</td>\n",
       "      <td>0</td>\n",
       "      <td>17</td>\n",
       "    </tr>\n",
       "    <tr>\n",
       "      <th>17</th>\n",
       "      <td>3</td>\n",
       "      <td>24.348</td>\n",
       "      <td>88.804</td>\n",
       "      <td>18</td>\n",
       "      <td>Soft</td>\n",
       "      <td>hungary</td>\n",
       "      <td>2015</td>\n",
       "      <td>10</td>\n",
       "      <td>0</td>\n",
       "      <td>18</td>\n",
       "    </tr>\n",
       "    <tr>\n",
       "      <th>18</th>\n",
       "      <td>3</td>\n",
       "      <td>25.271</td>\n",
       "      <td>89.211</td>\n",
       "      <td>19</td>\n",
       "      <td>Soft</td>\n",
       "      <td>hungary</td>\n",
       "      <td>2015</td>\n",
       "      <td>10</td>\n",
       "      <td>0</td>\n",
       "      <td>19</td>\n",
       "    </tr>\n",
       "    <tr>\n",
       "      <th>19</th>\n",
       "      <td>3</td>\n",
       "      <td>25.970</td>\n",
       "      <td>89.209</td>\n",
       "      <td>20</td>\n",
       "      <td>Soft</td>\n",
       "      <td>hungary</td>\n",
       "      <td>2015</td>\n",
       "      <td>10</td>\n",
       "      <td>0</td>\n",
       "      <td>20</td>\n",
       "    </tr>\n",
       "    <tr>\n",
       "      <th>20</th>\n",
       "      <td>3</td>\n",
       "      <td>PIT</td>\n",
       "      <td>92.192</td>\n",
       "      <td>21</td>\n",
       "      <td>Soft</td>\n",
       "      <td>hungary</td>\n",
       "      <td>2015</td>\n",
       "      <td>10</td>\n",
       "      <td>0</td>\n",
       "      <td>21</td>\n",
       "    </tr>\n",
       "    <tr>\n",
       "      <th>21</th>\n",
       "      <td>3</td>\n",
       "      <td>41.536</td>\n",
       "      <td>106.428</td>\n",
       "      <td>22</td>\n",
       "      <td>Medium</td>\n",
       "      <td>hungary</td>\n",
       "      <td>2015</td>\n",
       "      <td>10</td>\n",
       "      <td>0</td>\n",
       "      <td>1</td>\n",
       "    </tr>\n",
       "    <tr>\n",
       "      <th>22</th>\n",
       "      <td>3</td>\n",
       "      <td>28.918</td>\n",
       "      <td>88.345</td>\n",
       "      <td>23</td>\n",
       "      <td>Medium</td>\n",
       "      <td>hungary</td>\n",
       "      <td>2015</td>\n",
       "      <td>10</td>\n",
       "      <td>0</td>\n",
       "      <td>2</td>\n",
       "    </tr>\n",
       "    <tr>\n",
       "      <th>23</th>\n",
       "      <td>3</td>\n",
       "      <td>29.910</td>\n",
       "      <td>88.378</td>\n",
       "      <td>24</td>\n",
       "      <td>Medium</td>\n",
       "      <td>hungary</td>\n",
       "      <td>2015</td>\n",
       "      <td>10</td>\n",
       "      <td>0</td>\n",
       "      <td>3</td>\n",
       "    </tr>\n",
       "    <tr>\n",
       "      <th>24</th>\n",
       "      <td>3</td>\n",
       "      <td>31.639</td>\n",
       "      <td>89.096</td>\n",
       "      <td>25</td>\n",
       "      <td>Medium</td>\n",
       "      <td>hungary</td>\n",
       "      <td>2015</td>\n",
       "      <td>10</td>\n",
       "      <td>0</td>\n",
       "      <td>4</td>\n",
       "    </tr>\n",
       "    <tr>\n",
       "      <th>25</th>\n",
       "      <td>3</td>\n",
       "      <td>32.541</td>\n",
       "      <td>88.407</td>\n",
       "      <td>26</td>\n",
       "      <td>Medium</td>\n",
       "      <td>hungary</td>\n",
       "      <td>2015</td>\n",
       "      <td>10</td>\n",
       "      <td>0</td>\n",
       "      <td>5</td>\n",
       "    </tr>\n",
       "    <tr>\n",
       "      <th>26</th>\n",
       "      <td>3</td>\n",
       "      <td>33.412</td>\n",
       "      <td>88.419</td>\n",
       "      <td>27</td>\n",
       "      <td>Medium</td>\n",
       "      <td>hungary</td>\n",
       "      <td>2015</td>\n",
       "      <td>10</td>\n",
       "      <td>0</td>\n",
       "      <td>6</td>\n",
       "    </tr>\n",
       "    <tr>\n",
       "      <th>27</th>\n",
       "      <td>3</td>\n",
       "      <td>34.133</td>\n",
       "      <td>88.732</td>\n",
       "      <td>28</td>\n",
       "      <td>Medium</td>\n",
       "      <td>hungary</td>\n",
       "      <td>2015</td>\n",
       "      <td>10</td>\n",
       "      <td>0</td>\n",
       "      <td>7</td>\n",
       "    </tr>\n",
       "    <tr>\n",
       "      <th>28</th>\n",
       "      <td>3</td>\n",
       "      <td>36.172</td>\n",
       "      <td>89.692</td>\n",
       "      <td>29</td>\n",
       "      <td>Medium</td>\n",
       "      <td>hungary</td>\n",
       "      <td>2015</td>\n",
       "      <td>10</td>\n",
       "      <td>0</td>\n",
       "      <td>8</td>\n",
       "    </tr>\n",
       "    <tr>\n",
       "      <th>29</th>\n",
       "      <td>3</td>\n",
       "      <td>37.046</td>\n",
       "      <td>88.696</td>\n",
       "      <td>30</td>\n",
       "      <td>Medium</td>\n",
       "      <td>hungary</td>\n",
       "      <td>2015</td>\n",
       "      <td>10</td>\n",
       "      <td>0</td>\n",
       "      <td>9</td>\n",
       "    </tr>\n",
       "    <tr>\n",
       "      <th>...</th>\n",
       "      <td>...</td>\n",
       "      <td>...</td>\n",
       "      <td>...</td>\n",
       "      <td>...</td>\n",
       "      <td>...</td>\n",
       "      <td>...</td>\n",
       "      <td>...</td>\n",
       "      <td>...</td>\n",
       "      <td>...</td>\n",
       "      <td>...</td>\n",
       "    </tr>\n",
       "    <tr>\n",
       "      <th>23067</th>\n",
       "      <td>94</td>\n",
       "      <td>59.711</td>\n",
       "      <td>104.387</td>\n",
       "      <td>26</td>\n",
       "      <td>Soft</td>\n",
       "      <td>china</td>\n",
       "      <td>2016</td>\n",
       "      <td>3</td>\n",
       "      <td>0</td>\n",
       "      <td>11</td>\n",
       "    </tr>\n",
       "    <tr>\n",
       "      <th>23068</th>\n",
       "      <td>94</td>\n",
       "      <td>PIT</td>\n",
       "      <td>109.959</td>\n",
       "      <td>27</td>\n",
       "      <td>Soft</td>\n",
       "      <td>china</td>\n",
       "      <td>2016</td>\n",
       "      <td>3</td>\n",
       "      <td>0</td>\n",
       "      <td>12</td>\n",
       "    </tr>\n",
       "    <tr>\n",
       "      <th>23069</th>\n",
       "      <td>94</td>\n",
       "      <td>90.256</td>\n",
       "      <td>122.563</td>\n",
       "      <td>28</td>\n",
       "      <td>Soft</td>\n",
       "      <td>china</td>\n",
       "      <td>2016</td>\n",
       "      <td>3</td>\n",
       "      <td>0</td>\n",
       "      <td>1</td>\n",
       "    </tr>\n",
       "    <tr>\n",
       "      <th>23070</th>\n",
       "      <td>94</td>\n",
       "      <td>91.230</td>\n",
       "      <td>102.331</td>\n",
       "      <td>29</td>\n",
       "      <td>Soft</td>\n",
       "      <td>china</td>\n",
       "      <td>2016</td>\n",
       "      <td>3</td>\n",
       "      <td>0</td>\n",
       "      <td>2</td>\n",
       "    </tr>\n",
       "    <tr>\n",
       "      <th>23071</th>\n",
       "      <td>94</td>\n",
       "      <td>92.306</td>\n",
       "      <td>102.640</td>\n",
       "      <td>30</td>\n",
       "      <td>Soft</td>\n",
       "      <td>china</td>\n",
       "      <td>2016</td>\n",
       "      <td>3</td>\n",
       "      <td>0</td>\n",
       "      <td>3</td>\n",
       "    </tr>\n",
       "    <tr>\n",
       "      <th>23072</th>\n",
       "      <td>94</td>\n",
       "      <td>93.134</td>\n",
       "      <td>103.007</td>\n",
       "      <td>31</td>\n",
       "      <td>Soft</td>\n",
       "      <td>china</td>\n",
       "      <td>2016</td>\n",
       "      <td>3</td>\n",
       "      <td>0</td>\n",
       "      <td>4</td>\n",
       "    </tr>\n",
       "    <tr>\n",
       "      <th>23073</th>\n",
       "      <td>94</td>\n",
       "      <td>94.321</td>\n",
       "      <td>103.065</td>\n",
       "      <td>32</td>\n",
       "      <td>Soft</td>\n",
       "      <td>china</td>\n",
       "      <td>2016</td>\n",
       "      <td>3</td>\n",
       "      <td>0</td>\n",
       "      <td>5</td>\n",
       "    </tr>\n",
       "    <tr>\n",
       "      <th>23074</th>\n",
       "      <td>94</td>\n",
       "      <td>96.032</td>\n",
       "      <td>104.005</td>\n",
       "      <td>33</td>\n",
       "      <td>Soft</td>\n",
       "      <td>china</td>\n",
       "      <td>2016</td>\n",
       "      <td>3</td>\n",
       "      <td>0</td>\n",
       "      <td>6</td>\n",
       "    </tr>\n",
       "    <tr>\n",
       "      <th>23075</th>\n",
       "      <td>94</td>\n",
       "      <td>97.101</td>\n",
       "      <td>103.114</td>\n",
       "      <td>34</td>\n",
       "      <td>Soft</td>\n",
       "      <td>china</td>\n",
       "      <td>2016</td>\n",
       "      <td>3</td>\n",
       "      <td>0</td>\n",
       "      <td>7</td>\n",
       "    </tr>\n",
       "    <tr>\n",
       "      <th>23076</th>\n",
       "      <td>94</td>\n",
       "      <td>98.249</td>\n",
       "      <td>103.563</td>\n",
       "      <td>35</td>\n",
       "      <td>Soft</td>\n",
       "      <td>china</td>\n",
       "      <td>2016</td>\n",
       "      <td>3</td>\n",
       "      <td>0</td>\n",
       "      <td>8</td>\n",
       "    </tr>\n",
       "    <tr>\n",
       "      <th>23077</th>\n",
       "      <td>94</td>\n",
       "      <td>93.915</td>\n",
       "      <td>103.439</td>\n",
       "      <td>36</td>\n",
       "      <td>Soft</td>\n",
       "      <td>china</td>\n",
       "      <td>2016</td>\n",
       "      <td>3</td>\n",
       "      <td>0</td>\n",
       "      <td>9</td>\n",
       "    </tr>\n",
       "    <tr>\n",
       "      <th>23078</th>\n",
       "      <td>94</td>\n",
       "      <td>77.236</td>\n",
       "      <td>103.644</td>\n",
       "      <td>37</td>\n",
       "      <td>Soft</td>\n",
       "      <td>china</td>\n",
       "      <td>2016</td>\n",
       "      <td>3</td>\n",
       "      <td>0</td>\n",
       "      <td>10</td>\n",
       "    </tr>\n",
       "    <tr>\n",
       "      <th>23079</th>\n",
       "      <td>94</td>\n",
       "      <td>80.327</td>\n",
       "      <td>103.509</td>\n",
       "      <td>38</td>\n",
       "      <td>Soft</td>\n",
       "      <td>china</td>\n",
       "      <td>2016</td>\n",
       "      <td>3</td>\n",
       "      <td>0</td>\n",
       "      <td>11</td>\n",
       "    </tr>\n",
       "    <tr>\n",
       "      <th>23080</th>\n",
       "      <td>94</td>\n",
       "      <td>82.205</td>\n",
       "      <td>103.501</td>\n",
       "      <td>39</td>\n",
       "      <td>Soft</td>\n",
       "      <td>china</td>\n",
       "      <td>2016</td>\n",
       "      <td>3</td>\n",
       "      <td>0</td>\n",
       "      <td>12</td>\n",
       "    </tr>\n",
       "    <tr>\n",
       "      <th>23081</th>\n",
       "      <td>94</td>\n",
       "      <td>84.741</td>\n",
       "      <td>103.598</td>\n",
       "      <td>40</td>\n",
       "      <td>Soft</td>\n",
       "      <td>china</td>\n",
       "      <td>2016</td>\n",
       "      <td>3</td>\n",
       "      <td>0</td>\n",
       "      <td>13</td>\n",
       "    </tr>\n",
       "    <tr>\n",
       "      <th>23082</th>\n",
       "      <td>94</td>\n",
       "      <td>87.305</td>\n",
       "      <td>103.964</td>\n",
       "      <td>41</td>\n",
       "      <td>Soft</td>\n",
       "      <td>china</td>\n",
       "      <td>2016</td>\n",
       "      <td>3</td>\n",
       "      <td>0</td>\n",
       "      <td>14</td>\n",
       "    </tr>\n",
       "    <tr>\n",
       "      <th>23083</th>\n",
       "      <td>94</td>\n",
       "      <td>90.484</td>\n",
       "      <td>104.017</td>\n",
       "      <td>42</td>\n",
       "      <td>Soft</td>\n",
       "      <td>china</td>\n",
       "      <td>2016</td>\n",
       "      <td>3</td>\n",
       "      <td>0</td>\n",
       "      <td>15</td>\n",
       "    </tr>\n",
       "    <tr>\n",
       "      <th>23084</th>\n",
       "      <td>94</td>\n",
       "      <td>PIT</td>\n",
       "      <td>109.444</td>\n",
       "      <td>43</td>\n",
       "      <td>Soft</td>\n",
       "      <td>china</td>\n",
       "      <td>2016</td>\n",
       "      <td>3</td>\n",
       "      <td>0</td>\n",
       "      <td>16</td>\n",
       "    </tr>\n",
       "    <tr>\n",
       "      <th>23085</th>\n",
       "      <td>94</td>\n",
       "      <td>1 LAP</td>\n",
       "      <td>122.488</td>\n",
       "      <td>44</td>\n",
       "      <td>Super</td>\n",
       "      <td>china</td>\n",
       "      <td>2016</td>\n",
       "      <td>3</td>\n",
       "      <td>0</td>\n",
       "      <td>1</td>\n",
       "    </tr>\n",
       "    <tr>\n",
       "      <th>23086</th>\n",
       "      <td>94</td>\n",
       "      <td>1 LAP</td>\n",
       "      <td>101.969</td>\n",
       "      <td>45</td>\n",
       "      <td>Super</td>\n",
       "      <td>china</td>\n",
       "      <td>2016</td>\n",
       "      <td>3</td>\n",
       "      <td>0</td>\n",
       "      <td>2</td>\n",
       "    </tr>\n",
       "    <tr>\n",
       "      <th>23087</th>\n",
       "      <td>94</td>\n",
       "      <td>1 LAP</td>\n",
       "      <td>103.061</td>\n",
       "      <td>46</td>\n",
       "      <td>Super</td>\n",
       "      <td>china</td>\n",
       "      <td>2016</td>\n",
       "      <td>3</td>\n",
       "      <td>0</td>\n",
       "      <td>3</td>\n",
       "    </tr>\n",
       "    <tr>\n",
       "      <th>23088</th>\n",
       "      <td>94</td>\n",
       "      <td>1 LAP</td>\n",
       "      <td>101.997</td>\n",
       "      <td>47</td>\n",
       "      <td>Super</td>\n",
       "      <td>china</td>\n",
       "      <td>2016</td>\n",
       "      <td>3</td>\n",
       "      <td>0</td>\n",
       "      <td>4</td>\n",
       "    </tr>\n",
       "    <tr>\n",
       "      <th>23089</th>\n",
       "      <td>94</td>\n",
       "      <td>1 LAP</td>\n",
       "      <td>101.489</td>\n",
       "      <td>48</td>\n",
       "      <td>Super</td>\n",
       "      <td>china</td>\n",
       "      <td>2016</td>\n",
       "      <td>3</td>\n",
       "      <td>0</td>\n",
       "      <td>5</td>\n",
       "    </tr>\n",
       "    <tr>\n",
       "      <th>23090</th>\n",
       "      <td>94</td>\n",
       "      <td>1 LAP</td>\n",
       "      <td>101.848</td>\n",
       "      <td>49</td>\n",
       "      <td>Super</td>\n",
       "      <td>china</td>\n",
       "      <td>2016</td>\n",
       "      <td>3</td>\n",
       "      <td>0</td>\n",
       "      <td>6</td>\n",
       "    </tr>\n",
       "    <tr>\n",
       "      <th>23091</th>\n",
       "      <td>94</td>\n",
       "      <td>1 LAP</td>\n",
       "      <td>101.726</td>\n",
       "      <td>50</td>\n",
       "      <td>Super</td>\n",
       "      <td>china</td>\n",
       "      <td>2016</td>\n",
       "      <td>3</td>\n",
       "      <td>0</td>\n",
       "      <td>7</td>\n",
       "    </tr>\n",
       "    <tr>\n",
       "      <th>23092</th>\n",
       "      <td>94</td>\n",
       "      <td>1 LAP</td>\n",
       "      <td>101.844</td>\n",
       "      <td>51</td>\n",
       "      <td>Super</td>\n",
       "      <td>china</td>\n",
       "      <td>2016</td>\n",
       "      <td>3</td>\n",
       "      <td>0</td>\n",
       "      <td>8</td>\n",
       "    </tr>\n",
       "    <tr>\n",
       "      <th>23093</th>\n",
       "      <td>94</td>\n",
       "      <td>1 LAP</td>\n",
       "      <td>102.088</td>\n",
       "      <td>52</td>\n",
       "      <td>Super</td>\n",
       "      <td>china</td>\n",
       "      <td>2016</td>\n",
       "      <td>3</td>\n",
       "      <td>0</td>\n",
       "      <td>9</td>\n",
       "    </tr>\n",
       "    <tr>\n",
       "      <th>23094</th>\n",
       "      <td>94</td>\n",
       "      <td>1 LAP</td>\n",
       "      <td>102.412</td>\n",
       "      <td>53</td>\n",
       "      <td>Super</td>\n",
       "      <td>china</td>\n",
       "      <td>2016</td>\n",
       "      <td>3</td>\n",
       "      <td>0</td>\n",
       "      <td>10</td>\n",
       "    </tr>\n",
       "    <tr>\n",
       "      <th>23095</th>\n",
       "      <td>94</td>\n",
       "      <td>1 LAP</td>\n",
       "      <td>103.036</td>\n",
       "      <td>54</td>\n",
       "      <td>Super</td>\n",
       "      <td>china</td>\n",
       "      <td>2016</td>\n",
       "      <td>3</td>\n",
       "      <td>0</td>\n",
       "      <td>11</td>\n",
       "    </tr>\n",
       "    <tr>\n",
       "      <th>23096</th>\n",
       "      <td>94</td>\n",
       "      <td>1 LAP</td>\n",
       "      <td>103.517</td>\n",
       "      <td>55</td>\n",
       "      <td>Super</td>\n",
       "      <td>china</td>\n",
       "      <td>2016</td>\n",
       "      <td>3</td>\n",
       "      <td>0</td>\n",
       "      <td>12</td>\n",
       "    </tr>\n",
       "  </tbody>\n",
       "</table>\n",
       "<p>23097 rows × 10 columns</p>\n",
       "</div>"
      ],
      "text/plain": [
       "       NO     GAP     TIME  LAP    TIRE    TRACK  YEAR RACE  SAFETY  STINT_LAP\n",
       "0       3   6.325   99.193    1    Soft  hungary  2015   10       0          1\n",
       "1       3   8.887   91.382    2    Soft  hungary  2015   10       0          2\n",
       "2       3  10.556   90.333    3    Soft  hungary  2015   10       0          3\n",
       "3       3  12.451   89.962    4    Soft  hungary  2015   10       0          4\n",
       "4       3  13.664   89.525    5    Soft  hungary  2015   10       0          5\n",
       "5       3  15.351   89.663    6    Soft  hungary  2015   10       0          6\n",
       "6       3  16.816   89.597    7    Soft  hungary  2015   10       0          7\n",
       "7       3  17.971   89.516    8    Soft  hungary  2015   10       0          8\n",
       "8       3  19.129   89.429    9    Soft  hungary  2015   10       0          9\n",
       "9       3  19.620   88.830   10    Soft  hungary  2015   10       0         10\n",
       "10      3  20.338   88.888   11    Soft  hungary  2015   10       0         11\n",
       "11      3  21.493   89.433   12    Soft  hungary  2015   10       0         12\n",
       "12      3  21.719   88.409   13    Soft  hungary  2015   10       0         13\n",
       "13      3  22.138   88.625   14    Soft  hungary  2015   10       0         14\n",
       "14      3  22.784   88.717   15    Soft  hungary  2015   10       0         15\n",
       "15      3  23.550   88.679   16    Soft  hungary  2015   10       0         16\n",
       "16      3  24.292   88.926   17    Soft  hungary  2015   10       0         17\n",
       "17      3  24.348   88.804   18    Soft  hungary  2015   10       0         18\n",
       "18      3  25.271   89.211   19    Soft  hungary  2015   10       0         19\n",
       "19      3  25.970   89.209   20    Soft  hungary  2015   10       0         20\n",
       "20      3     PIT   92.192   21    Soft  hungary  2015   10       0         21\n",
       "21      3  41.536  106.428   22  Medium  hungary  2015   10       0          1\n",
       "22      3  28.918   88.345   23  Medium  hungary  2015   10       0          2\n",
       "23      3  29.910   88.378   24  Medium  hungary  2015   10       0          3\n",
       "24      3  31.639   89.096   25  Medium  hungary  2015   10       0          4\n",
       "25      3  32.541   88.407   26  Medium  hungary  2015   10       0          5\n",
       "26      3  33.412   88.419   27  Medium  hungary  2015   10       0          6\n",
       "27      3  34.133   88.732   28  Medium  hungary  2015   10       0          7\n",
       "28      3  36.172   89.692   29  Medium  hungary  2015   10       0          8\n",
       "29      3  37.046   88.696   30  Medium  hungary  2015   10       0          9\n",
       "...    ..     ...      ...  ...     ...      ...   ...  ...     ...        ...\n",
       "23067  94  59.711  104.387   26    Soft    china  2016    3       0         11\n",
       "23068  94     PIT  109.959   27    Soft    china  2016    3       0         12\n",
       "23069  94  90.256  122.563   28    Soft    china  2016    3       0          1\n",
       "23070  94  91.230  102.331   29    Soft    china  2016    3       0          2\n",
       "23071  94  92.306  102.640   30    Soft    china  2016    3       0          3\n",
       "23072  94  93.134  103.007   31    Soft    china  2016    3       0          4\n",
       "23073  94  94.321  103.065   32    Soft    china  2016    3       0          5\n",
       "23074  94  96.032  104.005   33    Soft    china  2016    3       0          6\n",
       "23075  94  97.101  103.114   34    Soft    china  2016    3       0          7\n",
       "23076  94  98.249  103.563   35    Soft    china  2016    3       0          8\n",
       "23077  94  93.915  103.439   36    Soft    china  2016    3       0          9\n",
       "23078  94  77.236  103.644   37    Soft    china  2016    3       0         10\n",
       "23079  94  80.327  103.509   38    Soft    china  2016    3       0         11\n",
       "23080  94  82.205  103.501   39    Soft    china  2016    3       0         12\n",
       "23081  94  84.741  103.598   40    Soft    china  2016    3       0         13\n",
       "23082  94  87.305  103.964   41    Soft    china  2016    3       0         14\n",
       "23083  94  90.484  104.017   42    Soft    china  2016    3       0         15\n",
       "23084  94     PIT  109.444   43    Soft    china  2016    3       0         16\n",
       "23085  94   1 LAP  122.488   44   Super    china  2016    3       0          1\n",
       "23086  94   1 LAP  101.969   45   Super    china  2016    3       0          2\n",
       "23087  94   1 LAP  103.061   46   Super    china  2016    3       0          3\n",
       "23088  94   1 LAP  101.997   47   Super    china  2016    3       0          4\n",
       "23089  94   1 LAP  101.489   48   Super    china  2016    3       0          5\n",
       "23090  94   1 LAP  101.848   49   Super    china  2016    3       0          6\n",
       "23091  94   1 LAP  101.726   50   Super    china  2016    3       0          7\n",
       "23092  94   1 LAP  101.844   51   Super    china  2016    3       0          8\n",
       "23093  94   1 LAP  102.088   52   Super    china  2016    3       0          9\n",
       "23094  94   1 LAP  102.412   53   Super    china  2016    3       0         10\n",
       "23095  94   1 LAP  103.036   54   Super    china  2016    3       0         11\n",
       "23096  94   1 LAP  103.517   55   Super    china  2016    3       0         12\n",
       "\n",
       "[23097 rows x 10 columns]"
      ]
     },
     "execution_count": 12,
     "metadata": {},
     "output_type": "execute_result"
    }
   ],
   "source": [
    "all_lap_times"
   ]
  },
  {
   "cell_type": "markdown",
   "metadata": {},
   "source": [
    "### Commented out cells used to debug loading the data"
   ]
  },
  {
   "cell_type": "code",
   "execution_count": null,
   "metadata": {
    "collapsed": false,
    "scrolled": true
   },
   "outputs": [],
   "source": [
    "# # Load driver list for particular season\n",
    "# driver_list = pd.read_csv('data/drivers.csv')\n",
    "\n",
    "# # Load lap times for all drivers\n",
    "# filename = '2016_3_china'\n",
    "# lap_data = pd.read_csv('data/lap_history/{filename}_lap_history.csv'.format(filename=filename), header=None)\n",
    "# lap_times = f1.assign_lap(lap_data)\n",
    "# lap_times['TIME'] = f1.convert_time(lap_times['TIME'])\n",
    "# lap_times.sort_values(by=['NO', 'LAP'], inplace=True)\n",
    "# lap_times.shape"
   ]
  },
  {
   "cell_type": "code",
   "execution_count": null,
   "metadata": {
    "collapsed": false
   },
   "outputs": [],
   "source": [
    "# # Load Tire strategy data\n",
    "# tire_data = pd.read_csv('data/tire_strategy/{filename}.csv'.format(filename=filename))\n",
    "# tire_strat = f1.get_tires(tire_data)\n",
    "# tire_strat['NAME'].unique;"
   ]
  },
  {
   "cell_type": "code",
   "execution_count": null,
   "metadata": {
    "collapsed": false
   },
   "outputs": [],
   "source": [
    "# # Join Driver, Name, No. to tire data and sort by No.\n",
    "# tire_strat = pd.merge(driver_list, tire_strat, on='NAME')\n",
    "# tire_strat.drop(['NAME', 'DRIVER'], axis=1, inplace=True)\n",
    "# tire_strat;"
   ]
  },
  {
   "cell_type": "code",
   "execution_count": null,
   "metadata": {
    "collapsed": false
   },
   "outputs": [],
   "source": [
    "# # Append tire data to lap data\n",
    "# mask = tire_strat.iloc[:,1:].notnull().values\n",
    "# # lap_times['TIRE'] = \n",
    "# tire_strat[tire_strat.columns[1:]].values[mask].flatten().shape\n",
    "# # lap_times['TRACK'] = 'Australia'\n",
    "# # lap_times['YEAR'] = 2016\n",
    "# # lap_times['RACE'] = 1\n",
    "# # lap_times"
   ]
  },
  {
   "cell_type": "code",
   "execution_count": null,
   "metadata": {
    "collapsed": false,
    "scrolled": true
   },
   "outputs": [],
   "source": [
    "# for num in lap_times['NO'].unique():\n",
    "#     print num\n",
    "#     print lap_times[lap_times['NO'] == num].shape"
   ]
  },
  {
   "cell_type": "code",
   "execution_count": null,
   "metadata": {
    "collapsed": false,
    "scrolled": true
   },
   "outputs": [],
   "source": [
    "# for num in lap_times['NO'].unique():\n",
    "#     print num\n",
    "#     print 'Laps: ',tire_strat.ix[tire_strat['NO'] == num].notnull().values.sum() - 1"
   ]
  },
  {
   "cell_type": "markdown",
   "metadata": {},
   "source": [
    "## Remove Pit and Out laps"
   ]
  },
  {
   "cell_type": "code",
   "execution_count": 13,
   "metadata": {
    "collapsed": false,
    "scrolled": false
   },
   "outputs": [],
   "source": [
    "def remove_pits(df):\n",
    "    idx = []\n",
    "    previous = None\n",
    "    for row in df.iterrows():\n",
    "        if row[1]['GAP'] == 'PIT' or previous == 'PIT':\n",
    "            idx.append(row[0])\n",
    "        previous = row[1]['GAP']\n",
    "    return df.drop(idx, axis=0)"
   ]
  },
  {
   "cell_type": "code",
   "execution_count": 14,
   "metadata": {
    "collapsed": false
   },
   "outputs": [
    {
     "name": "stdout",
     "output_type": "stream",
     "text": [
      "(23097, 10)\n",
      "(21255, 10)\n"
     ]
    }
   ],
   "source": [
    "no_pits = remove_pits(all_lap_times)\n",
    "print all_lap_times.shape\n",
    "print no_pits.shape"
   ]
  },
  {
   "cell_type": "code",
   "execution_count": 15,
   "metadata": {
    "collapsed": false
   },
   "outputs": [
    {
     "data": {
      "text/plain": [
       "(20896, 10)"
      ]
     },
     "execution_count": 15,
     "metadata": {},
     "output_type": "execute_result"
    }
   ],
   "source": [
    "no_pits.drop(no_pits[no_pits['LAP'] == 1].index, axis=0, inplace=True)\n",
    "no_pits.shape"
   ]
  },
  {
   "cell_type": "code",
   "execution_count": 16,
   "metadata": {
    "collapsed": false
   },
   "outputs": [
    {
     "data": {
      "text/plain": [
       "(19867, 10)"
      ]
     },
     "execution_count": 16,
     "metadata": {},
     "output_type": "execute_result"
    }
   ],
   "source": [
    "no_safety = no_pits[no_pits['SAFETY'] == 0]\n",
    "no_safety.shape"
   ]
  },
  {
   "cell_type": "markdown",
   "metadata": {},
   "source": [
    "## Create average lap times by driver, race, tire"
   ]
  },
  {
   "cell_type": "code",
   "execution_count": null,
   "metadata": {
    "collapsed": false,
    "scrolled": true
   },
   "outputs": [],
   "source": [
    "group1 = no_safety.drop(['GAP', 'LAP', 'RACE', 'SAFETY'], axis=1).groupby(['NO', 'TIRE', 'TRACK', 'YEAR'], as_index=False)\n",
    "avg_laps = pd.merge(group1.count(), group1.mean(), how='left', on=['NO', 'TIRE', 'TRACK', 'YEAR'])\n",
    "avg_laps.head()\n"
   ]
  },
  {
   "cell_type": "code",
   "execution_count": null,
   "metadata": {
    "collapsed": false
   },
   "outputs": [],
   "source": [
    "group2 = no_safety[['NO', 'TIRE', 'TRACK', 'YEAR', 'TIME']].groupby(['NO', 'TIRE', 'TRACK', 'YEAR'])\n",
    "std_laps = pd.merge(avg_laps, group2.std().reset_index(), how='left', on=['NO', 'TIRE', 'TRACK', 'YEAR'])\n",
    "std_laps.columns = ['NO', 'TIRE', 'TRACK', 'YEAR', 'COUNT', 'TIME_AVG', 'TIME_STD']\n",
    "std_laps.head()\n"
   ]
  },
  {
   "cell_type": "code",
   "execution_count": null,
   "metadata": {
    "collapsed": true
   },
   "outputs": [],
   "source": []
  },
  {
   "cell_type": "code",
   "execution_count": null,
   "metadata": {
    "collapsed": true
   },
   "outputs": [],
   "source": []
  },
  {
   "cell_type": "markdown",
   "metadata": {},
   "source": [
    "## Add track features to lap features data frame"
   ]
  },
  {
   "cell_type": "code",
   "execution_count": 17,
   "metadata": {
    "collapsed": false
   },
   "outputs": [
    {
     "data": {
      "text/html": [
       "<div>\n",
       "<table border=\"1\" class=\"dataframe\">\n",
       "  <thead>\n",
       "    <tr style=\"text-align: right;\">\n",
       "      <th></th>\n",
       "      <th>TRACK</th>\n",
       "      <th>YEAR</th>\n",
       "      <th>LENGTH</th>\n",
       "      <th>DOWNFORCE</th>\n",
       "      <th>LATERAL</th>\n",
       "      <th>ASPHALT_ABR</th>\n",
       "      <th>ASPHALT_GRP</th>\n",
       "      <th>TIRE_STRESS</th>\n",
       "      <th>AIR_TEMP_MAX</th>\n",
       "      <th>AIR_TEMP_MIN</th>\n",
       "      <th>T_TEMP_MAX</th>\n",
       "    </tr>\n",
       "  </thead>\n",
       "  <tbody>\n",
       "    <tr>\n",
       "      <th>0</th>\n",
       "      <td>australia</td>\n",
       "      <td>2016</td>\n",
       "      <td>5.30</td>\n",
       "      <td>4</td>\n",
       "      <td>1</td>\n",
       "      <td>3</td>\n",
       "      <td>1</td>\n",
       "      <td>1</td>\n",
       "      <td>24.7</td>\n",
       "      <td>22.2</td>\n",
       "      <td>38.4</td>\n",
       "    </tr>\n",
       "    <tr>\n",
       "      <th>1</th>\n",
       "      <td>bahrain</td>\n",
       "      <td>2016</td>\n",
       "      <td>5.41</td>\n",
       "      <td>3</td>\n",
       "      <td>3</td>\n",
       "      <td>5</td>\n",
       "      <td>4</td>\n",
       "      <td>3</td>\n",
       "      <td>22.6</td>\n",
       "      <td>21.2</td>\n",
       "      <td>29.6</td>\n",
       "    </tr>\n",
       "    <tr>\n",
       "      <th>2</th>\n",
       "      <td>china</td>\n",
       "      <td>2016</td>\n",
       "      <td>5.45</td>\n",
       "      <td>3</td>\n",
       "      <td>4</td>\n",
       "      <td>3</td>\n",
       "      <td>3</td>\n",
       "      <td>4</td>\n",
       "      <td>21.9</td>\n",
       "      <td>20.3</td>\n",
       "      <td>37.3</td>\n",
       "    </tr>\n",
       "    <tr>\n",
       "      <th>3</th>\n",
       "      <td>australia</td>\n",
       "      <td>2015</td>\n",
       "      <td>5.30</td>\n",
       "      <td>4</td>\n",
       "      <td>1</td>\n",
       "      <td>3</td>\n",
       "      <td>1</td>\n",
       "      <td>1</td>\n",
       "      <td>21.0</td>\n",
       "      <td>17.0</td>\n",
       "      <td>38.0</td>\n",
       "    </tr>\n",
       "    <tr>\n",
       "      <th>4</th>\n",
       "      <td>malaysia</td>\n",
       "      <td>2015</td>\n",
       "      <td>5.54</td>\n",
       "      <td>3</td>\n",
       "      <td>4</td>\n",
       "      <td>3</td>\n",
       "      <td>3</td>\n",
       "      <td>4</td>\n",
       "      <td>35.4</td>\n",
       "      <td>32.7</td>\n",
       "      <td>61.4</td>\n",
       "    </tr>\n",
       "  </tbody>\n",
       "</table>\n",
       "</div>"
      ],
      "text/plain": [
       "       TRACK  YEAR  LENGTH  DOWNFORCE  LATERAL  ASPHALT_ABR  ASPHALT_GRP  \\\n",
       "0  australia  2016    5.30          4        1            3            1   \n",
       "1    bahrain  2016    5.41          3        3            5            4   \n",
       "2      china  2016    5.45          3        4            3            3   \n",
       "3  australia  2015    5.30          4        1            3            1   \n",
       "4   malaysia  2015    5.54          3        4            3            3   \n",
       "\n",
       "   TIRE_STRESS  AIR_TEMP_MAX  AIR_TEMP_MIN  T_TEMP_MAX  \n",
       "0            1          24.7          22.2        38.4  \n",
       "1            3          22.6          21.2        29.6  \n",
       "2            4          21.9          20.3        37.3  \n",
       "3            1          21.0          17.0        38.0  \n",
       "4            4          35.4          32.7        61.4  "
      ]
     },
     "execution_count": 17,
     "metadata": {},
     "output_type": "execute_result"
    }
   ],
   "source": [
    "# Load Track data\n",
    "tracks = pd.read_csv('data/track_history.csv')\n",
    "tracks.drop(['LAPS', 'T_TEMP_MIN'], axis=1, inplace=True)\n",
    "tracks['TRACK'] = tracks['TRACK'].apply(lambda x: x.lower())\n",
    "tracks.head()"
   ]
  },
  {
   "cell_type": "code",
   "execution_count": null,
   "metadata": {
    "collapsed": false
   },
   "outputs": [],
   "source": [
    "std_laps.info()"
   ]
  },
  {
   "cell_type": "code",
   "execution_count": null,
   "metadata": {
    "collapsed": false
   },
   "outputs": [],
   "source": [
    "tracks.info()"
   ]
  },
  {
   "cell_type": "code",
   "execution_count": null,
   "metadata": {
    "collapsed": false
   },
   "outputs": [],
   "source": [
    "lap_features = pd.merge(std_laps, tracks, how='left', on=['TRACK', 'YEAR'])\n",
    "lap_features['TIRE_VAL'] = lap_features['TIRE'].apply(assign_ordinal)\n",
    "lap_features.head()"
   ]
  },
  {
   "cell_type": "code",
   "execution_count": null,
   "metadata": {
    "collapsed": false
   },
   "outputs": [],
   "source": [
    "regression_features = lap_features.drop(['NO', 'TIRE', 'TRACK', 'YEAR', 'TIME_STD'], axis=1)\n",
    "regression_features.info()"
   ]
  },
  {
   "cell_type": "code",
   "execution_count": null,
   "metadata": {
    "collapsed": false
   },
   "outputs": [],
   "source": [
    "y = regression_features.pop('TIME_AVG')\n",
    "y;"
   ]
  },
  {
   "cell_type": "code",
   "execution_count": null,
   "metadata": {
    "collapsed": false
   },
   "outputs": [],
   "source": [
    "X = regression_features\n",
    "X;"
   ]
  },
  {
   "cell_type": "code",
   "execution_count": null,
   "metadata": {
    "collapsed": true
   },
   "outputs": [],
   "source": [
    "X_train, X_test, y_train, y_test = train_test_split(X, y)"
   ]
  },
  {
   "cell_type": "code",
   "execution_count": null,
   "metadata": {
    "collapsed": false
   },
   "outputs": [],
   "source": [
    "model = sms.OLS(y_train, X_train).fit()\n",
    "summary = model.summary()"
   ]
  },
  {
   "cell_type": "code",
   "execution_count": null,
   "metadata": {
    "collapsed": false
   },
   "outputs": [],
   "source": [
    "summary"
   ]
  },
  {
   "cell_type": "code",
   "execution_count": null,
   "metadata": {
    "collapsed": false
   },
   "outputs": [],
   "source": [
    "y_predict_OLS = model.predict(X_test)"
   ]
  },
  {
   "cell_type": "code",
   "execution_count": null,
   "metadata": {
    "collapsed": false
   },
   "outputs": [],
   "source": [
    "# model.score(y_predict, y_test)"
   ]
  },
  {
   "cell_type": "markdown",
   "metadata": {},
   "source": [
    "## all lap prediction"
   ]
  },
  {
   "cell_type": "code",
   "execution_count": 54,
   "metadata": {
    "collapsed": false
   },
   "outputs": [
    {
     "data": {
      "text/plain": [
       "(19867, 19)"
      ]
     },
     "execution_count": 54,
     "metadata": {},
     "output_type": "execute_result"
    }
   ],
   "source": [
    "all_lap_features = pd.merge(no_safety, tracks, how='left', on=['TRACK', 'YEAR'])\n",
    "all_lap_features.shape"
   ]
  },
  {
   "cell_type": "code",
   "execution_count": 70,
   "metadata": {
    "collapsed": false
   },
   "outputs": [
    {
     "data": {
      "text/html": [
       "<div>\n",
       "<table border=\"1\" class=\"dataframe\">\n",
       "  <thead>\n",
       "    <tr style=\"text-align: right;\">\n",
       "      <th></th>\n",
       "      <th>TIME</th>\n",
       "      <th>LAP</th>\n",
       "      <th>STINT_LAP</th>\n",
       "      <th>LENGTH</th>\n",
       "      <th>DOWNFORCE</th>\n",
       "      <th>LATERAL</th>\n",
       "      <th>ASPHALT_ABR</th>\n",
       "      <th>ASPHALT_GRP</th>\n",
       "      <th>TIRE_STRESS</th>\n",
       "      <th>AIR_TEMP_MAX</th>\n",
       "      <th>AIR_TEMP_MIN</th>\n",
       "      <th>T_TEMP_MAX</th>\n",
       "      <th>TIRE_Hard</th>\n",
       "      <th>TIRE_Medium</th>\n",
       "      <th>TIRE_Soft</th>\n",
       "      <th>TIRE_Super</th>\n",
       "    </tr>\n",
       "  </thead>\n",
       "  <tbody>\n",
       "    <tr>\n",
       "      <th>0</th>\n",
       "      <td>91.382</td>\n",
       "      <td>2</td>\n",
       "      <td>2</td>\n",
       "      <td>4.38</td>\n",
       "      <td>4</td>\n",
       "      <td>4</td>\n",
       "      <td>3</td>\n",
       "      <td>4</td>\n",
       "      <td>3</td>\n",
       "      <td>24.9</td>\n",
       "      <td>22.0</td>\n",
       "      <td>49.2</td>\n",
       "      <td>0.0</td>\n",
       "      <td>0.0</td>\n",
       "      <td>1.0</td>\n",
       "      <td>0.0</td>\n",
       "    </tr>\n",
       "    <tr>\n",
       "      <th>1</th>\n",
       "      <td>90.333</td>\n",
       "      <td>3</td>\n",
       "      <td>3</td>\n",
       "      <td>4.38</td>\n",
       "      <td>4</td>\n",
       "      <td>4</td>\n",
       "      <td>3</td>\n",
       "      <td>4</td>\n",
       "      <td>3</td>\n",
       "      <td>24.9</td>\n",
       "      <td>22.0</td>\n",
       "      <td>49.2</td>\n",
       "      <td>0.0</td>\n",
       "      <td>0.0</td>\n",
       "      <td>1.0</td>\n",
       "      <td>0.0</td>\n",
       "    </tr>\n",
       "    <tr>\n",
       "      <th>2</th>\n",
       "      <td>89.962</td>\n",
       "      <td>4</td>\n",
       "      <td>4</td>\n",
       "      <td>4.38</td>\n",
       "      <td>4</td>\n",
       "      <td>4</td>\n",
       "      <td>3</td>\n",
       "      <td>4</td>\n",
       "      <td>3</td>\n",
       "      <td>24.9</td>\n",
       "      <td>22.0</td>\n",
       "      <td>49.2</td>\n",
       "      <td>0.0</td>\n",
       "      <td>0.0</td>\n",
       "      <td>1.0</td>\n",
       "      <td>0.0</td>\n",
       "    </tr>\n",
       "    <tr>\n",
       "      <th>3</th>\n",
       "      <td>89.525</td>\n",
       "      <td>5</td>\n",
       "      <td>5</td>\n",
       "      <td>4.38</td>\n",
       "      <td>4</td>\n",
       "      <td>4</td>\n",
       "      <td>3</td>\n",
       "      <td>4</td>\n",
       "      <td>3</td>\n",
       "      <td>24.9</td>\n",
       "      <td>22.0</td>\n",
       "      <td>49.2</td>\n",
       "      <td>0.0</td>\n",
       "      <td>0.0</td>\n",
       "      <td>1.0</td>\n",
       "      <td>0.0</td>\n",
       "    </tr>\n",
       "    <tr>\n",
       "      <th>4</th>\n",
       "      <td>89.663</td>\n",
       "      <td>6</td>\n",
       "      <td>6</td>\n",
       "      <td>4.38</td>\n",
       "      <td>4</td>\n",
       "      <td>4</td>\n",
       "      <td>3</td>\n",
       "      <td>4</td>\n",
       "      <td>3</td>\n",
       "      <td>24.9</td>\n",
       "      <td>22.0</td>\n",
       "      <td>49.2</td>\n",
       "      <td>0.0</td>\n",
       "      <td>0.0</td>\n",
       "      <td>1.0</td>\n",
       "      <td>0.0</td>\n",
       "    </tr>\n",
       "  </tbody>\n",
       "</table>\n",
       "</div>"
      ],
      "text/plain": [
       "     TIME  LAP  STINT_LAP  LENGTH  DOWNFORCE  LATERAL  ASPHALT_ABR  \\\n",
       "0  91.382    2          2    4.38          4        4            3   \n",
       "1  90.333    3          3    4.38          4        4            3   \n",
       "2  89.962    4          4    4.38          4        4            3   \n",
       "3  89.525    5          5    4.38          4        4            3   \n",
       "4  89.663    6          6    4.38          4        4            3   \n",
       "\n",
       "   ASPHALT_GRP  TIRE_STRESS  AIR_TEMP_MAX  AIR_TEMP_MIN  T_TEMP_MAX  \\\n",
       "0            4            3          24.9          22.0        49.2   \n",
       "1            4            3          24.9          22.0        49.2   \n",
       "2            4            3          24.9          22.0        49.2   \n",
       "3            4            3          24.9          22.0        49.2   \n",
       "4            4            3          24.9          22.0        49.2   \n",
       "\n",
       "   TIRE_Hard  TIRE_Medium  TIRE_Soft  TIRE_Super  \n",
       "0        0.0          0.0        1.0         0.0  \n",
       "1        0.0          0.0        1.0         0.0  \n",
       "2        0.0          0.0        1.0         0.0  \n",
       "3        0.0          0.0        1.0         0.0  \n",
       "4        0.0          0.0        1.0         0.0  "
      ]
     },
     "execution_count": 70,
     "metadata": {},
     "output_type": "execute_result"
    }
   ],
   "source": [
    "all_regression_features = all_lap_features.drop(['NO', 'GAP', 'TRACK', 'YEAR', 'RACE', 'SAFETY'], axis=1)\n",
    "with_dummies = pd.get_dummies(all_regression_features, columns=['TIRE'])\n",
    "with_dummies.drop(['TIRE_Intermediate'], axis=1, inplace=True)\n",
    "with_dummies.head()"
   ]
  },
  {
   "cell_type": "code",
   "execution_count": 71,
   "metadata": {
    "collapsed": false
   },
   "outputs": [],
   "source": [
    "# sn.pairplot(with_dummies)"
   ]
  },
  {
   "cell_type": "code",
   "execution_count": 72,
   "metadata": {
    "collapsed": false
   },
   "outputs": [
    {
     "data": {
      "text/plain": [
       "0    91.382\n",
       "1    90.333\n",
       "2    89.962\n",
       "3    89.525\n",
       "4    89.663\n",
       "Name: TIME, dtype: float64"
      ]
     },
     "execution_count": 72,
     "metadata": {},
     "output_type": "execute_result"
    }
   ],
   "source": [
    "y2 = with_dummies.pop('TIME')\n",
    "y2.head()"
   ]
  },
  {
   "cell_type": "code",
   "execution_count": 73,
   "metadata": {
    "collapsed": false
   },
   "outputs": [],
   "source": [
    "X2 = with_dummies\n"
   ]
  },
  {
   "cell_type": "code",
   "execution_count": 74,
   "metadata": {
    "collapsed": true
   },
   "outputs": [],
   "source": [
    "X2_train, X2_test, y2_train, y2_test = train_test_split(X2, y2)"
   ]
  },
  {
   "cell_type": "code",
   "execution_count": 75,
   "metadata": {
    "collapsed": false
   },
   "outputs": [
    {
     "data": {
      "text/plain": [
       "0.83375477993902658"
      ]
     },
     "execution_count": 75,
     "metadata": {},
     "output_type": "execute_result"
    }
   ],
   "source": [
    "model2 = sms.OLS(y2_train, sms.add_constant(X2_train)).fit()\n",
    "summary2 = model2.summary()\n",
    "model2.rsquared"
   ]
  },
  {
   "cell_type": "code",
   "execution_count": 76,
   "metadata": {
    "collapsed": false
   },
   "outputs": [
    {
     "name": "stdout",
     "output_type": "stream",
     "text": [
      "                            OLS Regression Results                            \n",
      "==============================================================================\n",
      "Dep. Variable:                   TIME   R-squared:                       0.834\n",
      "Model:                            OLS   Adj. R-squared:                  0.834\n",
      "Method:                 Least Squares   F-statistic:                     4976.\n",
      "Date:                Fri, 29 Apr 2016   Prob (F-statistic):               0.00\n",
      "Time:                        01:45:31   Log-Likelihood:                -45094.\n",
      "No. Observations:               14900   AIC:                         9.022e+04\n",
      "Df Residuals:                   14884   BIC:                         9.034e+04\n",
      "Df Model:                          15                                         \n",
      "Covariance Type:            nonrobust                                         \n",
      "================================================================================\n",
      "                   coef    std err          t      P>|t|      [95.0% Conf. Int.]\n",
      "--------------------------------------------------------------------------------\n",
      "const           18.9274      0.738     25.635      0.000        17.480    20.375\n",
      "LAP             -0.0423      0.002    -17.247      0.000        -0.047    -0.037\n",
      "STINT_LAP       -0.0263      0.003     -8.153      0.000        -0.033    -0.020\n",
      "LENGTH          12.9406      0.095    135.571      0.000        12.754    13.128\n",
      "DOWNFORCE        3.4445      0.066     51.910      0.000         3.314     3.575\n",
      "LATERAL          2.1243      0.099     21.467      0.000         1.930     2.318\n",
      "ASPHALT_ABR      1.7911      0.078     22.850      0.000         1.637     1.945\n",
      "ASPHALT_GRP     -1.0870      0.090    -12.074      0.000        -1.263    -0.911\n",
      "TIRE_STRESS     -3.0069      0.075    -40.191      0.000        -3.154    -2.860\n",
      "AIR_TEMP_MAX    -4.6820      0.083    -56.428      0.000        -4.845    -4.519\n",
      "AIR_TEMP_MIN     5.4446      0.077     71.149      0.000         5.295     5.595\n",
      "T_TEMP_MAX       0.2648      0.011     24.195      0.000         0.243     0.286\n",
      "TIRE_Hard      -18.8798      0.395    -47.833      0.000       -19.653   -18.106\n",
      "TIRE_Medium    -17.1939      0.355    -48.413      0.000       -17.890   -16.498\n",
      "TIRE_Soft      -15.5494      0.346    -44.879      0.000       -16.229   -14.870\n",
      "TIRE_Super     -16.7252      0.364    -45.938      0.000       -17.439   -16.012\n",
      "==============================================================================\n",
      "Omnibus:                     1395.954   Durbin-Watson:                   1.986\n",
      "Prob(Omnibus):                  0.000   Jarque-Bera (JB):             6216.318\n",
      "Skew:                           0.368   Prob(JB):                         0.00\n",
      "Kurtosis:                       6.077   Cond. No.                     1.30e+03\n",
      "==============================================================================\n",
      "\n",
      "Warnings:\n",
      "[1] Standard Errors assume that the covariance matrix of the errors is correctly specified.\n",
      "[2] The condition number is large, 1.3e+03. This might indicate that there are\n",
      "strong multicollinearity or other numerical problems.\n"
     ]
    }
   ],
   "source": [
    "print summary2"
   ]
  },
  {
   "cell_type": "code",
   "execution_count": 79,
   "metadata": {
    "collapsed": false
   },
   "outputs": [
    {
     "data": {
      "text/plain": [
       "0.83463909951588477"
      ]
     },
     "execution_count": 79,
     "metadata": {},
     "output_type": "execute_result"
    }
   ],
   "source": [
    "model3 = sms.OLS(y2, sms.add_constant(X2)).fit()\n",
    "summary3 = model3.summary()\n",
    "model3.rsquared"
   ]
  },
  {
   "cell_type": "code",
   "execution_count": 80,
   "metadata": {
    "collapsed": false
   },
   "outputs": [
    {
     "name": "stdout",
     "output_type": "stream",
     "text": [
      "                            OLS Regression Results                            \n",
      "==============================================================================\n",
      "Dep. Variable:                   TIME   R-squared:                       0.835\n",
      "Model:                            OLS   Adj. R-squared:                  0.835\n",
      "Method:                 Least Squares   F-statistic:                     6680.\n",
      "Date:                Fri, 29 Apr 2016   Prob (F-statistic):               0.00\n",
      "Time:                        01:55:30   Log-Likelihood:                -60079.\n",
      "No. Observations:               19867   AIC:                         1.202e+05\n",
      "Df Residuals:                   19851   BIC:                         1.203e+05\n",
      "Df Model:                          15                                         \n",
      "Covariance Type:            nonrobust                                         \n",
      "================================================================================\n",
      "                   coef    std err          t      P>|t|      [95.0% Conf. Int.]\n",
      "--------------------------------------------------------------------------------\n",
      "const           18.9320      0.636     29.776      0.000        17.686    20.178\n",
      "LAP             -0.0426      0.002    -20.193      0.000        -0.047    -0.039\n",
      "STINT_LAP       -0.0234      0.003     -8.366      0.000        -0.029    -0.018\n",
      "LENGTH          12.9395      0.083    156.763      0.000        12.778    13.101\n",
      "DOWNFORCE        3.4586      0.057     60.265      0.000         3.346     3.571\n",
      "LATERAL          2.1087      0.085     24.688      0.000         1.941     2.276\n",
      "ASPHALT_ABR      1.7984      0.068     26.552      0.000         1.666     1.931\n",
      "ASPHALT_GRP     -1.0445      0.078    -13.460      0.000        -1.197    -0.892\n",
      "TIRE_STRESS     -3.0416      0.065    -47.034      0.000        -3.168    -2.915\n",
      "AIR_TEMP_MAX    -4.7626      0.072    -66.439      0.000        -4.903    -4.622\n",
      "AIR_TEMP_MIN     5.5247      0.066     83.464      0.000         5.395     5.654\n",
      "T_TEMP_MAX       0.2673      0.009     28.361      0.000         0.249     0.286\n",
      "TIRE_Hard      -18.7630      0.343    -54.681      0.000       -19.436   -18.090\n",
      "TIRE_Medium    -17.1736      0.309    -55.636      0.000       -17.779   -16.569\n",
      "TIRE_Soft      -15.5369      0.301    -51.656      0.000       -16.126   -14.947\n",
      "TIRE_Super     -16.7840      0.316    -53.172      0.000       -17.403   -16.165\n",
      "==============================================================================\n",
      "Omnibus:                     1684.639   Durbin-Watson:                   0.169\n",
      "Prob(Omnibus):                  0.000   Jarque-Bera (JB):             6872.782\n",
      "Skew:                           0.345   Prob(JB):                         0.00\n",
      "Kurtosis:                       5.797   Cond. No.                     1.30e+03\n",
      "==============================================================================\n",
      "\n",
      "Warnings:\n",
      "[1] Standard Errors assume that the covariance matrix of the errors is correctly specified.\n",
      "[2] The condition number is large, 1.3e+03. This might indicate that there are\n",
      "strong multicollinearity or other numerical problems.\n"
     ]
    }
   ],
   "source": [
    "print summary3"
   ]
  },
  {
   "cell_type": "code",
   "execution_count": 77,
   "metadata": {
    "collapsed": false
   },
   "outputs": [
    {
     "data": {
      "text/plain": [
       "0.83375477993902658"
      ]
     },
     "execution_count": 77,
     "metadata": {},
     "output_type": "execute_result"
    }
   ],
   "source": [
    "linear2 = LinearRegression()\n",
    "linear2.fit(X2_train, y2_train)\n",
    "linear2.score(X2_train, y2_train)"
   ]
  },
  {
   "cell_type": "code",
   "execution_count": 69,
   "metadata": {
    "collapsed": false
   },
   "outputs": [
    {
     "data": {
      "text/plain": [
       "0.76815973241960467"
      ]
     },
     "execution_count": 69,
     "metadata": {},
     "output_type": "execute_result"
    }
   ],
   "source": [
    "y2_predict = linear2.predict(X2_test)\n",
    "linear2.score(X2_test, y2_test)"
   ]
  },
  {
   "cell_type": "code",
   "execution_count": 28,
   "metadata": {
    "collapsed": false
   },
   "outputs": [
    {
     "data": {
      "text/plain": [
       "7010      5.996850\n",
       "115      -1.680710\n",
       "8885     -1.148660\n",
       "11153     1.855801\n",
       "14337    -7.034480\n",
       "17331     5.583096\n",
       "9803      1.359103\n",
       "6024     -3.018967\n",
       "14361     0.727547\n",
       "3546      6.803056\n",
       "2154      2.665684\n",
       "11415    -0.832232\n",
       "13919    -0.432684\n",
       "14761    -0.076369\n",
       "12105     0.875619\n",
       "1465     -2.739186\n",
       "13888    -0.460093\n",
       "7042      5.415550\n",
       "14414     2.059480\n",
       "5021      2.003997\n",
       "18038     3.671206\n",
       "5509    -17.081439\n",
       "358      -2.593503\n",
       "15248    -3.913450\n",
       "17360     9.078168\n",
       "17230     9.005295\n",
       "6069     -1.151434\n",
       "2254      3.423573\n",
       "343      -0.470667\n",
       "14863    -1.556978\n",
       "           ...    \n",
       "5279     11.596025\n",
       "13781    -2.693382\n",
       "9722      4.038790\n",
       "6000     -2.248089\n",
       "7747      1.168333\n",
       "6600     -1.603232\n",
       "14915    -0.626754\n",
       "19558    -7.596721\n",
       "4709      4.690387\n",
       "5370      7.780667\n",
       "7086      6.993504\n",
       "481      -2.013645\n",
       "8092     -6.190788\n",
       "17610     9.804842\n",
       "19108    -7.558245\n",
       "10246    -2.690974\n",
       "163      -1.180852\n",
       "4787     -0.396203\n",
       "644      -1.012873\n",
       "3817      6.995126\n",
       "9161     -2.921828\n",
       "19642    -4.613171\n",
       "6668      4.784140\n",
       "10606    -2.669922\n",
       "18601     4.122462\n",
       "9068     -2.477378\n",
       "14740    -1.453335\n",
       "16005     6.858046\n",
       "666       0.259943\n",
       "18178     2.540077\n",
       "Name: TIME, dtype: float64"
      ]
     },
     "execution_count": 28,
     "metadata": {},
     "output_type": "execute_result"
    }
   ],
   "source": [
    "y2_predict - y2_test"
   ]
  },
  {
   "cell_type": "code",
   "execution_count": null,
   "metadata": {
    "collapsed": true
   },
   "outputs": [],
   "source": []
  },
  {
   "cell_type": "code",
   "execution_count": 47,
   "metadata": {
    "collapsed": true
   },
   "outputs": [],
   "source": [
    "rfr2 = RandomForestRegressor(n_estimators=20, max_features='sqrt', oob_score=True)"
   ]
  },
  {
   "cell_type": "code",
   "execution_count": 48,
   "metadata": {
    "collapsed": false,
    "scrolled": true
   },
   "outputs": [
    {
     "data": {
      "text/plain": [
       "RandomForestRegressor(bootstrap=True, criterion='mse', max_depth=None,\n",
       "           max_features='sqrt', max_leaf_nodes=None, min_samples_leaf=1,\n",
       "           min_samples_split=2, min_weight_fraction_leaf=0.0,\n",
       "           n_estimators=20, n_jobs=1, oob_score=True, random_state=None,\n",
       "           verbose=0, warm_start=False)"
      ]
     },
     "execution_count": 48,
     "metadata": {},
     "output_type": "execute_result"
    }
   ],
   "source": [
    "rfr2.fit(X2_train, y2_train)"
   ]
  },
  {
   "cell_type": "code",
   "execution_count": 49,
   "metadata": {
    "collapsed": false
   },
   "outputs": [
    {
     "data": {
      "text/plain": [
       "0.96728737326950354"
      ]
     },
     "execution_count": 49,
     "metadata": {},
     "output_type": "execute_result"
    }
   ],
   "source": [
    "rfr2.oob_score_"
   ]
  },
  {
   "cell_type": "code",
   "execution_count": 50,
   "metadata": {
    "collapsed": false,
    "scrolled": true
   },
   "outputs": [
    {
     "data": {
      "text/plain": [
       "7010    -0.449700\n",
       "115      2.025150\n",
       "8885     2.244600\n",
       "11153    1.695613\n",
       "14337   -0.380660\n",
       "17331   -1.258138\n",
       "9803    -0.114663\n",
       "6024     1.589400\n",
       "14361   -0.166850\n",
       "3546    -0.228100\n",
       "2154    -0.843650\n",
       "11415   -0.684067\n",
       "13919    1.376017\n",
       "14761   -0.342892\n",
       "12105    3.477558\n",
       "1465    -0.721717\n",
       "13888    0.992500\n",
       "7042    -1.166700\n",
       "14414    0.501600\n",
       "5021     0.667700\n",
       "18038    0.542050\n",
       "5509     0.682200\n",
       "358     -0.331900\n",
       "15248   -0.381750\n",
       "17360   -0.065300\n",
       "17230    1.016086\n",
       "6069    -0.030900\n",
       "2254    -1.421175\n",
       "343      1.283267\n",
       "14863    1.726057\n",
       "           ...   \n",
       "5279     1.037800\n",
       "13781    0.215238\n",
       "9722     4.565050\n",
       "6000    -0.176800\n",
       "7747    -2.192000\n",
       "6600     0.532600\n",
       "14915    0.397700\n",
       "19558   -1.755150\n",
       "4709    -0.818650\n",
       "5370    -2.725300\n",
       "7086    -0.365950\n",
       "481     -1.553549\n",
       "8092    -1.446850\n",
       "17610    1.670925\n",
       "19108   -0.885450\n",
       "10246    3.618800\n",
       "163      0.859000\n",
       "4787    -4.515108\n",
       "644     -0.390614\n",
       "3817    -0.197900\n",
       "9161     1.341000\n",
       "19642    0.991150\n",
       "6668     0.020700\n",
       "10606    1.072183\n",
       "18601    0.706150\n",
       "9068    -0.204800\n",
       "14740    1.053889\n",
       "16005    1.183700\n",
       "666      0.366807\n",
       "18178   -0.829900\n",
       "Name: TIME, dtype: float64"
      ]
     },
     "execution_count": 50,
     "metadata": {},
     "output_type": "execute_result"
    }
   ],
   "source": [
    "rfr2.predict(X2_test) - y2_test"
   ]
  },
  {
   "cell_type": "code",
   "execution_count": 51,
   "metadata": {
    "collapsed": false
   },
   "outputs": [
    {
     "data": {
      "text/plain": [
       "0.99333654541341787"
      ]
     },
     "execution_count": 51,
     "metadata": {},
     "output_type": "execute_result"
    }
   ],
   "source": [
    "rfr2.score(X2_train, y2_train)"
   ]
  },
  {
   "cell_type": "code",
   "execution_count": 52,
   "metadata": {
    "collapsed": false
   },
   "outputs": [
    {
     "data": {
      "text/plain": [
       "0.97658787659149715"
      ]
     },
     "execution_count": 52,
     "metadata": {},
     "output_type": "execute_result"
    }
   ],
   "source": [
    "rfr2.score(X2_test, y2_test)"
   ]
  },
  {
   "cell_type": "code",
   "execution_count": 53,
   "metadata": {
    "collapsed": false
   },
   "outputs": [
    {
     "data": {
      "text/plain": [
       "array([ 0.02207809,  0.01222142,  0.33010442,  0.04942634,  0.08501465,\n",
       "        0.08567886,  0.05268774,  0.05929288,  0.0736983 ,  0.09517426,\n",
       "        0.11906978,  0.00121302,  0.00377299,  0.00054615,  0.0100211 ])"
      ]
     },
     "execution_count": 53,
     "metadata": {},
     "output_type": "execute_result"
    }
   ],
   "source": [
    "rfr2.feature_importances_"
   ]
  },
  {
   "cell_type": "code",
   "execution_count": null,
   "metadata": {
    "collapsed": true
   },
   "outputs": [],
   "source": []
  },
  {
   "cell_type": "markdown",
   "metadata": {},
   "source": [
    "### Sklearn LinearReg Model, no cross val"
   ]
  },
  {
   "cell_type": "code",
   "execution_count": null,
   "metadata": {
    "collapsed": false
   },
   "outputs": [],
   "source": [
    "linear = LinearRegression()\n",
    "linear.fit(X_train, y_train)\n",
    "linear.score(X_train, y_train)"
   ]
  },
  {
   "cell_type": "code",
   "execution_count": null,
   "metadata": {
    "collapsed": false
   },
   "outputs": [],
   "source": [
    "y_predict = linear.predict(X_test)\n",
    "linear.score(X_test, y_test)"
   ]
  },
  {
   "cell_type": "code",
   "execution_count": null,
   "metadata": {
    "collapsed": false
   },
   "outputs": [],
   "source": [
    "y_predict - y_test"
   ]
  },
  {
   "cell_type": "markdown",
   "metadata": {},
   "source": [
    "### Sklearn LinearReg Model, with cross val"
   ]
  },
  {
   "cell_type": "code",
   "execution_count": null,
   "metadata": {
    "collapsed": false
   },
   "outputs": [],
   "source": [
    "linear_cv = cross_val_score(linear, X, y, scoring='r2', cv=5)\n",
    "linear_cv"
   ]
  },
  {
   "cell_type": "markdown",
   "metadata": {},
   "source": [
    "### RandomForestRegressor"
   ]
  },
  {
   "cell_type": "code",
   "execution_count": null,
   "metadata": {
    "collapsed": true
   },
   "outputs": [],
   "source": [
    "rfr = RandomForestRegressor(n_estimators=15, max_features='auto', oob_score=True)"
   ]
  },
  {
   "cell_type": "code",
   "execution_count": null,
   "metadata": {
    "collapsed": false
   },
   "outputs": [],
   "source": [
    "rfr.fit(X_train, y_train)"
   ]
  },
  {
   "cell_type": "code",
   "execution_count": null,
   "metadata": {
    "collapsed": false
   },
   "outputs": [],
   "source": [
    "rfr.oob_score_"
   ]
  },
  {
   "cell_type": "code",
   "execution_count": null,
   "metadata": {
    "collapsed": false,
    "scrolled": true
   },
   "outputs": [],
   "source": [
    "rfr.predict(X_test) - y_test"
   ]
  },
  {
   "cell_type": "code",
   "execution_count": null,
   "metadata": {
    "collapsed": false
   },
   "outputs": [],
   "source": [
    "rfr.score(X_train, y_train)"
   ]
  },
  {
   "cell_type": "code",
   "execution_count": null,
   "metadata": {
    "collapsed": false
   },
   "outputs": [],
   "source": [
    "rfr.score(X_test, y_test)"
   ]
  },
  {
   "cell_type": "markdown",
   "metadata": {},
   "source": [
    "### AdaBoostRegressor"
   ]
  },
  {
   "cell_type": "code",
   "execution_count": null,
   "metadata": {
    "collapsed": true
   },
   "outputs": [],
   "source": [
    "abr = AdaBoostRegressor(base_estimator=rfr, n_estimators=400, learning_rate=.01, loss='square')"
   ]
  },
  {
   "cell_type": "code",
   "execution_count": null,
   "metadata": {
    "collapsed": false
   },
   "outputs": [],
   "source": [
    "abr.fit(X_train, y_train)"
   ]
  },
  {
   "cell_type": "code",
   "execution_count": null,
   "metadata": {
    "collapsed": false
   },
   "outputs": [],
   "source": [
    "abr.score(X_train, y_train)"
   ]
  },
  {
   "cell_type": "code",
   "execution_count": null,
   "metadata": {
    "collapsed": false
   },
   "outputs": [],
   "source": [
    "abr.score(X_test, y_test)"
   ]
  },
  {
   "cell_type": "code",
   "execution_count": null,
   "metadata": {
    "collapsed": false,
    "scrolled": true
   },
   "outputs": [],
   "source": [
    "abr.predict(X_test) - y_test"
   ]
  },
  {
   "cell_type": "markdown",
   "metadata": {},
   "source": [
    "## Plot All Lap times vs Lap, Labeled by Tire type"
   ]
  },
  {
   "cell_type": "code",
   "execution_count": null,
   "metadata": {
    "collapsed": false
   },
   "outputs": [],
   "source": [
    "def plot_drivers(df, race):\n",
    "    sn.set_style(style='whitegrid')\n",
    "    year, race_num, track = race.split('_')\n",
    "    this_race = df[(df['TRACK'] == track) & (df['YEAR'] == int(year))]\n",
    "    for num in this_race['NO'].unique():\n",
    "        driver_idx = this_race['NO'] == num\n",
    "        plt.figure(figsize=(12,6))\n",
    "        plt.title('{} {} - Driver No. {}'.format(track.upper(), year, num))\n",
    "        plt.xlim([0, this_race['LAP'].max() + 1])\n",
    "        plt.scatter(this_race['LAP'][driver_idx], this_race['TIME'][driver_idx], c=this_race['TIRE'][driver_idx].apply(assign_color), alpha=1)\n",
    "    plt.show()\n",
    "    \n",
    "def plot_race(df, race):\n",
    "    year, race_num, track = race.split('_')\n",
    "    this_race = df[(df['TRACK'] == track) & (df['YEAR'] == int(year))]\n",
    "    plt.figure(figsize=(12,6))\n",
    "    plt.title('{} {}'.format(track.upper(), year))\n",
    "    plt.xlim([0, this_race['LAP'].max() + 1])\n",
    "    plt.scatter(this_race['LAP'], this_race['TIME'], c=this_race['TIRE'].apply(assign_color), alpha=.5)\n",
    "    plt.show()"
   ]
  },
  {
   "cell_type": "code",
   "execution_count": null,
   "metadata": {
    "collapsed": true
   },
   "outputs": [],
   "source": [
    "plot_drivers(all_lap_times, '2016_1_australia')"
   ]
  },
  {
   "cell_type": "code",
   "execution_count": null,
   "metadata": {
    "collapsed": false,
    "scrolled": true
   },
   "outputs": [],
   "source": [
    "plot_drivers(no_safety, '2016_2_bahrain')"
   ]
  },
  {
   "cell_type": "code",
   "execution_count": null,
   "metadata": {
    "collapsed": false
   },
   "outputs": [],
   "source": [
    "for race in ['2016_1_bahrain']:\n",
    "    plot_race(all_lap_times, race)"
   ]
  },
  {
   "cell_type": "code",
   "execution_count": null,
   "metadata": {
    "collapsed": false,
    "scrolled": true
   },
   "outputs": [],
   "source": [
    "for race in races:\n",
    "    plot_race(no_safety, race)"
   ]
  },
  {
   "cell_type": "markdown",
   "metadata": {},
   "source": [
    "## TEST CODE BELOW"
   ]
  },
  {
   "cell_type": "code",
   "execution_count": null,
   "metadata": {
    "collapsed": false,
    "scrolled": true
   },
   "outputs": [],
   "source": [
    "no_safety[(no_safety['NO'] == 20) & (no_safety['TRACK'] == 'australia') & (no_safety['YEAR'] == 2016)]"
   ]
  },
  {
   "cell_type": "code",
   "execution_count": null,
   "metadata": {
    "collapsed": false,
    "scrolled": true
   },
   "outputs": [],
   "source": [
    "all_lap_times.ix[:80]\n"
   ]
  },
  {
   "cell_type": "code",
   "execution_count": null,
   "metadata": {
    "collapsed": false
   },
   "outputs": [],
   "source": [
    "# df['STINT_LAP'] = 1\n",
    "# idx = df[df['GAP'] == 'PIT'].index\n",
    "# start = 0\n",
    "# for val in idx:\n",
    "#     df['STINT_LAP'] = df.ix[start:val]['STINT_LAP'].apply(cumsum, axis=0)\n",
    "#     start = val + 1\n",
    "\n",
    "    "
   ]
  },
  {
   "cell_type": "code",
   "execution_count": null,
   "metadata": {
    "collapsed": false
   },
   "outputs": [],
   "source": [
    "all_lap_times['STINT_LAP'] = 1\n",
    "idx = all_lap_times[all_lap_times['GAP'] == 'PIT'].index\n",
    "start = 0\n",
    "for val in idx:\n",
    "    all_lap_times['STINT_LAP'].ix[start:val] = all_lap_times.ix[start:val]['STINT_LAP'].cumsum()\n",
    "    start = val + 1\n",
    "end = all_lap_times.index[-1]\n",
    "all_lap_times['STINT_LAP'].ix[start:end] = all_lap_times.ix[start:end]['STINT_LAP'].cumsum()\n"
   ]
  },
  {
   "cell_type": "code",
   "execution_count": null,
   "metadata": {
    "collapsed": false,
    "scrolled": true
   },
   "outputs": [],
   "source": [
    "all_lap_times\n",
    "\n"
   ]
  },
  {
   "cell_type": "code",
   "execution_count": null,
   "metadata": {
    "collapsed": false
   },
   "outputs": [],
   "source": [
    "all_lap_times.index[-1]"
   ]
  },
  {
   "cell_type": "code",
   "execution_count": null,
   "metadata": {
    "collapsed": false,
    "scrolled": false
   },
   "outputs": [],
   "source": [
    "print all_lap_times.head()\n",
    "print all_lap_times.ix[0:5]['GAP'].astype(float)\n",
    "print all_lap_times.ix[0:5]['GAP'].shift(1).fillna(value=0).astype(float)"
   ]
  },
  {
   "cell_type": "code",
   "execution_count": null,
   "metadata": {
    "collapsed": true
   },
   "outputs": [],
   "source": [
    "foo = f1.load_tracks()\n",
    "bar = tracks[]"
   ]
  }
 ],
 "metadata": {
  "kernelspec": {
   "display_name": "Python 2",
   "language": "python",
   "name": "python2"
  },
  "language_info": {
   "codemirror_mode": {
    "name": "ipython",
    "version": 2
   },
   "file_extension": ".py",
   "mimetype": "text/x-python",
   "name": "python",
   "nbconvert_exporter": "python",
   "pygments_lexer": "ipython2",
   "version": "2.7.11"
  }
 },
 "nbformat": 4,
 "nbformat_minor": 0
}
